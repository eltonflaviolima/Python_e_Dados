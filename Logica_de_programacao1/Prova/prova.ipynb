{
 "cells": [
  {
   "cell_type": "code",
   "execution_count": 1,
   "metadata": {},
   "outputs": [],
   "source": [
    "import random"
   ]
  },
  {
   "cell_type": "code",
   "execution_count": 14,
   "metadata": {},
   "outputs": [
    {
     "name": "stdout",
     "output_type": "stream",
     "text": [
      "3\n",
      "O número sorteado é menor!\n",
      "O número sorteado é menor!\n",
      "30\n"
     ]
    }
   ],
   "source": [
    "n_sorteado = random.randint(1,10)\n",
    "print(n_sorteado)\n",
    "tentativa = 0\n",
    "pontos = 0\n",
    "\n",
    "for tentativa in range(3):\n",
    "    n_palpite = int(input('Digite o seu palpite: '))\n",
    "\n",
    "    if (n_palpite == n_sorteado) and tentativa == 0:\n",
    "        pontos = 100\n",
    "        break;\n",
    "    elif (n_palpite == n_sorteado) and tentativa == 1:\n",
    "        pontos = 60\n",
    "        break;\n",
    "    elif (n_palpite == n_sorteado) and tentativa == 2:\n",
    "        pontos = 30\n",
    "        break;\n",
    "    elif (n_palpite > n_sorteado):\n",
    "        print('O número sorteado é menor!')\n",
    "    elif (n_palpite < n_sorteado):\n",
    "        print('O número sorteado é maior!')\n",
    "print(pontos)"
   ]
  },
  {
   "cell_type": "code",
   "execution_count": 23,
   "metadata": {},
   "outputs": [
    {
     "name": "stdout",
     "output_type": "stream",
     "text": [
      "10\n",
      "O número sorteado é maior!\n",
      "O número sorteado é maior!\n",
      "Você ganhou 30 pontos!\n"
     ]
    }
   ],
   "source": [
    "import random\n",
    "n_sorteado = random.randint(1,10)\n",
    "tentativa = 0\n",
    "pontos = 0\n",
    "\n",
    "for tentativa in range(3):\n",
    "    n_palpite = int(input('Digite o seu palpite: '))\n",
    "\n",
    "    if (n_palpite == n_sorteado): \n",
    "        if tentativa == 0:\n",
    "            pontos = 100\n",
    "            break;\n",
    "        elif tentativa == 1:\n",
    "            pontos = 60\n",
    "            break;\n",
    "        else:\n",
    "            pontos = 30\n",
    "            break;\n",
    "    elif (n_palpite > n_sorteado):\n",
    "        print('O número sorteado é menor!')\n",
    "    else:\n",
    "        print('O número sorteado é maior!')\n",
    "else:\n",
    "    print(f'Você não acertou o número.')\n",
    "print(f'Você ganhou {pontos} pontos!')"
   ]
  },
  {
   "cell_type": "code",
   "execution_count": 60,
   "metadata": {},
   "outputs": [],
   "source": [
    "def captura_entrada():\n",
    "    entrada = input('Digite a operação no seguinte formato \"numero1,numero2,operação\" -> Ex: 1,2,soma: ').upper()\n",
    "    n1, n2, op = entrada.split(',')\n",
    "    return n1, n2, op\n"
   ]
  },
  {
   "cell_type": "code",
   "execution_count": 74,
   "metadata": {},
   "outputs": [],
   "source": [
    "def valida_numero(n):\n",
    "    try:\n",
    "        n = int(n)\n",
    "        return True\n",
    "    except:\n",
    "        print(f\"Não pode converter a entrada '{n}' em número\")\n",
    "        return False"
   ]
  },
  {
   "cell_type": "code",
   "execution_count": 73,
   "metadata": {},
   "outputs": [],
   "source": [
    "def calcula(n1, n2, op):\n",
    "    if valida_numero(n1) and valida_numero(n2):\n",
    "        n1 = int(n1)\n",
    "        n2 = int(n2)\n",
    "        if op == 'SOMA':\n",
    "            resultado = n1 + n2\n",
    "        elif op == 'DIFERENÇA':\n",
    "            resultado = n1 - n2\n",
    "        elif op == 'MULTIPLICAÇÃO':\n",
    "            resultado = n1 * n2\n",
    "        elif op == 'DIVISÃO':\n",
    "            if n1 == 0 or n2 == 0: \n",
    "                resultado = 0\n",
    "            else:   \n",
    "                resultado = n1 / n2\n",
    "\n",
    "        return resultado\n",
    "    else:\n",
    "        return 'Operação inválida!'"
   ]
  },
  {
   "cell_type": "code",
   "execution_count": 77,
   "metadata": {},
   "outputs": [
    {
     "name": "stdout",
     "output_type": "stream",
     "text": [
      "5 <class 'int'>\n",
      "3 <class 'int'>\n",
      "passou\n",
      "1.6666666666666667\n"
     ]
    }
   ],
   "source": [
    "num1, num2, oper = captura_entrada()\n",
    "resultado = calcula(num1, num2, oper)\n",
    "print(resultado)"
   ]
  },
  {
   "cell_type": "code",
   "execution_count": 127,
   "metadata": {},
   "outputs": [],
   "source": [
    "provas = [['Teo', 8], ['João', 5], ['Marília', 7], ['Jonathan',9]]"
   ]
  },
  {
   "cell_type": "code",
   "execution_count": 128,
   "metadata": {},
   "outputs": [],
   "source": [
    "qtd_alunos = 0\n",
    "while not(qtd_alunos <= 5 and qtd_alunos > 1):\n",
    "    qtd_alunos = int(input('Digite o números de aluno que serão adicionados a lista: '))\n"
   ]
  },
  {
   "cell_type": "code",
   "execution_count": 129,
   "metadata": {},
   "outputs": [
    {
     "name": "stdout",
     "output_type": "stream",
     "text": [
      "Teo já foi lançado!\n",
      "elton já foi lançado!\n"
     ]
    }
   ],
   "source": [
    "for i in range(qtd_alunos):\n",
    "    entrada = input('Digite o nome do aluno e sua nota separados por virgula: ')\n",
    "    aluno, nota = entrada.split(',')\n",
    "    prova = [aluno, nota]\n",
    "    for j in range(len(provas)):\n",
    "        if (prova[0] == provas[j][0]):\n",
    "            print(f'{prova[0]} já foi lançado!')\n",
    "            break\n",
    "        if not(int(prova[1]) >= 0) and (int(prova[1]) <= 10):\n",
    "            print('Nota inválida!')\n",
    "            break\n",
    "    else:\n",
    "        provas.append(prova)"
   ]
  },
  {
   "cell_type": "code",
   "execution_count": 143,
   "metadata": {},
   "outputs": [
    {
     "name": "stdout",
     "output_type": "stream",
     "text": [
      "7.8\n"
     ]
    }
   ],
   "source": [
    "soma = 0\n",
    "for prova in provas:\n",
    "    soma += int(prova[1])\n",
    "    media = soma / len(provas)\n",
    "print(media)"
   ]
  },
  {
   "cell_type": "code",
   "execution_count": 144,
   "metadata": {},
   "outputs": [],
   "source": [
    "aprovados = []\n",
    "for prova in provas:\n",
    "    if int(prova[1]) >= media:\n",
    "        aprovados.append(prova)"
   ]
  },
  {
   "cell_type": "code",
   "execution_count": 145,
   "metadata": {},
   "outputs": [
    {
     "name": "stdout",
     "output_type": "stream",
     "text": [
      "[['Teo', 8], ['João', 5], ['Marília', 7], ['Jonathan', 9], ['elton', '10']]\n",
      "[['Teo', 8], ['Jonathan', 9], ['elton', '10']]\n"
     ]
    }
   ],
   "source": [
    "print(provas)\n",
    "print(aprovados)"
   ]
  }
 ],
 "metadata": {
  "kernelspec": {
   "display_name": "Python 3.9.10 64-bit",
   "language": "python",
   "name": "python3"
  },
  "language_info": {
   "codemirror_mode": {
    "name": "ipython",
    "version": 3
   },
   "file_extension": ".py",
   "mimetype": "text/x-python",
   "name": "python",
   "nbconvert_exporter": "python",
   "pygments_lexer": "ipython3",
   "version": "3.9.10"
  },
  "orig_nbformat": 4,
  "vscode": {
   "interpreter": {
    "hash": "4f12edece1b6ed8dc2a09be6f356fe005f2a039c320a3a2809fb3b7d30b40e33"
   }
  }
 },
 "nbformat": 4,
 "nbformat_minor": 2
}
