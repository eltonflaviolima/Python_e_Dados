{
 "cells": [
  {
   "cell_type": "code",
   "execution_count": 1,
   "metadata": {},
   "outputs": [
    {
     "name": "stdout",
     "output_type": "stream",
     "text": [
      "10\n"
     ]
    }
   ],
   "source": [
    "contador = 0\n",
    "\n",
    "contador = contador + 1\n",
    "contador = contador + 1\n",
    "contador = contador + 1\n",
    "contador = contador + 1\n",
    "contador = contador + 1\n",
    "contador = contador + 1\n",
    "contador = contador + 1\n",
    "contador = contador + 1\n",
    "contador = contador + 1\n",
    "contador = contador + 1\n",
    "\n",
    "print(contador)"
   ]
  },
  {
   "cell_type": "code",
   "execution_count": 2,
   "metadata": {},
   "outputs": [
    {
     "name": "stdout",
     "output_type": "stream",
     "text": [
      "0\n",
      "1\n",
      "2\n",
      "3\n",
      "4\n",
      "5\n",
      "6\n",
      "7\n",
      "8\n",
      "9\n"
     ]
    }
   ],
   "source": [
    "for i in range(10):\n",
    "    print(i)"
   ]
  },
  {
   "cell_type": "code",
   "execution_count": 4,
   "metadata": {},
   "outputs": [
    {
     "data": {
      "text/plain": [
       "range(-10, 10)"
      ]
     },
     "execution_count": 4,
     "metadata": {},
     "output_type": "execute_result"
    }
   ],
   "source": [
    "# range(inicio, final)\n",
    "range(-10, 10)"
   ]
  },
  {
   "cell_type": "code",
   "execution_count": 5,
   "metadata": {},
   "outputs": [
    {
     "name": "stdout",
     "output_type": "stream",
     "text": [
      "10\n",
      "45\n"
     ]
    }
   ],
   "source": [
    "contador = 0\n",
    "contador_2 = 0\n",
    "\n",
    "for i in range(0, 10):\n",
    "    contador = contador + 1\n",
    "    contador_2 = contador_2 + i\n",
    "\n",
    "print(contador)\n",
    "print(contador_2)"
   ]
  },
  {
   "cell_type": "code",
   "execution_count": 6,
   "metadata": {},
   "outputs": [
    {
     "name": "stdout",
     "output_type": "stream",
     "text": [
      "28\n",
      "E\n",
      "l\n",
      "t\n",
      "o\n",
      "n\n",
      " \n",
      "F\n",
      "l\n",
      "á\n",
      "v\n",
      "i\n",
      "o\n",
      " \n",
      "d\n",
      "e\n",
      " \n",
      "A\n",
      "n\n",
      "d\n",
      "r\n",
      "a\n",
      "d\n",
      "e\n",
      " \n",
      "L\n",
      "i\n",
      "m\n",
      "a\n"
     ]
    }
   ],
   "source": [
    "nome = 'Elton Flávio de Andrade Lima'\n",
    "\n",
    "print(len(nome))\n",
    "\n",
    "for i in range(len(nome)):\n",
    "    print(nome[i])"
   ]
  },
  {
   "cell_type": "code",
   "execution_count": 9,
   "metadata": {},
   "outputs": [],
   "source": [
    "alunos = []"
   ]
  },
  {
   "cell_type": "code",
   "execution_count": 17,
   "metadata": {},
   "outputs": [
    {
     "name": "stdout",
     "output_type": "stream",
     "text": [
      "['Elton', 'Leticia', 'Teo', 'Paulo', 'Joao', 'Maria', 'Carla']\n"
     ]
    }
   ],
   "source": [
    "nome = input('Digite o nome do aluno: ')\n",
    "\n",
    "alunos.append(nome)\n",
    "\n",
    "print(alunos)"
   ]
  },
  {
   "cell_type": "code",
   "execution_count": 22,
   "metadata": {},
   "outputs": [
    {
     "name": "stdout",
     "output_type": "stream",
     "text": [
      "Lista inteira: ['Elton', 'Leticia', 'Teo', 'Paulo', 'Joao', 'Maria', 'Carla']\n",
      "['Elton', 'Leticia']\n",
      "['Elton', 'Leticia', 'Teo']\n",
      "['Teo', 'Paulo', 'Joao', 'Maria', 'Carla']\n",
      "['Elton', 'Leticia', 'Teo', 'Paulo', 'Joao', 'Maria', 'Carla']\n",
      "['Elton', 'Teo', 'Joao', 'Carla']\n",
      "['Leticia', 'Paulo']\n",
      "['Carla', 'Maria', 'Joao', 'Paulo', 'Teo', 'Leticia', 'Elton']\n",
      "['Carla', 'Maria', 'Joao', 'Paulo']\n"
     ]
    }
   ],
   "source": [
    "# slicing[start:end:step]\n",
    "print(f'Lista inteira: {alunos}')\n",
    "\n",
    "print(alunos[0:2]) # define o inicio e o fim do intervalo\n",
    "print(alunos[:3]) # começa do 0 e vai até o fim definido\n",
    "print(alunos[2:]) # começa do número definido e vai até o final\n",
    "print(alunos[:]) # vai do inicio ao fim, mesma coisa de não colocar nada\n",
    "print(alunos[::2]) # define o step e ele salta aquela quantidade\n",
    "print(alunos[1:5:2]) # define o step e ele salta aquela quantidade com inicio e fim definidos\n",
    "print(alunos[::-1]) # inverso sem fim nem começo definido\n",
    "print(alunos[:2:-1]) # inveso com fim defindo e começo indefinido\n"
   ]
  },
  {
   "cell_type": "code",
   "execution_count": 25,
   "metadata": {},
   "outputs": [
    {
     "name": "stdout",
     "output_type": "stream",
     "text": [
      "Máximo: 7\n",
      "Mínimo: 1\n"
     ]
    }
   ],
   "source": [
    "lista = [1,4,7,3,2,6,1,2,7,4,6]\n",
    "\n",
    "print(f'Máximo: {max(lista)}')\n",
    "print(f'Mínimo: {min(lista)}')"
   ]
  },
  {
   "cell_type": "code",
   "execution_count": 26,
   "metadata": {},
   "outputs": [
    {
     "name": "stdout",
     "output_type": "stream",
     "text": [
      "[1, 4, 7, 3, 2, 6, 1, 2, 7, 4, 6]\n",
      "[1, 1, 2, 2, 3, 4, 4, 6, 6, 7, 7]\n"
     ]
    }
   ],
   "source": [
    "lista = [1,4,7,3,2,6,1,2,7,4,6]\n",
    "\n",
    "print(lista)\n",
    "lista.sort() # altera definitivamente a lista\n",
    "print(lista)"
   ]
  },
  {
   "cell_type": "code",
   "execution_count": 27,
   "metadata": {},
   "outputs": [
    {
     "name": "stdout",
     "output_type": "stream",
     "text": [
      "[1, 4, 7, 3, 2, 6, 1, 2, 7, 4, 6]\n",
      "[1, 1, 2, 2, 3, 4, 4, 6, 6, 7, 7]\n",
      "[1, 4, 7, 3, 2, 6, 1, 2, 7, 4, 6]\n"
     ]
    }
   ],
   "source": [
    "lista = [1,4,7,3,2,6,1,2,7,4,6]\n",
    "\n",
    "print(lista)\n",
    "print(sorted(lista)) # altera definitivamente a lista\n",
    "print(lista)"
   ]
  }
 ],
 "metadata": {
  "kernelspec": {
   "display_name": "Python 3.9.10 64-bit",
   "language": "python",
   "name": "python3"
  },
  "language_info": {
   "codemirror_mode": {
    "name": "ipython",
    "version": 3
   },
   "file_extension": ".py",
   "mimetype": "text/x-python",
   "name": "python",
   "nbconvert_exporter": "python",
   "pygments_lexer": "ipython3",
   "version": "3.9.10"
  },
  "orig_nbformat": 4,
  "vscode": {
   "interpreter": {
    "hash": "4f12edece1b6ed8dc2a09be6f356fe005f2a039c320a3a2809fb3b7d30b40e33"
   }
  }
 },
 "nbformat": 4,
 "nbformat_minor": 2
}
