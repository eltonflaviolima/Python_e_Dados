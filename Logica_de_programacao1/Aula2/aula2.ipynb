{
 "cells": [
  {
   "cell_type": "markdown",
   "metadata": {},
   "source": [
    "## Tópicos da aula\n",
    "\n",
    "- Primeiros comandos\n",
    "- O que são variáveis?\n",
    "- Tipos básicos\n",
    "- Input/Output\n",
    "- Coerção de tipos\n",
    "- Operadores Algébricos\n",
    "- Operadores Lógicos"
   ]
  },
  {
   "cell_type": "markdown",
   "metadata": {},
   "source": [
    "## Primeiros comandos\n",
    "\n",
    "- Hello World\n",
    "- Identação\n",
    "- Erros\n",
    "- Sintaxe\n",
    "- Encerramento de comandos\n",
    "- Comandos de exibição:\n",
    "    - Quebra de linha\n",
    "    - Tabulação\n",
    "    - Quebra de código\n",
    "- f-Strings"
   ]
  },
  {
   "cell_type": "markdown",
   "metadata": {},
   "source": [
    "print('Hello')"
   ]
  },
  {
   "cell_type": "code",
   "execution_count": null,
   "metadata": {},
   "outputs": [],
   "source": []
  },
  {
   "cell_type": "markdown",
   "metadata": {},
   "source": [
    "## dicas do notebook\n",
    "\n",
    "esc + d d (exclui a celula)\n",
    "\n",
    "esc + b (inclui uma linha de codigo abaixo)\n",
    "\n",
    "shift + enter (executa a linha atual)\n",
    "\n",
    "esc + a coloca o código acima\n",
    "\n",
    "ctrl + enter = executa sem ir para a linha (bloco) abaixo"
   ]
  },
  {
   "cell_type": "code",
   "execution_count": null,
   "metadata": {},
   "outputs": [],
   "source": []
  },
  {
   "cell_type": "code",
   "execution_count": 10,
   "metadata": {},
   "outputs": [
    {
     "name": "stdout",
     "output_type": "stream",
     "text": [
      "Hello World\n",
      "Meu nome é teo\n",
      "Turma 892\n"
     ]
    }
   ],
   "source": [
    "print('Hello World')\n",
    "print('Meu nome é teo')\n",
    "print('Turma 892')\n",
    "\n",
    "# shift + tab = recua a identação\n",
    "# jogo da velha serve para colocar comentários no código do python\n"
   ]
  },
  {
   "cell_type": "code",
   "execution_count": 11,
   "metadata": {},
   "outputs": [
    {
     "ename": "IndentationError",
     "evalue": "unexpected indent (3760792604.py, line 2)",
     "output_type": "error",
     "traceback": [
      "\u001b[1;36m  Cell \u001b[1;32mIn [11], line 2\u001b[1;36m\u001b[0m\n\u001b[1;33m    print('Teo')\u001b[0m\n\u001b[1;37m    ^\u001b[0m\n\u001b[1;31mIndentationError\u001b[0m\u001b[1;31m:\u001b[0m unexpected indent\n"
     ]
    }
   ],
   "source": [
    "print('Hello')\n",
    "print('Teo')\n",
    "\n"
   ]
  },
  {
   "cell_type": "code",
   "execution_count": 14,
   "metadata": {},
   "outputs": [
    {
     "name": "stdout",
     "output_type": "stream",
     "text": [
      "15\n"
     ]
    }
   ],
   "source": [
    "10 + 2\n",
    "print(10+5)"
   ]
  },
  {
   "cell_type": "code",
   "execution_count": 18,
   "metadata": {},
   "outputs": [
    {
     "name": "stdout",
     "output_type": "stream",
     "text": [
      "não precisa do ponto e virgula\n"
     ]
    }
   ],
   "source": [
    "print('não precisa do ponto e virgula')\n",
    "# python não é necessário colocar o ; no final do comando"
   ]
  },
  {
   "cell_type": "code",
   "execution_count": 20,
   "metadata": {},
   "outputs": [
    {
     "name": "stdout",
     "output_type": "stream",
     "text": [
      "Teste do comando\n"
     ]
    }
   ],
   "source": [
    "print('Teste do comando')"
   ]
  },
  {
   "cell_type": "code",
   "execution_count": 21,
   "metadata": {},
   "outputs": [
    {
     "name": "stdout",
     "output_type": "stream",
     "text": [
      "Teodor\n",
      "Henrique\n",
      "de\n",
      "freitas\n",
      "barczewski\n"
     ]
    }
   ],
   "source": [
    "print('Teodor')\n",
    "print('Henrique')\n",
    "print('de')\n",
    "print('freitas')\n",
    "print('barczewski')"
   ]
  },
  {
   "cell_type": "code",
   "execution_count": 22,
   "metadata": {},
   "outputs": [
    {
     "name": "stdout",
     "output_type": "stream",
     "text": [
      "Teodor\n",
      "Henrique\n",
      "de\n",
      "Freitas\n",
      "Barczewski\n"
     ]
    }
   ],
   "source": [
    "print('Teodor\\nHenrique\\nde\\nFreitas\\nBarczewski')"
   ]
  },
  {
   "cell_type": "code",
   "execution_count": 27,
   "metadata": {},
   "outputs": [
    {
     "name": "stdout",
     "output_type": "stream",
     "text": [
      "Teodor Henrique"
     ]
    }
   ],
   "source": [
    "print('Teodor', end='')\n",
    "print(' Henrique', end='' )\n",
    "print(' Henrique', end='' )\n",
    "print(' Henrique', end='' )\n",
    "print(' Henrique', end='' )\n",
    "print(' Henrique', end='' )\n",
    "print(' Henrique', end='' )\n",
    "print(' Henrique', end='' )\n",
    "print(' Henrique', end='' )\n",
    "print(' Henrique', end='' )\n",
    "print(' Henrique', end='' )\n",
    "print(' Henrique', end='' )\n",
    "# shift + alt + seta para baixo (copia o codigo)\n"
   ]
  },
  {
   "cell_type": "code",
   "execution_count": 29,
   "metadata": {},
   "outputs": [
    {
     "name": "stdout",
     "output_type": "stream",
     "text": [
      "Texto 01\n",
      "\tQuebra 02\n",
      "\t\t\t\tTeo\n"
     ]
    }
   ],
   "source": [
    "print('Texto 01')\n",
    "print('\\tQuebra 02')\n",
    "print('\\t\\t\\t\\tTeo')"
   ]
  },
  {
   "cell_type": "code",
   "execution_count": 34,
   "metadata": {},
   "outputs": [
    {
     "name": "stdout",
     "output_type": "stream",
     "text": [
      "Teodor com aspas simples\n",
      "Teodor com aspas duplas\n",
      "Teste de \"aspas\"\n",
      "Teste de \"aspas\"\n"
     ]
    }
   ],
   "source": [
    "print('Teodor com aspas simples')\n",
    "print(\"Teodor com aspas duplas\")\n",
    "\n",
    "print(\"Teste de \\\"aspas\\\"\")\n",
    "print('Teste de \"aspas\"')"
   ]
  },
  {
   "cell_type": "code",
   "execution_count": 39,
   "metadata": {},
   "outputs": [
    {
     "name": "stdout",
     "output_type": "stream",
     "text": [
      "4\r"
     ]
    }
   ],
   "source": [
    "import time\n",
    "for i in range(5):\n",
    "    print(i, end='\\r') #substitui o conteúdo anterior\n",
    "    time.sleep(1)"
   ]
  },
  {
   "cell_type": "code",
   "execution_count": 43,
   "metadata": {},
   "outputs": [
    {
     "name": "stdout",
     "output_type": "stream",
     "text": [
      "Teo\n",
      "Teste\n",
      "Mais um texto\n"
     ]
    }
   ],
   "source": [
    "print('Teo','Teste','Mais um texto', sep='\\n')\n",
    "# Usando o sep='|' realiza uma quebra entre os textos do print"
   ]
  },
  {
   "cell_type": "markdown",
   "metadata": {},
   "source": [
    "## Tipos Básicos\n",
    "\n",
    "- inteiro\n",
    "- string\n",
    "- float (ou decimais)\n",
    "- booleanos\n",
    "- Outros: lista, dict"
   ]
  },
  {
   "cell_type": "code",
   "execution_count": 44,
   "metadata": {},
   "outputs": [
    {
     "data": {
      "text/plain": [
       "'Isto é uma string'"
      ]
     },
     "execution_count": 44,
     "metadata": {},
     "output_type": "execute_result"
    }
   ],
   "source": [
    "# inteiro -> numeros\n",
    "# float (decimais) -> numeros com casas decimais\n",
    "# string -> textos \n",
    "\"Isto é uma string\"\n",
    "# booleano -> True ou False"
   ]
  },
  {
   "cell_type": "code",
   "execution_count": 47,
   "metadata": {},
   "outputs": [
    {
     "ename": "TypeError",
     "evalue": "can only concatenate str (not \"int\") to str",
     "output_type": "error",
     "traceback": [
      "\u001b[1;31m---------------------------------------------------------------------------\u001b[0m",
      "\u001b[1;31mTypeError\u001b[0m                                 Traceback (most recent call last)",
      "Cell \u001b[1;32mIn [47], line 2\u001b[0m\n\u001b[0;32m      1\u001b[0m \u001b[38;5;66;03m# somando strings, é uma concatenação\u001b[39;00m\n\u001b[1;32m----> 2\u001b[0m \u001b[38;5;124;43m'\u001b[39;49m\u001b[38;5;124;43m1\u001b[39;49m\u001b[38;5;124;43m'\u001b[39;49m\u001b[43m \u001b[49m\u001b[38;5;241;43m+\u001b[39;49m\u001b[43m \u001b[49m\u001b[38;5;241;43m5\u001b[39;49m\n",
      "\u001b[1;31mTypeError\u001b[0m: can only concatenate str (not \"int\") to str"
     ]
    }
   ],
   "source": [
    "# somando strings, é uma concatenação\n",
    "'1' + 5"
   ]
  },
  {
   "cell_type": "code",
   "execution_count": 53,
   "metadata": {},
   "outputs": [
    {
     "name": "stdout",
     "output_type": "stream",
     "text": [
      "<class 'str'>\n",
      "<class 'str'>\n",
      "<class 'int'>\n",
      "<class 'float'>\n"
     ]
    }
   ],
   "source": [
    "print(type('Teo'))\n",
    "print(type('5'))\n",
    "print(type(5))\n",
    "print(type(5.5))\n",
    "\n",
    "#type() -> retorna qual o tipo daquele conteudo"
   ]
  },
  {
   "cell_type": "code",
   "execution_count": 56,
   "metadata": {},
   "outputs": [
    {
     "name": "stdout",
     "output_type": "stream",
     "text": [
      "Teodor Henrique\n",
      "<class 'str'>\n"
     ]
    }
   ],
   "source": [
    "nome = 'Teodor Henrique'\n",
    "print(nome)\n",
    "print(type(nome))"
   ]
  },
  {
   "cell_type": "code",
   "execution_count": 60,
   "metadata": {},
   "outputs": [
    {
     "name": "stdout",
     "output_type": "stream",
     "text": [
      "Teodor Henrique36jogos de tabuleiro\n",
      "Meu nome é Teodor Henrique, tenho 36 anos e gosto de  jogos de tabuleiro\n",
      "Meu nome é Teodor Henrique, \n",
      " tenho 36 anos \te gosto de  jogos de tabuleiro\n",
      "None\n"
     ]
    }
   ],
   "source": [
    "nome = 'Teodor Henrique'\n",
    "idade = '36'\n",
    "hobby = 'jogos de tabuleiro'\n",
    "\n",
    "print(nome + idade + hobby)\n",
    "print(f\"Meu nome é {nome}, tenho {idade} anos e gosto de  {hobby}\")"
   ]
  },
  {
   "cell_type": "code",
   "execution_count": 65,
   "metadata": {},
   "outputs": [
    {
     "name": "stdout",
     "output_type": "stream",
     "text": [
      "<class 'str'>\n",
      "<class 'int'>\n",
      "Meu nome é Teodor Henrique, tenho 36 anos e gosto de  jogos de tabuleiro\n"
     ]
    }
   ],
   "source": [
    "idade = '36'\n",
    "print(type(idade))\n",
    "idade = 36\n",
    "print(type(idade))\n",
    "\n",
    "print(f\"Meu nome é {nome}, tenho {idade} anos e gosto de  {hobby}\")"
   ]
  },
  {
   "cell_type": "code",
   "execution_count": 71,
   "metadata": {},
   "outputs": [
    {
     "name": "stdout",
     "output_type": "stream",
     "text": [
      "Seu nome é Teo e tem 36 anos\n"
     ]
    }
   ],
   "source": [
    "nome = input(\"Qual o seu nome? \")\n",
    "idade = input(\"Qual a sua idade? \")\n",
    "\n",
    "print(f'Seu nome é {nome} e tem {idade} anos')"
   ]
  },
  {
   "cell_type": "code",
   "execution_count": 77,
   "metadata": {},
   "outputs": [
    {
     "name": "stdout",
     "output_type": "stream",
     "text": [
      "<class 'int'>\n",
      "<class 'int'>\n"
     ]
    },
    {
     "data": {
      "text/plain": [
       "66"
      ]
     },
     "execution_count": 77,
     "metadata": {},
     "output_type": "execute_result"
    }
   ],
   "source": [
    "print(type(idade))\n",
    "idade = int(idade)\n",
    "print(type(idade))\n",
    "idade + 30\n"
   ]
  },
  {
   "cell_type": "markdown",
   "metadata": {},
   "source": [
    "int() # converte para inteiro\n",
    "\n",
    "float() #converte para float\n",
    "\n",
    "str() #converte para string\n"
   ]
  },
  {
   "cell_type": "code",
   "execution_count": 79,
   "metadata": {},
   "outputs": [
    {
     "name": "stdout",
     "output_type": "stream",
     "text": [
      "66\n"
     ]
    }
   ],
   "source": [
    "print(str(idade + 30))"
   ]
  },
  {
   "cell_type": "code",
   "execution_count": 85,
   "metadata": {},
   "outputs": [
    {
     "name": "stdout",
     "output_type": "stream",
     "text": [
      "<class 'str'>\n"
     ]
    },
    {
     "ename": "ValueError",
     "evalue": "could not convert string to float: 'teo'",
     "output_type": "error",
     "traceback": [
      "\u001b[1;31m---------------------------------------------------------------------------\u001b[0m",
      "\u001b[1;31mValueError\u001b[0m                                Traceback (most recent call last)",
      "Cell \u001b[1;32mIn [85], line 3\u001b[0m\n\u001b[0;32m      1\u001b[0m valor \u001b[38;5;241m=\u001b[39m \u001b[38;5;28minput\u001b[39m(\u001b[38;5;124m'\u001b[39m\u001b[38;5;124mDigite um valor decimal\u001b[39m\u001b[38;5;124m'\u001b[39m)\n\u001b[0;32m      2\u001b[0m \u001b[38;5;28mprint\u001b[39m(\u001b[38;5;28mtype\u001b[39m(valor))\n\u001b[1;32m----> 3\u001b[0m valor \u001b[38;5;241m=\u001b[39m \u001b[38;5;28;43mfloat\u001b[39;49m\u001b[43m(\u001b[49m\u001b[43mvalor\u001b[49m\u001b[43m)\u001b[49m\n\u001b[0;32m      4\u001b[0m \u001b[38;5;28mprint\u001b[39m(\u001b[38;5;28mtype\u001b[39m(valor))\n",
      "\u001b[1;31mValueError\u001b[0m: could not convert string to float: 'teo'"
     ]
    }
   ],
   "source": [
    "valor = input('Digite um valor decimal')\n",
    "print(type(valor))\n",
    "valor = float(valor)\n",
    "print(type(valor))"
   ]
  },
  {
   "cell_type": "code",
   "execution_count": 87,
   "metadata": {},
   "outputs": [
    {
     "ename": "ZeroDivisionError",
     "evalue": "division by zero",
     "output_type": "error",
     "traceback": [
      "\u001b[1;31m---------------------------------------------------------------------------\u001b[0m",
      "\u001b[1;31mZeroDivisionError\u001b[0m                         Traceback (most recent call last)",
      "Cell \u001b[1;32mIn [87], line 1\u001b[0m\n\u001b[1;32m----> 1\u001b[0m \u001b[38;5;28;43;01mTrue\u001b[39;49;00m\u001b[43m \u001b[49m\u001b[38;5;241;43m/\u001b[39;49m\u001b[43m \u001b[49m\u001b[38;5;28;43;01mFalse\u001b[39;49;00m\n",
      "\u001b[1;31mZeroDivisionError\u001b[0m: division by zero"
     ]
    }
   ],
   "source": [
    "True / False"
   ]
  },
  {
   "cell_type": "code",
   "execution_count": 95,
   "metadata": {},
   "outputs": [
    {
     "name": "stdout",
     "output_type": "stream",
     "text": [
      "True\n"
     ]
    }
   ],
   "source": [
    "print(bool('False'))\n",
    "# convertendo numeros para bool -> 0 e falso, e qualquer outra coisa é true\n",
    "# convertendo texto para bool -> texto vazio é falso, e qualquer outra coisa é true"
   ]
  },
  {
   "cell_type": "code",
   "execution_count": 97,
   "metadata": {},
   "outputs": [
    {
     "data": {
      "text/plain": [
       "1"
      ]
     },
     "execution_count": 97,
     "metadata": {},
     "output_type": "execute_result"
    }
   ],
   "source": [
    "11%2 "
   ]
  },
  {
   "cell_type": "code",
   "execution_count": 99,
   "metadata": {},
   "outputs": [
    {
     "data": {
      "text/plain": [
       "3"
      ]
     },
     "execution_count": 99,
     "metadata": {},
     "output_type": "execute_result"
    }
   ],
   "source": [
    "10//3"
   ]
  },
  {
   "cell_type": "code",
   "execution_count": 102,
   "metadata": {},
   "outputs": [
    {
     "data": {
      "text/plain": [
       "1.2"
      ]
     },
     "execution_count": 102,
     "metadata": {},
     "output_type": "execute_result"
    }
   ],
   "source": [
    "(1+5)/(2+1*(1+2))"
   ]
  },
  {
   "cell_type": "markdown",
   "metadata": {},
   "source": [
    "## Input/Output"
   ]
  },
  {
   "cell_type": "markdown",
   "metadata": {},
   "source": [
    "## Coerção de tipos"
   ]
  },
  {
   "cell_type": "markdown",
   "metadata": {},
   "source": [
    "## Operadores algébricos\n",
    "\n",
    "- \\+ : soma\n",
    "- \\- : subtração\n",
    "- \\* : multiplicação\n",
    "- \\/ : divisão\n",
    "- \\/\\/ : divisão inteira\n",
    "- % : resto\n",
    "- ** : elevar a potencia"
   ]
  },
  {
   "cell_type": "markdown",
   "metadata": {},
   "source": [
    "## Operadores lógicos\n",
    "\n",
    "- \\> : Maior\n",
    "- \\>= : Maior ou igual\n",
    "- \\< : menor\n",
    "- \\<= : menor ou igual\n",
    "- != : diferente\n",
    "- == : igual"
   ]
  },
  {
   "cell_type": "markdown",
   "metadata": {},
   "source": [
    "# Links úteis\n",
    "\n",
    "- Funções built-in (embutidas):  https://docs.python.org/3/library/functions.html\n",
    "- Convenções: https://peps.python.org/pep-0008/#overriding-principle\n",
    "- Formatação de strings: https://realpython.com/python-f-strings/\n"
   ]
  },
  {
   "cell_type": "markdown",
   "metadata": {},
   "source": [
    "## Exercícios"
   ]
  },
  {
   "cell_type": "markdown",
   "metadata": {},
   "source": [
    "1 - Escreva em um único comando print, seu nome completo, onde cada palavra do seu nome deve estar em uma linha. Exemplo:\n",
    "\n",
    "Teodor\n",
    "\n",
    "Henrique\n",
    "\n",
    "de\n",
    "\n",
    "Freitas\n",
    "\n",
    "Barczewski"
   ]
  },
  {
   "cell_type": "code",
   "execution_count": 110,
   "metadata": {},
   "outputs": [
    {
     "name": "stdout",
     "output_type": "stream",
     "text": [
      "Luiz\n",
      "Filipe\n",
      "de \n",
      "        Sousa\n",
      "Batista\n",
      "Teodor   Henrique\n"
     ]
    }
   ],
   "source": [
    "#print('Kaio\\nHenrique\\nde\\nJesus\\nSantos')\n",
    "#print('franciso', 'marcelo', 'alves', 'de', 'araújo', sep='\\n')\n",
    "print(\"\"\"Luiz\n",
    "Filipe\n",
    "de \n",
    "        Sousa\n",
    "Batista\"\"\") # quebra no código - as 3 aspas ele considera a formatação do texto\n",
    "\n",
    "print('Teodor \\\n",
    "  Henrique')"
   ]
  },
  {
   "cell_type": "markdown",
   "metadata": {},
   "source": [
    "2- Escreva um programa que receba seu nome, sua idade e filme predileto, e escreva uma unica sentença que seja \"Meu nome é 'nome', tenho 'anos' anos e meu filme predileto é ''"
   ]
  },
  {
   "cell_type": "code",
   "execution_count": 111,
   "metadata": {},
   "outputs": [
    {
     "name": "stdout",
     "output_type": "stream",
     "text": [
      "Meu nome é Teo, tenho 36 anos e meu filme predileto é Matrix.\n"
     ]
    }
   ],
   "source": [
    "nome = input(\"Digite seu nome: \")\n",
    "idade = int(input(\"Digite sua idade: \"))\n",
    "filme = input(\"Digite seu filme predileto: \")\n",
    "\n",
    "print(f\"Meu nome é {nome}, tenho {idade} anos e meu filme predileto é {filme}.\")"
   ]
  },
  {
   "cell_type": "markdown",
   "metadata": {},
   "source": [
    "3 - Crie um algoritmo que calcule o IMC (índice de massa corporal). O IMC é calculado com a formula PESO/(ALTURA elevado a 2). Para isso, coloque as informações nas variáveis e no final apresente o resultado como: \"O IMC é [resultado]\""
   ]
  },
  {
   "cell_type": "code",
   "execution_count": 121,
   "metadata": {},
   "outputs": [
    {
     "name": "stdout",
     "output_type": "stream",
     "text": [
      "O seu imc é 27.78\n",
      "O seu imc é 27\n",
      "O seu imc é 28\n",
      "O seu imc é 27.777777777777775\n",
      "O seu imc é 27\n",
      "O seu imc é 27.77778\n"
     ]
    }
   ],
   "source": [
    "#peso=float(input('Digite o seu peso: '))\n",
    "#altura=float(input('Digite sua altura: '))\n",
    "peso = 90\n",
    "altura = 1.80\n",
    "imc=peso/(altura**2)\n",
    "print(f'O seu imc é {round(imc,2)}')\n",
    "print(f'O seu imc é {round(27.28)}')\n",
    "print(f'O seu imc é {round(imc)}')\n",
    "print(f'O seu imc é {imc}')\n",
    "print(f'O seu imc é {int(imc)}')\n",
    "print(f'O seu imc é {imc:.5f}') # após a variável, :.xf onde x é a quantidade de casas decimais."
   ]
  },
  {
   "cell_type": "markdown",
   "metadata": {},
   "source": [
    "4- Crie um programa que receba a temperatura em CELSIUS e converta para FAHRENHEIT (pesquise no google a fórmula)"
   ]
  },
  {
   "cell_type": "code",
   "execution_count": 123,
   "metadata": {},
   "outputs": [
    {
     "name": "stdout",
     "output_type": "stream",
     "text": [
      "A temperatura em Fahrenheit é 68.0\n"
     ]
    }
   ],
   "source": [
    "celsius = float(input('Digite a temperatura em Celsius: '))\n",
    "\n",
    "f = (celsius*1.8)+32\n",
    "print(f'A temperatura em Fahrenheit é {f}')"
   ]
  },
  {
   "cell_type": "markdown",
   "metadata": {},
   "source": [
    "5 - Receba o raio de uma circulo e calcule a circunferencia (não use bibliotecas externas). Circunferencia é 2 * pi * raio"
   ]
  },
  {
   "cell_type": "code",
   "execution_count": 124,
   "metadata": {},
   "outputs": [
    {
     "name": "stdout",
     "output_type": "stream",
     "text": [
      "A circunferencia mede: 62.83 m\n"
     ]
    }
   ],
   "source": [
    "raio = float(input(\"Insira o valor do raio em metros: \"))\n",
    "\n",
    "circunferencia = 2*3.1415*raio\n",
    "\n",
    "print(f\"A circunferencia mede: {circunferencia:.2f} m\")"
   ]
  },
  {
   "cell_type": "markdown",
   "metadata": {},
   "source": [
    "6 -  Escreva um algoritmo que armazene um valor X em uma variável A e um valor Y em uma variável B. Troque os valores das duas variáveis sem criar uma terceira e usando apenas operações matemáticas."
   ]
  },
  {
   "cell_type": "code",
   "execution_count": 126,
   "metadata": {},
   "outputs": [
    {
     "name": "stdout",
     "output_type": "stream",
     "text": [
      "Variável A: 123\n",
      "Variável B: 88\n",
      "Variável A: 88\n",
      "Variável B: 123\n"
     ]
    }
   ],
   "source": [
    "a = 123\n",
    "b = 88\n",
    "\n",
    "print(f'Variável A: {a}')\n",
    "print(f'Variável B: {b}')\n",
    "\n",
    "a = a + b\n",
    "b = a - b\n",
    "a = (b - a)*-1\n",
    "\n",
    "print(f'Variável A: {a}')\n",
    "print(f'Variável B: {b}')\n",
    "\n"
   ]
  },
  {
   "cell_type": "code",
   "execution_count": 128,
   "metadata": {},
   "outputs": [
    {
     "name": "stdout",
     "output_type": "stream",
     "text": [
      "O valor de X é 10 e o valor de Y é 5\n"
     ]
    }
   ],
   "source": [
    "A = 5\n",
    "B = 10\n",
    "\n",
    "A = A + B # A =  15\n",
    "B = A - B # B = 15 - 5 = 10\n",
    "A = A - B # A = 15 - 10 = 5\n",
    "\n",
    "print(f'O valor de X é {A} e o valor de Y é {B}')"
   ]
  },
  {
   "cell_type": "code",
   "execution_count": 129,
   "metadata": {},
   "outputs": [
    {
     "name": "stdout",
     "output_type": "stream",
     "text": [
      "50.0 22.0\n"
     ]
    }
   ],
   "source": [
    "y = 22\n",
    "x = 50\n",
    "\n",
    "y = x*y\n",
    "x = y/x\n",
    "y = y/x\n",
    "\n",
    "\n",
    "print(y, x)"
   ]
  },
  {
   "cell_type": "code",
   "execution_count": 131,
   "metadata": {},
   "outputs": [
    {
     "name": "stdout",
     "output_type": "stream",
     "text": [
      "O valor do primeiro número agora é 13\n",
      "O valor do segundo número agora é 15\n"
     ]
    }
   ],
   "source": [
    "# Bitwise XOR\n",
    "x = 15\n",
    "y = 13\n",
    "\n",
    "x = x^y\n",
    "y = x^y\n",
    "x = x^y\n",
    "\n",
    "print(f'O valor do primeiro número agora é {x}')\n",
    "print(f'O valor do segundo número agora é {y}')"
   ]
  },
  {
   "cell_type": "markdown",
   "metadata": {},
   "source": [
    "Questão extra:\n",
    "\n",
    "Faça um programa para uma loja de tintas. O programa deverá pedir o tamanho em metros quadrados da área a ser pintada. Considere que a cobertura da tinta é de 1 litro para cada 6 metros quadrados e que a tinta é vendida em latas de 18 litros, que custam 80.00 reais ou em galões de 3.6 litros, que custam 25.00 reais.\n",
    "\n",
    "Informe ao usuário as quantidades de tinta a serem compradas e os respectivos preços em 3 situações:\n",
    "\n",
    "Comprar apenas latas de 18 litros; Comprar apenas galões de 3.6 litros; Misturar latas e galões de forma que o desperdício de tinta seja menor. Podem considerar latas pela metade (valores decimais para quantidade de latas)"
   ]
  },
  {
   "cell_type": "markdown",
   "metadata": {},
   "source": [
    "Questão extra 2:\n",
    "\n",
    "Receba o ano (comecando com 1). Informe qual o século que aquele ano pertence, sendo:\n",
    "\n",
    "1 a 100 - século 1\n",
    "101 a 200 - século 2\n",
    "\n",
    "e por ai vai\n",
    "\n",
    "2000 - Século 20"
   ]
  },
  {
   "cell_type": "code",
   "execution_count": null,
   "metadata": {},
   "outputs": [],
   "source": []
  },
  {
   "cell_type": "code",
   "execution_count": null,
   "metadata": {},
   "outputs": [],
   "source": []
  }
 ],
 "metadata": {
  "kernelspec": {
   "display_name": "Python 3.10.7 64-bit",
   "language": "python",
   "name": "python3"
  },
  "language_info": {
   "codemirror_mode": {
    "name": "ipython",
    "version": 3
   },
   "file_extension": ".py",
   "mimetype": "text/x-python",
   "name": "python",
   "nbconvert_exporter": "python",
   "pygments_lexer": "ipython3",
   "version": "3.10.7"
  },
  "orig_nbformat": 4,
  "vscode": {
   "interpreter": {
    "hash": "28e4ac859c9a7573a0f6f8efad0c0329134bc90e4f4badebebe1f83f8d59692c"
   }
  }
 },
 "nbformat": 4,
 "nbformat_minor": 2
}
