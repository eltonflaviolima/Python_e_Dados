{
 "cells": [
  {
   "cell_type": "markdown",
   "metadata": {},
   "source": [
    "### Aula 07\n",
    "\n",
    "- Exercícios\n",
    "- Revisão\n"
   ]
  },
  {
   "cell_type": "markdown",
   "metadata": {},
   "source": [
    "### Exercícios"
   ]
  },
  {
   "cell_type": "markdown",
   "metadata": {},
   "source": [
    "Super Desafio! - Faça um jogo de BlackJack usando funções: o BlackJack, ou Vinte e Um, é um jogo em que os jogadores podem comprar cartas livremente, enquanto tiverem menos de 21 pontos. No nosso jogo, o Ás vale um ponto; as cartas de 2 a 10 valem o número de pontos que elas representam; e Valete, Dama e Rei valem 10 pontos cada. Ganha o jogador que tiver o maior número de pontos, desde que este seja menor ou igual a 21. Nosso jogo deve ter as seguintes funções:\n",
    "\n",
    "a. Função principal: a função que vamos chamar para iniciar o jogo. Essa função não irá receber nem retornar nenhuma variável. Ela deve perguntar o número de jogadores participantes e o nome de cada um. Em seguida ela chama as outras funções do jogo.\n",
    "\n",
    "b. Função para criar o baralho: essa função deve criar um baralho (uma lista) com as cartas do baralho.\n",
    "\n",
    "c. Função para a jogada: essa função deve receber o nome do jogador que irá realizar a jogada e, caso ele ainda esteja ativo (tenha menos de 21 pontos e ainda não tenha desistido de comprar cartas) deve perguntar se ele quer comprar uma carta. Se ele responder que sim, a função deve chamar a próxima função para sortear uma carta e somar o valor retornado na pontuação do jogador; se ele responder que não, a função deve desativar o jogador para que ele não possa mais comprar cartas; Essa função só deve ser chamada enquanto houver jogadores ativos.\n",
    "\n",
    "d. Função para o sorteio: essa função retira uma carta aleatória do baralho e retorna o número de pontos que essa carta vale.\n",
    "\n",
    "e. Função verificação: verifica e indica qual/quais jogador/jogadores tem o maior número de pontos, que seja menor ou igual a 21."
   ]
  },
  {
   "cell_type": "code",
   "execution_count": 15,
   "metadata": {},
   "outputs": [],
   "source": [
    "# b. Função para criar o baralho: essa função deve criar um baralho \n",
    "# (uma lista) com as cartas do baralho.\n",
    "\n",
    "# No nosso jogo, o Ás vale um ponto; as cartas de 2 a 10 valem o \n",
    "# número de pontos que elas representam; \n",
    "# e Valete, Dama e Rei valem 10 pontos cada\n",
    "\n",
    "def criar_baralho():\n",
    "\n",
    "    naipes = ['COPAS', 'OURO','PAUS','ESPADAS']\n",
    "    #naipes = ['♥','♦','♣','♠']\n",
    "\n",
    "    # inicializar meu baralho\n",
    "    baralho = []\n",
    "\n",
    "    for naipe in naipes:\n",
    "\n",
    "        for i in range(1,14):\n",
    "            \n",
    "            # carta = [naipe, numero, valor]\n",
    "            if i >= 2 and i <= 10:\n",
    "                carta = [naipe, str(i), i]\n",
    "            elif (i == 1):\n",
    "                carta = [naipe, 'AS', 1]\n",
    "            elif(i == 11):\n",
    "                carta = [naipe, 'Valete', 10]\n",
    "            elif(i == 12):\n",
    "                carta = [naipe, 'Dama', 10]\n",
    "            elif(i == 13):\n",
    "                carta = [naipe, 'Rei', 10]\n",
    "            \n",
    "            baralho.append(carta)\n",
    "    \n",
    "    return baralho\n",
    "\n",
    "            "
   ]
  },
  {
   "cell_type": "code",
   "execution_count": 16,
   "metadata": {},
   "outputs": [],
   "source": [
    "#baralho = criar_baralho()\n",
    "#print(baralho)\n",
    "\n",
    "#print(f'Tamanho do baralho {len(baralho)}')"
   ]
  },
  {
   "cell_type": "code",
   "execution_count": 17,
   "metadata": {},
   "outputs": [],
   "source": [
    "# d. Função para o sorteio: essa função retira uma carta aleatória do \n",
    "# baralho e retorna o número de pontos que essa carta vale.\n",
    "\n",
    "import random\n",
    "\n",
    "#numero = random.randint(1,10)\n",
    "#print(numero)\n",
    "\n",
    "def sorteio(baralho):\n",
    "\n",
    "    # pop - removeu um item da lista e salvou em uma variável carta\n",
    "    carta = baralho.pop(random.randint(0,len(baralho)-1))\n",
    "\n",
    "    print(f'A carta sorteada foi {carta[1]} de {carta[0]} que vale {carta[2]} pontos ')\n",
    "\n",
    "    return carta\n",
    "    "
   ]
  },
  {
   "cell_type": "code",
   "execution_count": 18,
   "metadata": {},
   "outputs": [],
   "source": [
    "# c. Função para a jogada: essa função deve receber \n",
    "# o nome do jogador que irá realizar a jogada e, \n",
    "# caso ele ainda esteja ativo (tenha menos de 21 pontos e ainda não tenha \n",
    "# desistido de comprar cartas) deve perguntar se ele quer comprar uma carta.\n",
    "# responder que sim, a função deve chamar a próxima função para sortear uma \n",
    "# carta e somar o valor retornado na pontuação do jogador; \n",
    "# se ele responder que não, a função deve desativar o jogador para que \n",
    "# ele não possa mais comprar cartas; Essa função só deve ser chamada\n",
    "#  enquanto houver jogadores ativos.\n",
    "\n",
    "#jogador = [nome (string), ativo (booleano), pontuacao (inteiro)]\n",
    "\n",
    "def jogada (jogador, baralho, mesa=False):\n",
    "        \n",
    "    if mesa:\n",
    "        resposta = 'S'\n",
    "    else:\n",
    "        resposta = ''   \n",
    "\n",
    "    while(resposta!= 'N' and resposta != 'S'):    \n",
    "        resposta = input(f'Jogador {jogador[0]}, deseja comprar uma carta (S/N): ').upper()\n",
    "\n",
    "    if resposta == 'S':\n",
    "        carta = sorteio(baralho)\n",
    "\n",
    "        jogador[2] += int(carta[2])\n",
    "\n",
    "        if jogador[2] >= 21:\n",
    "            jogador[1] = False\n",
    "            print(f'O jogador {jogador[0]} não pode mais comprar cartas. Pontuação atual: {jogador[2]}')\n",
    "        else:\n",
    "            print(f'Pontuação atual do jogador {jogador[0]}: {jogador[2]}')\n",
    "        \n",
    "    else:\n",
    "        print(f'O jogador {jogador[0]} decidiu não comprar mais cartas. Pontuação atual: {jogador[2]}')\n",
    "        jogador[1] = False\n",
    "\n",
    "        # jogador[1] = not jogador [2] > 21\n",
    "\n",
    "\n"
   ]
  },
  {
   "cell_type": "code",
   "execution_count": 19,
   "metadata": {},
   "outputs": [],
   "source": [
    "# e. Função verificação: verifica e indica qual/quais jogador/jogadores \n",
    "# tem o maior número de pontos, que seja menor ou igual a 21.\n",
    "\n",
    "# jogador = nome, status, pontuacao\n",
    "\n",
    "def pontuacao(jogadores):\n",
    "\n",
    "    maior_pontuacao = []\n",
    "    maior_jogador = []\n",
    "\n",
    "    for jogador in jogadores:\n",
    "\n",
    "        if jogador[2] <= 21:\n",
    "            maior_pontuacao.append(jogador[2])\n",
    "            maior_jogador.append(jogador[0])\n",
    "\n",
    "    pontuacao_maxima = max(maior_pontuacao)\n",
    "\n",
    "    for i in range(len(maior_pontuacao)):\n",
    "        if (maior_pontuacao[i] == pontuacao_maxima):\n",
    "            print(f'O jogador {maior_jogador[i]} teve a maior pontuação: {maior_pontuacao[i]}')"
   ]
  },
  {
   "cell_type": "code",
   "execution_count": 20,
   "metadata": {},
   "outputs": [],
   "source": [
    "# a. Função principal: a função que vamos chamar para iniciar o jogo. \n",
    "# Essa função não irá receber nem retornar nenhuma variável. \n",
    "# Ela deve perguntar o número de jogadores participantes e o nome de cada um. \n",
    "# Em seguida ela chama as outras funções do jogo.\n",
    "\n",
    "def blackjack():\n",
    "\n",
    "    numero_jogadores = 0\n",
    "    while (numero_jogadores < 1):\n",
    "        numero_jogadores = int(input('Digite o número de jogadores: '))\n",
    "\n",
    "    jogadores = []\n",
    "\n",
    "    for i in range(numero_jogadores):\n",
    "        nome = input('Digite o nome do jogador: ')\n",
    "\n",
    "        # jogador = [nome, status, pontuacao]\n",
    "        #jogador = [nome, True, int(0)]\n",
    "        jogadores.append([nome, True, int(0)])\n",
    "    \n",
    "    jogadores.append(['MESA', True, int(0)])\n",
    "\n",
    "    baralho = criar_baralho()\n",
    "\n",
    "    jogo_ativo = True\n",
    "\n",
    "    i = 0\n",
    "\n",
    "    while jogo_ativo:\n",
    "\n",
    "        # pegando o jogador da rodada\n",
    "        if jogadores[i][1]:\n",
    "            jogada(jogadores[i], baralho, jogadores[i][0]=='MESA')            \n",
    "\n",
    "        i += 1\n",
    "\n",
    "        if (i == len(jogadores)):\n",
    "            i = 0\n",
    "        \n",
    "        for jogador in jogadores:\n",
    "            if(jogador[1]) == True:\n",
    "                break\n",
    "        else:\n",
    "            jogo_ativo = False\n",
    "\n",
    "    pontuacao(jogadores)\n",
    "\n",
    "    print('Fim de jogo')\n",
    "        \n",
    "\n",
    "        \n",
    "\n",
    "\n",
    "        \n",
    "\n"
   ]
  },
  {
   "cell_type": "code",
   "execution_count": 21,
   "metadata": {},
   "outputs": [
    {
     "name": "stdout",
     "output_type": "stream",
     "text": [
      "A carta sorteada foi 2 de PAUS que vale 2 pontos \n",
      "Pontuação atual do jogador Elton: 2\n",
      "A carta sorteada foi Valete de OURO que vale 10 pontos \n",
      "Pontuação atual do jogador Leticia: 10\n",
      "A carta sorteada foi AS de COPAS que vale 1 pontos \n",
      "Pontuação atual do jogador MESA: 1\n",
      "O jogador Elton decidiu não comprar mais cartas. Pontuação atual: 2\n",
      "O jogador Leticia decidiu não comprar mais cartas. Pontuação atual: 10\n",
      "A carta sorteada foi 3 de ESPADAS que vale 3 pontos \n",
      "Pontuação atual do jogador MESA: 4\n",
      "A carta sorteada foi AS de OURO que vale 1 pontos \n",
      "Pontuação atual do jogador MESA: 5\n",
      "A carta sorteada foi 9 de ESPADAS que vale 9 pontos \n",
      "Pontuação atual do jogador MESA: 14\n",
      "A carta sorteada foi 5 de OURO que vale 5 pontos \n",
      "Pontuação atual do jogador MESA: 19\n",
      "A carta sorteada foi Valete de PAUS que vale 10 pontos \n",
      "O jogador MESA não pode mais comprar cartas. Pontuação atual: 29\n",
      "O jogador Leticia teve a maior pontuação: 10\n",
      "Fim de jogo\n"
     ]
    }
   ],
   "source": [
    "blackjack()"
   ]
  },
  {
   "cell_type": "code",
   "execution_count": null,
   "metadata": {},
   "outputs": [],
   "source": []
  },
  {
   "cell_type": "code",
   "execution_count": null,
   "metadata": {},
   "outputs": [],
   "source": []
  }
 ],
 "metadata": {
  "kernelspec": {
   "display_name": "Python 3.9.10 64-bit",
   "language": "python",
   "name": "python3"
  },
  "language_info": {
   "codemirror_mode": {
    "name": "ipython",
    "version": 3
   },
   "file_extension": ".py",
   "mimetype": "text/x-python",
   "name": "python",
   "nbconvert_exporter": "python",
   "pygments_lexer": "ipython3",
   "version": "3.9.10"
  },
  "orig_nbformat": 4,
  "vscode": {
   "interpreter": {
    "hash": "4f12edece1b6ed8dc2a09be6f356fe005f2a039c320a3a2809fb3b7d30b40e33"
   }
  }
 },
 "nbformat": 4,
 "nbformat_minor": 2
}
