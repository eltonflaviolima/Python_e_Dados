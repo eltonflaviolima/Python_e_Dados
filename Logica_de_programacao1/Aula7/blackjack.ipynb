{
 "cells": [
  {
   "cell_type": "code",
   "execution_count": 50,
   "metadata": {},
   "outputs": [],
   "source": [
    "def criar_baralho():\n",
    "    naipes = ['♥','♦','♣','♠']\n",
    "\n",
    "    baralho = []\n",
    "\n",
    "    for naipe in naipes:\n",
    "\n",
    "        for i in range(1, 14):\n",
    "\n",
    "            if (i == 1):\n",
    "                carta = [naipe, 'Ás', 1]\n",
    "            elif (i == 11):\n",
    "                carta = [naipe, 'Valete', 10]\n",
    "            elif (i == 12):\n",
    "                carta = [naipe, 'Dama', 10]\n",
    "            elif (i == 13):\n",
    "                carta = [naipe, 'Rei', 10]\n",
    "            else:\n",
    "                carta = [naipe, str(i), i]\n",
    "\n",
    "            baralho.append(carta)\n",
    "\n",
    "    return baralho"
   ]
  },
  {
   "cell_type": "code",
   "execution_count": 51,
   "metadata": {},
   "outputs": [],
   "source": [
    "import random\n",
    "\n",
    "def sorteio(baralho):\n",
    "    carta = baralho.pop(random.randint(0, len(baralho)-1))\n",
    "    print(f'A carta sorteada foi {carta[1]} de {carta[0]} que vale {carta[2]} pontos.')\n",
    "    print(f'Restam {len(baralho)} cartas no baralho.')\n",
    "    return carta"
   ]
  },
  {
   "cell_type": "code",
   "execution_count": 52,
   "metadata": {},
   "outputs": [],
   "source": [
    "def jogada(jogador, baralho):\n",
    "\n",
    "    resposta = ''\n",
    "\n",
    "    while(resposta != 'N' and resposta != 'S'):\n",
    "        resposta = input(f'{jogador[0]}, deseja comprar uma carta (S/N): ').upper()\n",
    "\n",
    "    if resposta.upper() == 'S':\n",
    "        carta = sorteio(baralho)\n",
    "\n",
    "        jogador[2] += int(carta[2])\n",
    "\n",
    "        # jogador[1] = not jogador[2] > 21\n",
    "        if jogador[2] >= 21:\n",
    "            jogador[1] = False\n",
    "    else:\n",
    "        jogador[1] = False"
   ]
  },
  {
   "cell_type": "code",
   "execution_count": 53,
   "metadata": {},
   "outputs": [],
   "source": [
    "def pontuacao(jogadores):\n",
    "    maior_pontuacao = []\n",
    "\n",
    "    for jogador in jogadores:\n",
    "\n",
    "        if jogador[2] <= 21:\n",
    "            maior_pontuacao.append(jogador)\n",
    "    print(f'As maiores pontuações foram: {maior_pontuacao[0]}')"
   ]
  },
  {
   "cell_type": "code",
   "execution_count": 54,
   "metadata": {},
   "outputs": [],
   "source": [
    "def blackjack():\n",
    "    numero_jogadores = int(input('Digite o número de jogadores: '))\n",
    "\n",
    "    jogadores = []\n",
    "\n",
    "    for i in range(numero_jogadores):\n",
    "        nome = input('Digite o nome do jogador: ')\n",
    "        jogador = [nome, True, int(0)]\n",
    "        jogadores.append(jogador)\n",
    "    \n",
    "    baralho = criar_baralho()\n",
    "    jogo_ativo = True\n",
    "\n",
    "    i=0\n",
    "    while jogo_ativo:\n",
    "        if(jogadores[i][1]):\n",
    "            jogada(jogadores[i], baralho)\n",
    "            print(f'Pontuação atual do jogador {jogadores[i][0]}: {jogadores[i][2]} pontos.')\n",
    "        i += 1\n",
    "\n",
    "        if(i == len(jogadores)):\n",
    "            i = 0\n",
    "        \n",
    "        for jogador in jogadores:\n",
    "            if(jogador[1]) == True:\n",
    "                break\n",
    "        else:\n",
    "            jogo_ativo = False\n",
    "    \n",
    "    pontuacao(jogadores)\n",
    "\n",
    "    print('Fim de jogo')"
   ]
  },
  {
   "cell_type": "code",
   "execution_count": 55,
   "metadata": {},
   "outputs": [
    {
     "name": "stdout",
     "output_type": "stream",
     "text": [
      "A carta sorteada foi 7 de ♥ que vale 7 pontos.\n",
      "Restam 51 cartas no baralho.\n",
      "Pontuação atual do jogador Elton: 7 pontos.\n",
      "Pontuação atual do jogador Elton: 7 pontos.\n",
      "As maiores pontuações foram: ['Elton', False, 7]\n",
      "Fim de jogo\n"
     ]
    }
   ],
   "source": [
    "blackjack()"
   ]
  }
 ],
 "metadata": {
  "kernelspec": {
   "display_name": "Python 3.9.10 64-bit",
   "language": "python",
   "name": "python3"
  },
  "language_info": {
   "codemirror_mode": {
    "name": "ipython",
    "version": 3
   },
   "file_extension": ".py",
   "mimetype": "text/x-python",
   "name": "python",
   "nbconvert_exporter": "python",
   "pygments_lexer": "ipython3",
   "version": "3.9.10"
  },
  "orig_nbformat": 4,
  "vscode": {
   "interpreter": {
    "hash": "4f12edece1b6ed8dc2a09be6f356fe005f2a039c320a3a2809fb3b7d30b40e33"
   }
  }
 },
 "nbformat": 4,
 "nbformat_minor": 2
}
