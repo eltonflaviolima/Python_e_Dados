{
 "cells": [
  {
   "cell_type": "code",
   "execution_count": 3,
   "metadata": {},
   "outputs": [
    {
     "name": "stdout",
     "output_type": "stream",
     "text": [
      "{'cep': '45820507', 'address_type': 'Rua', 'address_name': 'Mário de Andrade', 'address': 'Rua Mário de Andrade', 'state': 'BA', 'district': 'Residencial Alamar', 'lat': '-16.37319', 'lng': '-39.59377', 'city': 'Eunápolis', 'city_ibge': '2910727', 'ddd': '73'}\n"
     ]
    }
   ],
   "source": [
    "import requests\n",
    "\n",
    "location = requests.get('https://cep.awesomeapi.com.br/json/45820507').json()\n",
    "print(location)"
   ]
  }
 ],
 "metadata": {
  "kernelspec": {
   "display_name": "Python 3.9.10 64-bit",
   "language": "python",
   "name": "python3"
  },
  "language_info": {
   "codemirror_mode": {
    "name": "ipython",
    "version": 3
   },
   "file_extension": ".py",
   "mimetype": "text/x-python",
   "name": "python",
   "nbconvert_exporter": "python",
   "pygments_lexer": "ipython3",
   "version": "3.9.10"
  },
  "orig_nbformat": 4,
  "vscode": {
   "interpreter": {
    "hash": "4f12edece1b6ed8dc2a09be6f356fe005f2a039c320a3a2809fb3b7d30b40e33"
   }
  }
 },
 "nbformat": 4,
 "nbformat_minor": 2
}
