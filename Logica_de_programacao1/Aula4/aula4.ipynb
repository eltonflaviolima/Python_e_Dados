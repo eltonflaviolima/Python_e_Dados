{
 "cells": [
  {
   "cell_type": "markdown",
   "metadata": {},
   "source": [
    "### Aula 04\n",
    "\n",
    "- Tratamento do CPF\n",
    "- Tratamento de erros:\n",
    "    - Forçando uma exceção\n",
    "    - Finally\n",
    "- Estruturas de repetição\n",
    "- Looping While"
   ]
  },
  {
   "cell_type": "markdown",
   "metadata": {},
   "source": [
    "### Tratamento de CPF\n",
    "\n",
    "1 - Validação do primeiro dígito\n",
    "Primeiramente multiplica-se os 9 primeiros dígitos pela sequência decrescente de números de 10 à 2 e soma os resultados. Assim:\n",
    "\n",
    "5 * 10 + 2 * 9 + 9 * 8 + 9 * 7 + 8 * 6 + 2 * 5 + 2 * 4 + 4 * 3 + 7 * 2\n",
    "\n",
    "2 - O próximo passo da verificação também é simples, basta multiplicarmos esse resultado por 10 e dividirmos por 11. O resultado que nos interessa na verdade é o RESTO da divisão. Se ele for igual ao primeiro dígito verificador (primeiro dígito depois do '-'), a primeira parte da validação está correta.\n",
    "\n",
    "Observação Importante: Se o resto da divisão for igual a 10, nós o consideramos como 0.\n",
    "\n",
    "3 - Validação do segundo dígito\n",
    "A validação do segundo dígito é semelhante à primeira, porém vamos considerar os 9 primeiros dígitos, mais o primeiro dígito verificador, e vamos multiplicar esses 10 números pela sequencia decrescente de 11 a 2. Vejamos:\n",
    "\n",
    "5 * 11 + 2 * 10 + 9 * 9 + 9 * 8 + 8 * 7 + 2 * 6 + 2 * 5 + 4 * 4 + 7 * 3 + 2 * 2\n",
    "\n",
    "4 - O próximo passo da verificação também é simples, basta multiplicarmos esse resultado por 10 e dividirmos por 11. O resultado que nos interessa na verdade é o RESTO da divisão. Se ele for igual ao primeiro dígito verificador (primeiro dígito depois do '-'), a primeira parte da validação está correta."
   ]
  },
  {
   "cell_type": "code",
   "execution_count": 21,
   "metadata": {},
   "outputs": [
    {
     "name": "stdout",
     "output_type": "stream",
     "text": [
      "00509793812312186\n",
      "17\n",
      "O cpf não tem 11 caracteres\n"
     ]
    }
   ],
   "source": [
    "cpf = '005.097.938-12312186'\n",
    "cpf = cpf.replace('.','').replace('-','' )\n",
    "\n",
    "print(cpf)\n",
    "\n",
    "print(len(cpf))\n",
    "\n",
    "if not len(cpf) == 11: # o resultado seria o mesmo if len(cpf) != 11\n",
    "    print('O cpf não tem 11 caracteres')\n",
    "\n",
    "\n"
   ]
  },
  {
   "cell_type": "code",
   "execution_count": 45,
   "metadata": {},
   "outputs": [
    {
     "name": "stdout",
     "output_type": "stream",
     "text": [
      "O CPF é 666+248.010-60\n",
      "Deu um erro no validador: invalid literal for int() with base 10: '+'\n"
     ]
    }
   ],
   "source": [
    "#005.097.938-86#\n",
    "#736.932.999-27#\n",
    "#150.384.208-85#\n",
    "#89.528.714-99#\n",
    "#386.943.799-53#\n",
    "# 666.248.010-00\n",
    "\n",
    "#cpf = '005.097.938-86'\n",
    "#cpf = '666.248.010-00'\n",
    "try:\n",
    "        \n",
    "    cpf = '666+248.010-60'\n",
    "    print(f'O CPF é {cpf}')\n",
    "\n",
    "    cpf = cpf.replace('.','').replace('-','' )\n",
    "    #cpf = cpf.replace('-','' )\n",
    "\n",
    "    cpf_valido = True\n",
    "\n",
    "    erro = ''\n",
    "\n",
    "    if not len(cpf) == 11:\n",
    "        cpf_valido = False\n",
    "        erro += 'O cpf não tem 11 caracteres \\n'\n",
    "\n",
    "    digito = 0\n",
    "    # shift + alt + seta para baixo = copia a linha atual e cola\n",
    "\n",
    "    digito = digito + int(cpf[0]) * 10\n",
    "    digito +=  int(cpf[1]) * 9\n",
    "    digito +=  int(cpf[2]) * 8\n",
    "    digito +=  int(cpf[3]) * 7\n",
    "    digito +=  int(cpf[4]) * 6\n",
    "    digito +=  int(cpf[5]) * 5\n",
    "    digito +=  int(cpf[6]) * 4\n",
    "    digito +=  int(cpf[7]) * 3\n",
    "    digito +=  int(cpf[8]) * 2\n",
    "\n",
    "    # calculando o resto da operacao\n",
    "    digito = (digito * 10) % 11\n",
    "\n",
    "    # Observação Importante: Se o resto da divisão for igual a 10, nós o consideramos como 0.\n",
    "    if digito == 10:\n",
    "        digito = 0\n",
    "\n",
    "    if str(digito) == cpf[-2]:\n",
    "        print('Primeiro digito bateu')\n",
    "    else:\n",
    "        cpf_valido = False\n",
    "        erro += \"O primeiro digito verificador não bateu \\n\"\n",
    "\n",
    "\n",
    "    print(digito)\n",
    "\n",
    "    ## segundo digito verificador\n",
    "\n",
    "    digito = 0\n",
    "    # shift + alt + seta para baixo = copia a linha atual e cola\n",
    "\n",
    "    digito = digito + int(cpf[0]) * 11\n",
    "    digito +=  int(cpf[1]) * 10\n",
    "    digito +=  int(cpf[2]) * 9\n",
    "    digito +=  int(cpf[3]) * 8\n",
    "    digito +=  int(cpf[4]) * 7\n",
    "    digito +=  int(cpf[5]) * 6\n",
    "    digito +=  int(cpf[6]) * 5\n",
    "    digito +=  int(cpf[7]) * 4\n",
    "    digito +=  int(cpf[8]) * 3\n",
    "    digito +=  int(cpf[9]) * 2\n",
    "\n",
    "    # calculando o resto da operacao\n",
    "    digito = (digito * 10) % 11\n",
    "\n",
    "    # Observação Importante: Se o resto da divisão for igual a 10, nós o consideramos como 0.\n",
    "    if digito == 10:\n",
    "        digito = 0\n",
    "\n",
    "    if str(digito) == cpf[-1]:\n",
    "        print('Segundo digito bateu')\n",
    "    else:\n",
    "        cpf_valido = False\n",
    "        erro += \"O segundo digito verificador não bateu \\n\"\n",
    "\n",
    "    print(digito)\n",
    "    print(f'O cpf é {cpf_valido}')\n",
    "    print(erro)\n",
    "except Exception as err:\n",
    "    print(f'Deu um erro no validador: {err}')\n",
    "    cpf_valido = False"
   ]
  },
  {
   "cell_type": "markdown",
   "metadata": {},
   "source": [
    "### Exceção\n"
   ]
  },
  {
   "cell_type": "code",
   "execution_count": null,
   "metadata": {},
   "outputs": [],
   "source": [
    "a = 1\n",
    "try:\n",
    "\n",
    "    1/0\n",
    "    raise ValueError('Deu ruim')\n",
    "\n",
    "except ValueError as err :\n",
    "    print(f'O erro foi: {err}')\n",
    "except Exception as err:\n",
    "    print(f'Outro erro')\n",
    "    #exit()\n",
    "    \n"
   ]
  },
  {
   "cell_type": "code",
   "execution_count": 49,
   "metadata": {},
   "outputs": [
    {
     "name": "stdout",
     "output_type": "stream",
     "text": [
      "O erro foi de divisão por 0\n",
      "Independente do que acontecer, eu estarei aqui\n"
     ]
    }
   ],
   "source": [
    "a = input()\n",
    "b = input()\n",
    "\n",
    "try:\n",
    "    \n",
    "    resultado = int(a) / int(b)\n",
    "\n",
    "    print(f'Meu resultado é {resultado}')\n",
    "\n",
    "    \n",
    "    \n",
    "except ZeroDivisionError:\n",
    "    print('O erro foi de divisão por 0')\n",
    "except Exception as mensagem_erro: # estou criando uma variável #mensagem_erro com o valor da exceção\n",
    "    print(f'Deu erro muito genérico que é: {mensagem_erro}')\n",
    "    exit()\n",
    "\n",
    "print('Independente do que acontecer, eu estarei aqui')\n"
   ]
  },
  {
   "cell_type": "code",
   "execution_count": 52,
   "metadata": {},
   "outputs": [
    {
     "name": "stdout",
     "output_type": "stream",
     "text": [
      "Você não digitou um número\n"
     ]
    },
    {
     "ename": "ValueError",
     "evalue": "Deu ruim",
     "output_type": "error",
     "traceback": [
      "\u001b[1;31m---------------------------------------------------------------------------\u001b[0m",
      "\u001b[1;31mValueError\u001b[0m                                Traceback (most recent call last)",
      "Cell \u001b[1;32mIn [52], line 7\u001b[0m\n\u001b[0;32m      5\u001b[0m \u001b[38;5;28;01melse\u001b[39;00m:\n\u001b[0;32m      6\u001b[0m     \u001b[38;5;28mprint\u001b[39m(\u001b[38;5;124m'\u001b[39m\u001b[38;5;124mVocê não digitou um número\u001b[39m\u001b[38;5;124m'\u001b[39m)\n\u001b[1;32m----> 7\u001b[0m     \u001b[38;5;28;01mraise\u001b[39;00m \u001b[38;5;167;01mValueError\u001b[39;00m(\u001b[38;5;124m'\u001b[39m\u001b[38;5;124mDeu ruim\u001b[39m\u001b[38;5;124m'\u001b[39m)\n",
      "\u001b[1;31mValueError\u001b[0m: Deu ruim"
     ]
    }
   ],
   "source": [
    "numero = input('Digite um número')\n",
    "\n",
    "if numero.isdigit():\n",
    "    print('Você digitou um número')\n",
    "else:\n",
    "    print('Você não digitou um número')\n",
    "    raise ValueError('Deu ruim') # estou forçando um erro"
   ]
  },
  {
   "cell_type": "code",
   "execution_count": 43,
   "metadata": {},
   "outputs": [
    {
     "ename": "NameError",
     "evalue": "name 'proinaiu' is not defined",
     "output_type": "error",
     "traceback": [
      "\u001b[1;31m---------------------------------------------------------------------------\u001b[0m",
      "\u001b[1;31mNameError\u001b[0m                                 Traceback (most recent call last)",
      "Cell \u001b[1;32mIn [43], line 1\u001b[0m\n\u001b[1;32m----> 1\u001b[0m \u001b[43mproinaiu\u001b[49m()\n",
      "\u001b[1;31mNameError\u001b[0m: name 'proinaiu' is not defined"
     ]
    }
   ],
   "source": [
    "proinaiu()"
   ]
  },
  {
   "cell_type": "markdown",
   "metadata": {},
   "source": [
    "### Estruturas de repetição"
   ]
  },
  {
   "cell_type": "code",
   "execution_count": 53,
   "metadata": {},
   "outputs": [
    {
     "name": "stdout",
     "output_type": "stream",
     "text": [
      "10\n"
     ]
    }
   ],
   "source": [
    "# while \n",
    "\n",
    "soma = 0\n",
    "\n",
    "soma += 1\n",
    "soma = soma + 1\n",
    "soma = soma + 1\n",
    "soma = soma + 1\n",
    "soma = soma + 1\n",
    "soma = soma + 1\n",
    "soma = soma + 1\n",
    "soma = soma + 1\n",
    "soma = soma + 1\n",
    "soma = soma + 1\n",
    "\n",
    "print(soma)"
   ]
  },
  {
   "cell_type": "code",
   "execution_count": 57,
   "metadata": {},
   "outputs": [
    {
     "name": "stdout",
     "output_type": "stream",
     "text": [
      "O valor de soma é 1 \n",
      "Meu valor de i é 9\n",
      "O valor de soma é 2 \n",
      "Meu valor de i é 8\n",
      "O valor de soma é 3 \n",
      "Meu valor de i é 7\n",
      "O valor de soma é 4 \n",
      "Meu valor de i é 6\n",
      "O valor de soma é 5 \n",
      "Meu valor de i é 5\n",
      "O valor de soma é 6 \n",
      "Meu valor de i é 4\n",
      "O valor de soma é 7 \n",
      "Meu valor de i é 3\n",
      "O valor de soma é 8 \n",
      "Meu valor de i é 2\n",
      "O valor de soma é 9 \n",
      "Meu valor de i é 1\n",
      "O valor de soma é 10 \n",
      "Meu valor de i é 0\n",
      "Saiu do while\n"
     ]
    }
   ],
   "source": [
    "i = 10\n",
    "soma = 0\n",
    "\n",
    "while(i > 0):\n",
    "    soma += 1\n",
    "\n",
    "    i = i - 1\n",
    "    print(f'O valor de soma é {soma} ')\n",
    "    print(f'Meu valor de i é {i}')\n",
    "\n",
    "print('Saiu do while')\n"
   ]
  },
  {
   "cell_type": "code",
   "execution_count": 61,
   "metadata": {},
   "outputs": [
    {
     "name": "stdout",
     "output_type": "stream",
     "text": [
      "T\n",
      "e\n",
      "o\n",
      "d\n",
      "o\n",
      "r\n",
      " \n",
      "H\n",
      "e\n",
      "n\n",
      "r\n",
      "i\n",
      "q\n",
      "u\n",
      "e\n",
      " \n",
      "d\n",
      "e\n",
      " \n",
      "F\n",
      "r\n",
      "e\n",
      "i\n",
      "t\n",
      "a\n",
      "s\n",
      " \n",
      "B\n",
      "a\n",
      "r\n",
      "c\n",
      "z\n",
      "e\n",
      "w\n",
      "s\n",
      "k\n",
      "i\n"
     ]
    }
   ],
   "source": [
    "nome = 'Teodor Henrique de Freitas Barczewski'\n",
    "\n",
    "i = 0\n",
    "\n",
    "while i < len(nome):\n",
    "    print(nome[i])\n",
    "    i += 1\n",
    "\n"
   ]
  },
  {
   "cell_type": "code",
   "execution_count": 97,
   "metadata": {},
   "outputs": [
    {
     "name": "stdout",
     "output_type": "stream",
     "text": [
      "A sua idade é 30\n"
     ]
    }
   ],
   "source": [
    "idade = (input('Digite sua idade'))\n",
    "\n",
    "while idade.isdigit() == False:\n",
    "    idade = input('Digite sua idade')\n",
    "\n",
    "print(f'A sua idade é {int(idade)}')\n"
   ]
  },
  {
   "cell_type": "code",
   "execution_count": 84,
   "metadata": {},
   "outputs": [
    {
     "name": "stdout",
     "output_type": "stream",
     "text": [
      "<class 'str'>\n",
      "<class 'str'>\n"
     ]
    }
   ],
   "source": [
    "#type('Teodor')#\n",
    "\n",
    "variavel = input('Digite qualquer coisa')\n",
    "print(type(variavel))\n",
    "\n",
    "if variavel.isdigit():\n",
    "    variavel = int(variavel)\n",
    "\n",
    "print(type(variavel))"
   ]
  },
  {
   "cell_type": "code",
   "execution_count": 86,
   "metadata": {},
   "outputs": [
    {
     "name": "stdout",
     "output_type": "stream",
     "text": [
      "<class 'int'>\n"
     ]
    }
   ],
   "source": [
    "print(type(-10))"
   ]
  },
  {
   "cell_type": "code",
   "execution_count": 85,
   "metadata": {},
   "outputs": [
    {
     "name": "stdout",
     "output_type": "stream",
     "text": [
      "10\n"
     ]
    }
   ],
   "source": [
    "print('-10'.lstrip('-'))"
   ]
  },
  {
   "cell_type": "code",
   "execution_count": 95,
   "metadata": {},
   "outputs": [
    {
     "name": "stdout",
     "output_type": "stream",
     "text": [
      "Você não digitou um número\n"
     ]
    }
   ],
   "source": [
    "numero = input()\n",
    "\n",
    "numero_aux = numero.lstrip('-')\n",
    "numero_aux = numero_aux.replace('.','',1)\n",
    "\n",
    "#numero.isdigit()\n",
    "\n",
    "if numero_aux.isdigit():\n",
    "    numero = float(numero)\n",
    "    print(f'Você digitou um número {numero}')\n",
    "else:\n",
    "    print('Você não digitou um número')"
   ]
  },
  {
   "cell_type": "code",
   "execution_count": 99,
   "metadata": {},
   "outputs": [
    {
     "name": "stdout",
     "output_type": "stream",
     "text": [
      "1 X 1 = 1\n",
      "1 X 2 = 2\n",
      "1 X 3 = 3\n",
      "1 X 4 = 4\n",
      "1 X 5 = 5\n",
      "1 X 6 = 6\n",
      "1 X 7 = 7\n",
      "1 X 8 = 8\n",
      "1 X 9 = 9\n",
      "1 X 10 = 10\n",
      "2 X 1 = 2\n",
      "2 X 2 = 4\n",
      "2 X 3 = 6\n",
      "2 X 4 = 8\n",
      "2 X 5 = 10\n",
      "2 X 6 = 12\n",
      "2 X 7 = 14\n",
      "2 X 8 = 16\n",
      "2 X 9 = 18\n",
      "2 X 10 = 20\n",
      "3 X 1 = 3\n",
      "3 X 2 = 6\n",
      "3 X 3 = 9\n",
      "3 X 4 = 12\n",
      "3 X 5 = 15\n",
      "3 X 6 = 18\n",
      "3 X 7 = 21\n",
      "3 X 8 = 24\n",
      "3 X 9 = 27\n",
      "3 X 10 = 30\n",
      "4 X 1 = 4\n",
      "4 X 2 = 8\n",
      "4 X 3 = 12\n",
      "4 X 4 = 16\n",
      "4 X 5 = 20\n",
      "4 X 6 = 24\n",
      "4 X 7 = 28\n",
      "4 X 8 = 32\n",
      "4 X 9 = 36\n",
      "4 X 10 = 40\n",
      "5 X 1 = 5\n",
      "5 X 2 = 10\n",
      "5 X 3 = 15\n",
      "5 X 4 = 20\n",
      "5 X 5 = 25\n",
      "5 X 6 = 30\n",
      "5 X 7 = 35\n",
      "5 X 8 = 40\n",
      "5 X 9 = 45\n",
      "5 X 10 = 50\n",
      "6 X 1 = 6\n",
      "6 X 2 = 12\n",
      "6 X 3 = 18\n",
      "6 X 4 = 24\n",
      "6 X 5 = 30\n",
      "6 X 6 = 36\n",
      "6 X 7 = 42\n",
      "6 X 8 = 48\n",
      "6 X 9 = 54\n",
      "6 X 10 = 60\n",
      "7 X 1 = 7\n",
      "7 X 2 = 14\n",
      "7 X 3 = 21\n",
      "7 X 4 = 28\n",
      "7 X 5 = 35\n",
      "7 X 6 = 42\n",
      "7 X 7 = 49\n",
      "7 X 8 = 56\n",
      "7 X 9 = 63\n",
      "7 X 10 = 70\n",
      "8 X 1 = 8\n",
      "8 X 2 = 16\n",
      "8 X 3 = 24\n",
      "8 X 4 = 32\n",
      "8 X 5 = 40\n",
      "8 X 6 = 48\n",
      "8 X 7 = 56\n",
      "8 X 8 = 64\n",
      "8 X 9 = 72\n",
      "8 X 10 = 80\n",
      "9 X 1 = 9\n",
      "9 X 2 = 18\n",
      "9 X 3 = 27\n",
      "9 X 4 = 36\n",
      "9 X 5 = 45\n",
      "9 X 6 = 54\n",
      "9 X 7 = 63\n",
      "9 X 8 = 72\n",
      "9 X 9 = 81\n",
      "9 X 10 = 90\n",
      "10 X 1 = 10\n",
      "10 X 2 = 20\n",
      "10 X 3 = 30\n",
      "10 X 4 = 40\n",
      "10 X 5 = 50\n",
      "10 X 6 = 60\n",
      "10 X 7 = 70\n",
      "10 X 8 = 80\n",
      "10 X 9 = 90\n",
      "10 X 10 = 100\n"
     ]
    }
   ],
   "source": [
    "i = 1\n",
    "\n",
    "while (i <= 10):\n",
    "    \n",
    "    j = 1\n",
    "\n",
    "    while(j <= 10):\n",
    "        print(f'{i} X {j} = {i * j}')\n",
    "        j += 1\n",
    "    \n",
    "    i += 1"
   ]
  },
  {
   "cell_type": "code",
   "execution_count": 102,
   "metadata": {},
   "outputs": [
    {
     "name": "stdout",
     "output_type": "stream",
     "text": [
      "6\n"
     ]
    }
   ],
   "source": [
    "# 5! \n",
    "\n",
    "# 5 * 4 * 3 * 2 * 1\n",
    "\n",
    "fatorial = int(input('Digite um numero para calcular o fatorial'))\n",
    "resultado = 1\n",
    "\n",
    "while (fatorial >= 1):\n",
    "    resultado = resultado * fatorial\n",
    "    # resultado *= fatorial\n",
    "    fatorial = fatorial - 1\n",
    "    #fatorial -= 1\n",
    "\n",
    "print(resultado)"
   ]
  },
  {
   "cell_type": "code",
   "execution_count": 108,
   "metadata": {},
   "outputs": [
    {
     "name": "stdout",
     "output_type": "stream",
     "text": [
      "A sua idade é 09afj409fa4j\n",
      "Você tentou 4 vezes\n"
     ]
    }
   ],
   "source": [
    "idade = (input('Digite sua idade'))\n",
    "\n",
    "i = 1\n",
    "\n",
    "while idade.isdigit() == False and i <= 3:\n",
    "    idade = input('Digite sua idade')\n",
    "    i += 1\n",
    "\n",
    "    #if i == 3:\n",
    "    #    print('Você estourou a quantidade de vezes')\n",
    "    #    break\n",
    "\n",
    "\n",
    "\n",
    "print(f'A sua idade é {idade}')\n",
    "print(f'Você tentou {i} vezes')"
   ]
  },
  {
   "cell_type": "code",
   "execution_count": 110,
   "metadata": {},
   "outputs": [
    {
     "name": "stdout",
     "output_type": "stream",
     "text": [
      "Você estourou a quantidade de vezes\n",
      "A sua idade é 0s9gj09s5g\n",
      "Você tentou 3 vezes\n"
     ]
    }
   ],
   "source": [
    "idade = (input('Digite sua idade'))\n",
    "\n",
    "i = 1\n",
    "\n",
    "while idade.isdigit() == False :\n",
    "    idade = input('Digite sua idade')\n",
    "    i += 1\n",
    "\n",
    "    if i == 3:\n",
    "        print('Você estourou a quantidade de vezes')\n",
    "        break\n",
    "else:\n",
    "    print('Vai acontecer quando o while sair normalmente')\n",
    "\n",
    "\n",
    "print(f'A sua idade é {idade}')\n",
    "print(f'Você tentou {i} vezes')"
   ]
  },
  {
   "cell_type": "code",
   "execution_count": 4,
   "metadata": {},
   "outputs": [
    {
     "name": "stdout",
     "output_type": "stream",
     "text": [
      "Você acertou o número 10 com 1 tentativas\n"
     ]
    }
   ],
   "source": [
    "import random\n",
    "\n",
    "aleatorio = random.randint(1,10)\n",
    "#print(numero)\n",
    "\n",
    "numero = int(input('Digite um numero'))\n",
    "\n",
    "i = 1\n",
    "\n",
    "while (numero != aleatorio):\n",
    "    numero = int(input('Digite outro numero'))\n",
    "    i+= 1\n",
    "\n",
    "    if(i == 3):\n",
    "        print('Você estourou o número de tentativas')\n",
    "        break\n",
    "else:\n",
    "    print(f'Você acertou o número {numero} com {i} tentativas')"
   ]
  },
  {
   "cell_type": "markdown",
   "metadata": {},
   "source": []
  },
  {
   "cell_type": "markdown",
   "metadata": {},
   "source": [
    "-1"
   ]
  },
  {
   "cell_type": "markdown",
   "metadata": {},
   "source": [
    "1 - Receba uma string e verifique se esta string é um palíndromo. Por ex: aabaa é um palindromo. "
   ]
  },
  {
   "cell_type": "code",
   "execution_count": 19,
   "metadata": {},
   "outputs": [
    {
     "name": "stdout",
     "output_type": "stream",
     "text": [
      "A palavra ou frase digitada foi: socorram me subi no onibus em marrocos\n",
      "socorrammesubinoonibusemmarrocos\n",
      "socorrammesubinoonibusemmarrocos\n",
      "A palavra ou frase é um palíndromo\n"
     ]
    }
   ],
   "source": [
    "string = input(\"Digita uma palavra ou frase: \")\n",
    "print(f\"A palavra ou frase digitada foi: {string}\")\n",
    "i = 1\n",
    "string = string.replace(' ','')\n",
    "string_invertido = ''\n",
    "while i <= len(string):\n",
    "    string_invertido += string[-i]\n",
    "    i += 1\n",
    "print(string)\n",
    "print(string_invertido)\n",
    "if string_invertido == string:\n",
    "    print(\"A palavra ou frase é um palíndromo\")\n",
    "else:\n",
    "    print(\"A palavra ou frase não é um palíndromo\")"
   ]
  },
  {
   "cell_type": "code",
   "execution_count": 26,
   "metadata": {},
   "outputs": [
    {
     "name": "stdout",
     "output_type": "stream",
     "text": [
      "socorrammesubinoonibusemmarrocos\n",
      "socorrammesubinoonibusemmarrocos\n"
     ]
    }
   ],
   "source": [
    "string = 'socorram me subi no onibus em marrocos'\n",
    "#string[start:end:step]\n",
    "print(string.replace(' ','')[::-1])\n",
    "print(string.replace(' ',''))\n",
    "\n"
   ]
  },
  {
   "cell_type": "markdown",
   "metadata": {},
   "source": [
    "2 - Receba um número de 1 a 100 (faça ifs para verificar se está dentro deste intervalo). Verifique quantos números pares existem de 1 até o número digitado OU (Se der tempo) receba dois numeros que devem ser de 1 a 100 e verifique quantos números pares tem neste intervalo"
   ]
  },
  {
   "cell_type": "code",
   "execution_count": 28,
   "metadata": {},
   "outputs": [
    {
     "name": "stdout",
     "output_type": "stream",
     "text": [
      "5\n"
     ]
    }
   ],
   "source": [
    "numero = int(input('Digite um número de 1 a 100: '))\n",
    "i = 1\n",
    "par = 0\n",
    "\n",
    "if numero >= 1 and numero <= 100:\n",
    "    while i <= numero:\n",
    "        if i % 2 == 0:\n",
    "            par += 1\n",
    "        i += 1\n",
    "    print(par)\n",
    "else:\n",
    "    print('O numero tem que estar entre 1 e 100.')"
   ]
  },
  {
   "cell_type": "markdown",
   "metadata": {},
   "source": [
    "3 - Faça um programa que leia um nome de usuário e a sua senha e não aceite a senha igual ao nome do usuário, mostrando uma mensagem de erro e voltando a pedir as informações.\n",
    "\n",
    "Verifique se na senha existe uma exclamação e um número"
   ]
  },
  {
   "cell_type": "code",
   "execution_count": 33,
   "metadata": {},
   "outputs": [
    {
     "name": "stdout",
     "output_type": "stream",
     "text": [
      "O nome é Teo e é !123 \n"
     ]
    }
   ],
   "source": [
    "nome = input('Digite seu nome')\n",
    "senha = input('Digite sua senha')\n",
    "\n",
    "verificador_exclamacao = False\n",
    "verificador_numero = False\n",
    "\n",
    "while nome == senha or not verificador_exclamacao or not verificador_numero:\n",
    "    nome = input('Digite seu nome')\n",
    "    senha = input('Digite sua senha')\n",
    "\n",
    "    verificador_exclamacao = False\n",
    "    verificador_numero = False\n",
    "\n",
    "    i = 0\n",
    "\n",
    "    'teo!123'\n",
    "\n",
    "    while i < len(senha):\n",
    "        if senha[i] == '!':\n",
    "            verificador_exclamacao = True\n",
    "\n",
    "        if senha[i].isdigit():\n",
    "            verificador_numero = True\n",
    "        i += 1\n",
    "\n",
    "print(f'O nome é {nome} e é {senha} ')"
   ]
  },
  {
   "cell_type": "markdown",
   "metadata": {},
   "source": [
    "4 - Faça um programa que receba um número. Verifique quantos números primos existe entre 1 e o número digitado (lembrando que 1 não é primo)\n",
    "\n",
    "Por ex: 12\n",
    "Existem 3 números primos entre 1 e 12"
   ]
  },
  {
   "cell_type": "code",
   "execution_count": null,
   "metadata": {},
   "outputs": [],
   "source": [
    "# number = int(input('Numero: '))\n",
    "\n",
    "# p = 0\n",
    "\n",
    "# for i in range (2, number+1):\n",
    "#     for k in range(2, i):\n",
    "#       if i % k == 0:\n",
    "#             p += 1\n",
    "#             break\n",
    "\n",
    "# q_numeros_primos = number - (p + 1)\n",
    "\n",
    "# print(q_numeros_primos)\n",
    "\n",
    "# ctrl+h\n",
    "# ctrl + ; OU ctrl + / = comenta o código\n",
    "# ctrl + d - seleciona a palavra e altera ela\n",
    "# ctrl + K depois ctrl + r = abrir um spreadsheet com atalhos"
   ]
  },
  {
   "cell_type": "code",
   "execution_count": 13,
   "metadata": {},
   "outputs": [
    {
     "name": "stdout",
     "output_type": "stream",
     "text": [
      "What did the Java code say to the C code? A: You've got no class.\n"
     ]
    }
   ],
   "source": [
    "import pyjokes\n",
    "piada = pyjokes.get_joke(language='en', category='all')\n",
    "print(piada)"
   ]
  },
  {
   "cell_type": "markdown",
   "metadata": {},
   "source": []
  }
 ],
 "metadata": {
  "kernelspec": {
   "display_name": "Python 3.9.10 64-bit",
   "language": "python",
   "name": "python3"
  },
  "language_info": {
   "codemirror_mode": {
    "name": "ipython",
    "version": 3
   },
   "file_extension": ".py",
   "mimetype": "text/x-python",
   "name": "python",
   "nbconvert_exporter": "python",
   "pygments_lexer": "ipython3",
   "version": "3.9.10"
  },
  "orig_nbformat": 4,
  "vscode": {
   "interpreter": {
    "hash": "4f12edece1b6ed8dc2a09be6f356fe005f2a039c320a3a2809fb3b7d30b40e33"
   }
  }
 },
 "nbformat": 4,
 "nbformat_minor": 2
}
