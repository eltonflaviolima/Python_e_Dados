{
 "cells": [
  {
   "cell_type": "markdown",
   "metadata": {},
   "source": [
    "## Tópicos da aula\n",
    "\n",
    "- Estrutura condicional e controle de fluxo\n",
    "- Comando if\n",
    "- Comando else\n",
    "- Comando Elif\n",
    "- Métodos e funções\n",
    "- Métodos - https://www.w3schools.com/python/python_ref_string.asp\n",
    "- Métodos de strings:\n",
    "    - isdigit()\n",
    "    - replace()\n",
    "    - upper()\n",
    "    - *Pegando uma parte da string*\n",
    "- Controle de exceção\n",
    "    - try/catch\n",
    "    - Forçando uma exceção (raise exception)\n",
    "    - Mais de uma exceção\n",
    "    - Quando usar?\n",
    "- Bibliotecas\n",
    "    - *Sys (version/version_info)*\n",
    "    - *datetime*\n",
    "    - time"
   ]
  },
  {
   "cell_type": "code",
   "execution_count": null,
   "metadata": {},
   "outputs": [],
   "source": [
    "if False:\n",
    "    print('Esta condição é verdadeira')\n",
    "\n",
    "print('Isto vai acontecer sempre')"
   ]
  },
  {
   "cell_type": "code",
   "execution_count": null,
   "metadata": {},
   "outputs": [],
   "source": [
    "if ' ':\n",
    "    print('Teste de verdadeiro')\n",
    "\n",
    "bool(-1)"
   ]
  },
  {
   "cell_type": "code",
   "execution_count": null,
   "metadata": {},
   "outputs": [],
   "source": [
    "#Booleana - True False\n",
    "print(bool('Teodor'))\n",
    "print(bool(''))"
   ]
  },
  {
   "cell_type": "code",
   "execution_count": null,
   "metadata": {},
   "outputs": [],
   "source": [
    "variavel = 2\n",
    "print(variavel)"
   ]
  },
  {
   "cell_type": "code",
   "execution_count": null,
   "metadata": {},
   "outputs": [],
   "source": [
    "numero_1 = input('Digite um numero')\n",
    "numero_2 = input('Digite outro numero')\n",
    "\n",
    "print(numero_1 == numero_2)\n",
    "\n",
    "if numero_1 == numero_2:\n",
    "    print(f'{numero_1} é igual a {numero_2}')"
   ]
  },
  {
   "cell_type": "code",
   "execution_count": null,
   "metadata": {},
   "outputs": [],
   "source": [
    "# and -> quando as condições da esquerda e da direita tem que ser verdadeiras\n",
    "# or -> quando qualquer condição da esquerda e da direita tem que ser verdadeiras\n",
    "print(False or False)\n",
    "\n",
    "if True and True and True and True or False:\n",
    "    print('As duas condições são verdadeiras')"
   ]
  },
  {
   "cell_type": "code",
   "execution_count": null,
   "metadata": {},
   "outputs": [],
   "source": [
    "nome = input('Digite seu nome')\n",
    "\n",
    "print(bool(nome) == False)\n",
    "\n",
    "if (not bool(nome)):\n",
    "    print('Por favor, digite o nome')\n"
   ]
  },
  {
   "cell_type": "code",
   "execution_count": null,
   "metadata": {},
   "outputs": [],
   "source": [
    "nome = input('Digite seu nome')\n",
    "idade = input('Digite sua idade')\n",
    "\n",
    "if bool(nome) == False or bool(idade) == False:\n",
    "    print('Por favor digite o nome e idade')"
   ]
  },
  {
   "cell_type": "code",
   "execution_count": null,
   "metadata": {},
   "outputs": [],
   "source": [
    "if 1 == 2:\n",
    "    print('Caiu aqui pq a condição foi verdadeira')\n",
    "else:\n",
    "    print('Caiu aqui pq a condição foi falsa')"
   ]
  },
  {
   "cell_type": "code",
   "execution_count": null,
   "metadata": {},
   "outputs": [],
   "source": [
    "nome = input('Digite seu nome')\n",
    "idade = input('Digite sua idade')\n",
    "\n",
    "if bool(nome) == False or bool(idade) == False:\n",
    "    print('Por favor digite o nome e idade')\n",
    "else:\n",
    "    print(f'Seu nome é {nome} e idade é {idade}')"
   ]
  },
  {
   "cell_type": "code",
   "execution_count": null,
   "metadata": {},
   "outputs": [],
   "source": [
    "numero_1 = int(input('Digite o numero A'))\n",
    "numero_2 = int(input('Digite o numero B'))\n",
    "\n",
    "print(type(numero_1))\n",
    "\n",
    "if numero_1 > numero_2:\n",
    "    print('A é maior que B')\n",
    "elif numero_1 == numero_2:\n",
    "    print('A é = a B')\n",
    "else:\n",
    "    print('B é maior que A')\n"
   ]
  },
  {
   "cell_type": "code",
   "execution_count": null,
   "metadata": {},
   "outputs": [],
   "source": [
    "bool('J'.upper() < 't'.upper())"
   ]
  },
  {
   "cell_type": "code",
   "execution_count": null,
   "metadata": {},
   "outputs": [],
   "source": [
    "#função\n",
    "# print()\n",
    "#type()\n",
    "\n",
    "#métodos\n",
    "\n",
    "'teo'.upper()\n"
   ]
  },
  {
   "cell_type": "code",
   "execution_count": null,
   "metadata": {},
   "outputs": [],
   "source": [
    "nome = input('Digite seu nome').upper()\n",
    "print(nome)"
   ]
  },
  {
   "cell_type": "code",
   "execution_count": null,
   "metadata": {},
   "outputs": [],
   "source": [
    "#Métodos para strings()\n",
    "lista = 'teo;rua antonio;telefone'.split(';')\n",
    "print(lista)"
   ]
  },
  {
   "cell_type": "code",
   "execution_count": null,
   "metadata": {},
   "outputs": [],
   "source": [
    "'teo;teste'.split()"
   ]
  },
  {
   "cell_type": "code",
   "execution_count": 137,
   "metadata": {},
   "outputs": [
    {
     "name": "stdout",
     "output_type": "stream",
     "text": [
      "Você não digitou um número\n",
      "0.0\n"
     ]
    }
   ],
   "source": [
    "# try / except (catch)\n",
    "import time\n",
    "\n",
    "inicio = time.time()\n",
    "\n",
    "try:\n",
    "    #numero_1 = int(input('Digite um numero'))\n",
    "    #numero_2=  int(input('Digite outro numero'))\n",
    "    numero_1 = int('19')\n",
    "    numero_2 = int('Teo')\n",
    "\n",
    "    print(numero_1 + numero_2)\n",
    "except:\n",
    "    print('Você não digitou um número')\n",
    "\n",
    "fim = time.time()\n",
    "\n",
    "print(float(fim-inicio))"
   ]
  },
  {
   "cell_type": "code",
   "execution_count": 135,
   "metadata": {},
   "outputs": [
    {
     "name": "stdout",
     "output_type": "stream",
     "text": [
      "1663370554.8820093\n"
     ]
    }
   ],
   "source": [
    "import time\n",
    "\n",
    "print(time.time())"
   ]
  },
  {
   "cell_type": "code",
   "execution_count": 131,
   "metadata": {},
   "outputs": [
    {
     "name": "stdout",
     "output_type": "stream",
     "text": [
      "15\n"
     ]
    }
   ],
   "source": [
    "numero_1 = input('Digite um numero')\n",
    "numero_2=  input('Digite outro numero')\n",
    "\n",
    "if numero_1.isdigit() and numero_2.isdigit():\n",
    "    print(int(numero_1) + int(numero_2))\n",
    "#else:\n",
    "#    print('Você não digitou um número')"
   ]
  },
  {
   "cell_type": "code",
   "execution_count": 140,
   "metadata": {},
   "outputs": [
    {
     "name": "stdout",
     "output_type": "stream",
     "text": [
      "Não é possível dividir por zero\n"
     ]
    }
   ],
   "source": [
    "try:\n",
    "    numero_1 = 10\n",
    "    numero_2 = 0\n",
    "\n",
    "    print(numero_1 / numero_2)\n",
    "except:\n",
    "    print('Não é possível dividir por zero')"
   ]
  },
  {
   "cell_type": "code",
   "execution_count": 144,
   "metadata": {},
   "outputs": [
    {
     "name": "stdout",
     "output_type": "stream",
     "text": [
      "Você digitou um número inválido\n"
     ]
    }
   ],
   "source": [
    "numero_1 = 10\n",
    "numero_2 = 'ytrsysr'\n",
    "\n",
    "try:\n",
    "    if (numero_1 != 0 and numero_2 != 0):\n",
    "        print(int(numero_1) / int(numero_2))\n",
    "    else:\n",
    "        print('Não é possível dividir por zero')\n",
    "\n",
    "except:\n",
    "    print('Você digitou um número inválido')"
   ]
  },
  {
   "cell_type": "code",
   "execution_count": null,
   "metadata": {},
   "outputs": [],
   "source": [
    "cpf = '111.222.333-1123121311'\n",
    "\n",
    "cpf = cpf.replace('.','').replace('-','')\n",
    "\n",
    "if len(cpf) == 11 and cpf.isdigit():\n",
    "    print('O CPF está correto')\n",
    "else:\n",
    "    print('O CPF não está correto')\n",
    "\n",
    "\n"
   ]
  },
  {
   "cell_type": "code",
   "execution_count": null,
   "metadata": {},
   "outputs": [],
   "source": [
    "cpf = '111.222.333-1123121311'\n",
    "\n",
    "print(type(cpf))\n",
    "\n",
    "print(cpf.replace('.','').replace('-',''))\n",
    "\n",
    "cpf = cpf.replace('.','').replace('-','')\n",
    "\n",
    "print(cpf)"
   ]
  },
  {
   "cell_type": "code",
   "execution_count": null,
   "metadata": {},
   "outputs": [],
   "source": [
    "condicao = 1 == 1\n",
    "print(condicao)\n",
    "\n",
    "if condicao:\n",
    "    pass\n",
    "    if condicao:\n",
    "        pass\n",
    "    else:\n",
    "        pass\n",
    "\n",
    "\n",
    "elif condicao:\n",
    "    pass # pass é um comando q não faz nada. Só para guar um lugar\n",
    "else:\n",
    "    pass\n",
    "    "
   ]
  },
  {
   "cell_type": "code",
   "execution_count": null,
   "metadata": {},
   "outputs": [],
   "source": [
    "if condicao == 1:\n",
    "    if\n",
    "if condicao == 1;"
   ]
  },
  {
   "cell_type": "code",
   "execution_count": null,
   "metadata": {},
   "outputs": [],
   "source": [
    "len('Teodor') # len -> tamanho de uma variável "
   ]
  },
  {
   "cell_type": "code",
   "execution_count": null,
   "metadata": {},
   "outputs": [],
   "source": [
    "'555'.isdigit()"
   ]
  },
  {
   "cell_type": "code",
   "execution_count": 148,
   "metadata": {},
   "outputs": [
    {
     "name": "stdout",
     "output_type": "stream",
     "text": [
      "1663372286.9608922\n"
     ]
    }
   ],
   "source": [
    "import time\n",
    "\n",
    "print(time.time())\n"
   ]
  },
  {
   "cell_type": "code",
   "execution_count": 5,
   "metadata": {},
   "outputs": [
    {
     "name": "stdout",
     "output_type": "stream",
     "text": [
      "2022-09-16 20:55:02.927913\n"
     ]
    }
   ],
   "source": [
    "from datetime import datetime\n",
    "\n",
    "hora_atual = str(datetime.now())\n",
    "print(hora_atual)\n"
   ]
  },
  {
   "cell_type": "code",
   "execution_count": 7,
   "metadata": {},
   "outputs": [
    {
     "data": {
      "text/plain": [
       "'2022'"
      ]
     },
     "execution_count": 7,
     "metadata": {},
     "output_type": "execute_result"
    }
   ],
   "source": [
    "hora_atual[0:10]\n",
    "hora_atual[0:4]"
   ]
  },
  {
   "cell_type": "code",
   "execution_count": 15,
   "metadata": {},
   "outputs": [
    {
     "data": {
      "text/plain": [
       "'2022-09-16'"
      ]
     },
     "execution_count": 15,
     "metadata": {},
     "output_type": "execute_result"
    }
   ],
   "source": [
    "str(datetime.today().date())"
   ]
  },
  {
   "cell_type": "code",
   "execution_count": 17,
   "metadata": {},
   "outputs": [
    {
     "name": "stdout",
     "output_type": "stream",
     "text": [
      "3.10.7 (tags/v3.10.7:6cc6b13, Sep  5 2022, 14:08:36) [MSC v.1933 64 bit (AMD64)]\n",
      "sys.version_info(major=3, minor=10, micro=7, releaselevel='final', serial=0)\n"
     ]
    }
   ],
   "source": [
    "import sys\n",
    "\n",
    "print(sys.version)\n",
    "print(sys.version_info)"
   ]
  },
  {
   "cell_type": "code",
   "execution_count": 23,
   "metadata": {},
   "outputs": [
    {
     "name": "stdout",
     "output_type": "stream",
     "text": [
      "Outra exceção\n"
     ]
    }
   ],
   "source": [
    "\n",
    "\n",
    "try:\n",
    "    x = 1/'teiohagieh'\n",
    "except ZeroDivisionError as err: # pegando uma exceção especifica\n",
    "    print('Erro de divisão de zero')\n",
    "except TypeError as err: # pegando uma exceção especifica\n",
    "    print('Outra exceção')"
   ]
  },
  {
   "cell_type": "code",
   "execution_count": 27,
   "metadata": {},
   "outputs": [
    {
     "name": "stdout",
     "output_type": "stream",
     "text": [
      "2022\n",
      "37\n"
     ]
    }
   ],
   "source": [
    "ano_atual = int(str(datetime.today())[0:4])\n",
    "\n",
    "print(ano_atual)\n",
    "\n",
    "ano_nascimento = int(input('Digite o seu ano de nascimento'))\n",
    "\n",
    "idade = ano_atual - ano_nascimento\n",
    "print(idade)"
   ]
  },
  {
   "cell_type": "code",
   "execution_count": 32,
   "metadata": {},
   "outputs": [
    {
     "name": "stdout",
     "output_type": "stream",
     "text": [
      "['14', '11', '1985']\n"
     ]
    }
   ],
   "source": [
    "ano_nascimento = input(\"Digite o ano de nascimento com este formato (xx/xx/xxxx\")\n",
    "\n",
    "ano = ano_nascimento.split('/')\n",
    "\n",
    "print(ano)"
   ]
  },
  {
   "cell_type": "markdown",
   "metadata": {},
   "source": []
  },
  {
   "cell_type": "markdown",
   "metadata": {},
   "source": [
    "# Exercícios\n"
   ]
  },
  {
   "cell_type": "markdown",
   "metadata": {},
   "source": [
    "1 - Usando a biblioteca datetime, pegue a data/hora atual. Faça um print que mostre: \"O ano é {ano}, o mês é {mês} e dia é {dia}\""
   ]
  },
  {
   "cell_type": "code",
   "execution_count": 48,
   "metadata": {},
   "outputs": [
    {
     "name": "stdout",
     "output_type": "stream",
     "text": [
      "O ano é 2022, o mês é 09 e dia é 16  \n"
     ]
    }
   ],
   "source": [
    "from datetime import datetime\n",
    "\n",
    "ano_atual = str(datetime.now())[0:4]\n",
    "mes_atual = str(datetime.now())[5:7]\n",
    "dia_atual = str(datetime.now())[8:11]\n",
    "\n",
    "print(f'O ano é {ano_atual}, o mês é {mes_atual} e dia é {dia_atual} ')"
   ]
  },
  {
   "cell_type": "code",
   "execution_count": 52,
   "metadata": {},
   "outputs": [
    {
     "name": "stdout",
     "output_type": "stream",
     "text": [
      "16\n",
      "9\n",
      "2022\n"
     ]
    }
   ],
   "source": [
    "print(datetime.now().day)\n",
    "print(datetime.now().month)\n",
    "print(datetime.now().year)"
   ]
  },
  {
   "cell_type": "markdown",
   "metadata": {},
   "source": [
    "2 - Receba o ano (comecando com 1). Informe qual o século que aquele ano pertence, sendo:\n",
    "\n",
    "1 a 100 - século 1\n",
    "101 a 200 - século 2\n",
    "\n",
    "e por ai vai\n",
    "\n",
    "2000 - Século 20"
   ]
  },
  {
   "cell_type": "code",
   "execution_count": 45,
   "metadata": {},
   "outputs": [
    {
     "name": "stdout",
     "output_type": "stream",
     "text": [
      "O ano 5 pertence ao século 1\n"
     ]
    }
   ],
   "source": [
    "ano = 5 #int(input('Digite um ano: '))\n",
    "\n",
    "if (ano % 100 == 0):\n",
    "    seculo =  ano // 100\n",
    "else:\n",
    "    \n",
    "    seculo = ano // 100 + 1\n",
    "print(f'O ano {ano} pertence ao século {seculo}')"
   ]
  },
  {
   "cell_type": "code",
   "execution_count": 47,
   "metadata": {},
   "outputs": [
    {
     "name": "stdout",
     "output_type": "stream",
     "text": [
      "1\n"
     ]
    }
   ],
   "source": [
    "ano = 5 #int(input('Digite um ano: '))\n",
    "\n",
    "seculo =  ano / 100\n",
    "\n",
    "#print(int(seculo))\n",
    "#print(float(seculo))\n",
    "\n",
    "if(int(seculo) == float(seculo)):\n",
    "    print(int(seculo))\n",
    "else:\n",
    "    print(int(seculo+1))"
   ]
  },
  {
   "cell_type": "code",
   "execution_count": null,
   "metadata": {},
   "outputs": [],
   "source": [
    "ano = int(input(\"Digite um ano para saber o século: \"))\n",
    "\n",
    "resto1 = ano % 10\n",
    "parte_restante = ano // 10\n",
    "resto2 = parte_restante % 10\n",
    "\n",
    "if resto1 == 0 and resto2 == 0:\n",
    "    seculo = ano//100\n",
    "    print(f\"{ano} pertence ao século {(seculo)}\")\n",
    "else:\n",
    "    seculo = ano//100 + 1\n",
    "    print(f\"{ano} pertence ao século {(seculo)}\")"
   ]
  },
  {
   "cell_type": "markdown",
   "metadata": {},
   "source": [
    "3 - Uma empresa decidiu dar um aumento de 5% no salário de uma pessoa se ela trabalha na mesma empresa a mais de 5 anos. Faça um programa que receba o ano de contratação, o salário e mostre o novo salário. Considere o ano atual (2022) para o cálculo."
   ]
  },
  {
   "cell_type": "code",
   "execution_count": 54,
   "metadata": {},
   "outputs": [
    {
     "name": "stdout",
     "output_type": "stream",
     "text": [
      "Você tem 1 anos de empresa. Seu salário permanecerá em R$1000.0\n"
     ]
    }
   ],
   "source": [
    "import datetime\n",
    "\n",
    "data_now = str(datetime.datetime.today())\n",
    "\n",
    "data_inicio = input('Digite o ano de sua contratação: ')\n",
    "salario = float(input('Digite seu salário: '))\n",
    "tempo_casa = int(data_now[:4]) - int(data_inicio)\n",
    "print(f'Você tem {tempo_casa} anos de empresa. ',end='')\n",
    "if tempo_casa > 5:\n",
    "    salario = salario * 1.05\n",
    "    print(f'Seu novo salário é R${salario}')\n",
    "else:\n",
    "    print(f'Seu salário permanecerá em R${salario}')"
   ]
  },
  {
   "cell_type": "markdown",
   "metadata": {},
   "source": [
    "4 - Receba a largura e altura de um retangulo e informe ao usuário se é um quadrado ou não"
   ]
  },
  {
   "cell_type": "code",
   "execution_count": 56,
   "metadata": {},
   "outputs": [
    {
     "name": "stdout",
     "output_type": "stream",
     "text": [
      "Não é um quadrado\n"
     ]
    }
   ],
   "source": [
    "h = float(input(\"Insira o valor da altura do retângulo\"))\n",
    "b = float(input(\"Insira o valor da largura do retângulo\"))\n",
    "\n",
    "if h != b:\n",
    "    print(\"Não é um quadrado\")\n",
    "else:\n",
    "    print(\"É um quadrado\")"
   ]
  },
  {
   "cell_type": "markdown",
   "metadata": {},
   "source": [
    "5- Receba a idade de 3 pessoas e informe o mais velho e o mais novo entre eles. Caso os 3 tenham a mesma idade, informe que todos tem a mesma idade."
   ]
  },
  {
   "cell_type": "code",
   "execution_count": 69,
   "metadata": {},
   "outputs": [
    {
     "name": "stdout",
     "output_type": "stream",
     "text": [
      "Usuário 1 tem a maior idade 10\n",
      "Usuário 2 e 3 tem a mesma idade\n"
     ]
    }
   ],
   "source": [
    "idade_1 = int(input(\"Digita a idade a 1° idade: \"))\n",
    "idade_2 = int(input(\"Digita a idade a 2° idade: \"))\n",
    "idade_3 = int(input(\"Digita a idade a 3° idade: \"))\n",
    "\n",
    "if idade_1 == idade_2 and idade_2 == idade_3:\n",
    "    print('Todas as idades são iguais')\n",
    "elif idade_1 >= idade_2 and idade_1 >= idade_3:\n",
    "    print(f'Usuário 1 tem a maior idade {idade_1}')\n",
    "    if (idade_2 < idade_3):\n",
    "        print(f'Usuário 2 tem a menor idade {idade_2}')\n",
    "    elif (idade_2 > idade_3):\n",
    "        print(f'Usuário 3 tem a menor idade {idade_3}')\n",
    "    else:\n",
    "        print(f'Usuário 2 e 3 tem a mesma idade')\n",
    "    \n",
    "elif idade_2 >= idade_1 and idade_2 >= idade_3:\n",
    "    print(f'Usuário 2 tem a maior idade {idade_2}')\n",
    "\n",
    "    if (idade_1 <= idade_3):\n",
    "        print(f'Usuário 1 tem a menor idade {idade_1}')\n",
    "    else:\n",
    "        print(f'Usuário 3 tem a menor idade {idade_3}')\n",
    "\n",
    "else:\n",
    "    print(f'Usuário 3 tem a maior idade {idade_3}')\n",
    "\n",
    "    if (idade_1 <= idade_2):\n",
    "        print(f'Usuário 1 tem a menor idade {idade_1}')\n",
    "    else:\n",
    "        print(f'Usuário 2 tem a menor idade {idade_2}')"
   ]
  },
  {
   "cell_type": "markdown",
   "metadata": {},
   "source": [
    "6 - Um aluno não pode fazer a prova se a porcentagem de comparecimento nas aulas dele for menor que 75%.\n",
    "\n",
    "Receba o número de aulas de um módulo, o número de aulas que o aluno participou.\n",
    "\n",
    "Mostre o % de participação e se o estudante pode fazer a prova ou não.\n",
    "\n",
    "Inclua regras de preenchimento não explícitas no exercício"
   ]
  },
  {
   "cell_type": "code",
   "execution_count": 73,
   "metadata": {},
   "outputs": [
    {
     "name": "stdout",
     "output_type": "stream",
     "text": [
      "Não é possível faltar mais aulas do que a quantidade de aulas\n"
     ]
    }
   ],
   "source": [
    "Aulas_totais = int(input('Insira o número total de aulas: '))\n",
    "Aulas_comparecidas = int(input('Insira o número de aulas comparecidas: '))\n",
    "Percentual = Aulas_comparecidas*100/Aulas_totais\n",
    "\n",
    "if Aulas_totais >= Aulas_comparecidas:\n",
    "    if Percentual >= 75:\n",
    "        print(f'O aluno compareceu a {Percentual}% das aulas e pode realizar a prova!')\n",
    "    else:\n",
    "        print(f'O aluno compareceu a {Percentual}% das aulas e não pode realizar a prova!')\n",
    "else:\n",
    "    print('Não é possível faltar mais aulas do que a quantidade de aulas')"
   ]
  },
  {
   "cell_type": "markdown",
   "metadata": {},
   "source": [
    "7 - Validador de CPF : https://ogeradordecpf.com.br/algoritmo/"
   ]
  },
  {
   "cell_type": "code",
   "execution_count": 6,
   "metadata": {},
   "outputs": [
    {
     "name": "stdout",
     "output_type": "stream",
     "text": [
      "2\n"
     ]
    }
   ],
   "source": [
    "cpf = '050.717.065-20'\n",
    "\n",
    "cpf = cpf.replace('.','').replace('-','')\n",
    "\n",
    "cpf_valido = True\n",
    "\n",
    "erro = ''\n",
    "\n",
    "\n",
    "if not len(cpf) == 11:\n",
    "    cpf_valido = False\n",
    "    erro += ''\n",
    "\n",
    "\n",
    "digito = 0\n",
    "\n",
    "digito = digito + int(cpf[0]) * 10\n",
    "digito += int(cpf[1]) * 9\n",
    "digito += int(cpf[2]) * 8\n",
    "digito += int(cpf[3]) * 7\n",
    "digito += int(cpf[4]) * 6\n",
    "digito += int(cpf[5]) * 5\n",
    "digito += int(cpf[6]) * 4\n",
    "digito += int(cpf[7]) * 3\n",
    "digito += int(cpf[8]) * 2\n",
    "\n",
    "digito = (digito * 10) % 11\n",
    "\n",
    "if digito == 10:\n",
    "    digito = 0\n",
    "\n",
    "if str(digito) == cpf[-2]:\n",
    "    print('O primeiro digito bateu!')\n",
    "\n",
    "print(digito)"
   ]
  },
  {
   "cell_type": "markdown",
   "metadata": {},
   "source": []
  },
  {
   "cell_type": "markdown",
   "metadata": {},
   "source": []
  },
  {
   "cell_type": "markdown",
   "metadata": {},
   "source": []
  }
 ],
 "metadata": {
  "kernelspec": {
   "display_name": "Python 3.9.10 64-bit",
   "language": "python",
   "name": "python3"
  },
  "language_info": {
   "codemirror_mode": {
    "name": "ipython",
    "version": 3
   },
   "file_extension": ".py",
   "mimetype": "text/x-python",
   "name": "python",
   "nbconvert_exporter": "python",
   "pygments_lexer": "ipython3",
   "version": "3.9.10"
  },
  "orig_nbformat": 4,
  "vscode": {
   "interpreter": {
    "hash": "4f12edece1b6ed8dc2a09be6f356fe005f2a039c320a3a2809fb3b7d30b40e33"
   }
  }
 },
 "nbformat": 4,
 "nbformat_minor": 2
}
