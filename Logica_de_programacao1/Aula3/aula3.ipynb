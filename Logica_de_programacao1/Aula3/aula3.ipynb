{
 "cells": [
  {
   "cell_type": "code",
   "execution_count": 4,
   "metadata": {},
   "outputs": [
    {
     "name": "stdout",
     "output_type": "stream",
     "text": [
      "Você não digitou um número\n"
     ]
    }
   ],
   "source": [
    "try:\n",
    "    numero_1 = int(input('Digite o primeiro número:'))\n",
    "    numero_2 = int(input('Digite o segundo número:'))\n",
    "\n",
    "    print(type(numero_1))\n",
    "\n",
    "    if numero_1 > numero_2:\n",
    "        print('O 1º número é maior que o 2º')\n",
    "    elif numero_1 == numero_2:\n",
    "        print('O 1º número é igual ao 2º')\n",
    "    else:\n",
    "        print('O 1º número é menor que o 2º')\n",
    "except:\n",
    "    print('Você não digitou um número')"
   ]
  },
  {
   "cell_type": "code",
   "execution_count": 5,
   "metadata": {},
   "outputs": [
    {
     "data": {
      "text/plain": [
       "datetime.datetime(2022, 9, 16, 20, 53, 37, 258567)"
      ]
     },
     "execution_count": 5,
     "metadata": {},
     "output_type": "execute_result"
    }
   ],
   "source": [
    "from datetime import datetime\n",
    "\n",
    "datetime.now()"
   ]
  },
  {
   "cell_type": "code",
   "execution_count": 6,
   "metadata": {},
   "outputs": [
    {
     "name": "stdout",
     "output_type": "stream",
     "text": [
      "2022-09-16\n"
     ]
    }
   ],
   "source": [
    "hora_atual = str(datetime.now())\n",
    "print(hora_atual[0:10])\n",
    "\n"
   ]
  },
  {
   "cell_type": "code",
   "execution_count": 8,
   "metadata": {},
   "outputs": [
    {
     "name": "stdout",
     "output_type": "stream",
     "text": [
      "2022-09-16\n"
     ]
    }
   ],
   "source": [
    "data = datetime.today().date()\n",
    "print(data)"
   ]
  },
  {
   "cell_type": "code",
   "execution_count": 17,
   "metadata": {},
   "outputs": [
    {
     "name": "stdout",
     "output_type": "stream",
     "text": [
      "3.9.10 (tags/v3.9.10:f2f3f53, Jan 17 2022, 15:14:21) [MSC v.1929 64 bit (AMD64)]\n",
      "sys.version_info(major=3, minor=9, micro=10, releaselevel='final', serial=0)\n"
     ]
    }
   ],
   "source": [
    "import sys\n",
    "\n",
    "print(sys.version)\n",
    "print(sys.version_info)"
   ]
  },
  {
   "cell_type": "code",
   "execution_count": 15,
   "metadata": {},
   "outputs": [
    {
     "name": "stdout",
     "output_type": "stream",
     "text": [
      "Erro de digitação!\n"
     ]
    }
   ],
   "source": [
    "try:\n",
    "    x = 1/\"0\"\n",
    "except ZeroDivisionError:\n",
    "    print('Não é possível dividir um valor por 0')\n",
    "except TypeError:\n",
    "    print('Erro de digitação!')"
   ]
  }
 ],
 "metadata": {
  "kernelspec": {
   "display_name": "Python 3.9.10 64-bit",
   "language": "python",
   "name": "python3"
  },
  "language_info": {
   "codemirror_mode": {
    "name": "ipython",
    "version": 3
   },
   "file_extension": ".py",
   "mimetype": "text/x-python",
   "name": "python",
   "nbconvert_exporter": "python",
   "pygments_lexer": "ipython3",
   "version": "3.9.10"
  },
  "orig_nbformat": 4,
  "vscode": {
   "interpreter": {
    "hash": "4f12edece1b6ed8dc2a09be6f356fe005f2a039c320a3a2809fb3b7d30b40e33"
   }
  }
 },
 "nbformat": 4,
 "nbformat_minor": 2
}
