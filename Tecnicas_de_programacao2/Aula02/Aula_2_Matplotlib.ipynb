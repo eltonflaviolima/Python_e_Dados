{
  "cells": [
    {
      "cell_type": "markdown",
      "metadata": {
        "id": "4vwYaEbEZ4nY"
      },
      "source": [
        "# Aula 2 - Matplotlib"
      ]
    },
    {
      "cell_type": "markdown",
      "metadata": {
        "id": "94he9PoubPgw"
      },
      "source": [
        "### Documentações"
      ]
    },
    {
      "cell_type": "markdown",
      "metadata": {
        "id": "bDc-ZpjtNdbi"
      },
      "source": [
        "[Matplotlib](https://matplotlib.org/stable/tutorials/introductory/usage.html)"
      ]
    },
    {
      "cell_type": "markdown",
      "metadata": {
        "id": "haYz6TsaLS0M"
      },
      "source": [
        "### Importando os Dados"
      ]
    },
    {
      "cell_type": "code",
      "execution_count": 3,
      "metadata": {
        "colab": {
          "base_uri": "https://localhost:8080/"
        },
        "id": "7zyjFyDCpxV5",
        "outputId": "055aa837-7dc4-494b-8f48-31fc94d6c0e3"
      },
      "outputs": [],
      "source": [
        "# instalando a biblioteca\n",
        "# !pip install matplotlib==3.5"
      ]
    },
    {
      "cell_type": "code",
      "execution_count": 4,
      "metadata": {
        "id": "KqmaVR4YI2bD"
      },
      "outputs": [],
      "source": [
        "# importando a biblioteca\n",
        "import matplotlib.pyplot as plt\n",
        "import pandas as pd\n",
        "import numpy as np"
      ]
    },
    {
      "cell_type": "code",
      "execution_count": 5,
      "metadata": {
        "id": "gYwv4x1vN7LB"
      },
      "outputs": [],
      "source": [
        "# importando a base de dados\n",
        "df = pd.read_csv('http://dados.agricultura.gov.br/dataset/420c0514-92da-4888-be85-290a0785e8a9/resource/65cce855-685e-4cfa-b3a4-2d192fc83b4e/download/rfflorestasplantadasibge2014-2016.csv',\n",
        "                 encoding='Windows 1252',\n",
        "                 delimiter=';')"
      ]
    },
    {
      "cell_type": "code",
      "execution_count": 6,
      "metadata": {
        "colab": {
          "base_uri": "https://localhost:8080/",
          "height": 206
        },
        "id": "dzAM2D6jOyuW",
        "outputId": "47dbb665-1fa7-4581-9a86-721d4db4feec"
      },
      "outputs": [
        {
          "data": {
            "text/html": [
              "<div>\n",
              "<style scoped>\n",
              "    .dataframe tbody tr th:only-of-type {\n",
              "        vertical-align: middle;\n",
              "    }\n",
              "\n",
              "    .dataframe tbody tr th {\n",
              "        vertical-align: top;\n",
              "    }\n",
              "\n",
              "    .dataframe thead th {\n",
              "        text-align: right;\n",
              "    }\n",
              "</style>\n",
              "<table border=\"1\" class=\"dataframe\">\n",
              "  <thead>\n",
              "    <tr style=\"text-align: right;\">\n",
              "      <th></th>\n",
              "      <th>Ano (data)</th>\n",
              "      <th>País</th>\n",
              "      <th>Região</th>\n",
              "      <th>Estado</th>\n",
              "      <th>Estado sigla</th>\n",
              "      <th>Município (Municípios)</th>\n",
              "      <th>Município Estado</th>\n",
              "      <th>Latitude</th>\n",
              "      <th>Longitude</th>\n",
              "      <th>Espécie florestal</th>\n",
              "      <th>Área (ha)</th>\n",
              "    </tr>\n",
              "  </thead>\n",
              "  <tbody>\n",
              "    <tr>\n",
              "      <th>0</th>\n",
              "      <td>31/12/2014</td>\n",
              "      <td>Brasil</td>\n",
              "      <td>Norte</td>\n",
              "      <td>Rondônia</td>\n",
              "      <td>RO</td>\n",
              "      <td>Alta Floresta D'Oeste</td>\n",
              "      <td>Alta Floresta D'Oeste (RO)</td>\n",
              "      <td>-12,47</td>\n",
              "      <td>-62,27</td>\n",
              "      <td>Eucalipto</td>\n",
              "      <td>0.0</td>\n",
              "    </tr>\n",
              "    <tr>\n",
              "      <th>1</th>\n",
              "      <td>31/12/2015</td>\n",
              "      <td>Brasil</td>\n",
              "      <td>Norte</td>\n",
              "      <td>Rondônia</td>\n",
              "      <td>RO</td>\n",
              "      <td>Alta Floresta D'Oeste</td>\n",
              "      <td>Alta Floresta D'Oeste (RO)</td>\n",
              "      <td>-12,47</td>\n",
              "      <td>-62,27</td>\n",
              "      <td>Eucalipto</td>\n",
              "      <td>0.0</td>\n",
              "    </tr>\n",
              "    <tr>\n",
              "      <th>2</th>\n",
              "      <td>31/12/2016</td>\n",
              "      <td>Brasil</td>\n",
              "      <td>Norte</td>\n",
              "      <td>Rondônia</td>\n",
              "      <td>RO</td>\n",
              "      <td>Alta Floresta D'Oeste</td>\n",
              "      <td>Alta Floresta D'Oeste (RO)</td>\n",
              "      <td>-12,47</td>\n",
              "      <td>-62,27</td>\n",
              "      <td>Eucalipto</td>\n",
              "      <td>0.0</td>\n",
              "    </tr>\n",
              "    <tr>\n",
              "      <th>3</th>\n",
              "      <td>31/12/2014</td>\n",
              "      <td>Brasil</td>\n",
              "      <td>Norte</td>\n",
              "      <td>Rondônia</td>\n",
              "      <td>RO</td>\n",
              "      <td>Alta Floresta D'Oeste</td>\n",
              "      <td>Alta Floresta D'Oeste (RO)</td>\n",
              "      <td>-12,47</td>\n",
              "      <td>-62,27</td>\n",
              "      <td>Pinus</td>\n",
              "      <td>0.0</td>\n",
              "    </tr>\n",
              "    <tr>\n",
              "      <th>4</th>\n",
              "      <td>31/12/2015</td>\n",
              "      <td>Brasil</td>\n",
              "      <td>Norte</td>\n",
              "      <td>Rondônia</td>\n",
              "      <td>RO</td>\n",
              "      <td>Alta Floresta D'Oeste</td>\n",
              "      <td>Alta Floresta D'Oeste (RO)</td>\n",
              "      <td>-12,47</td>\n",
              "      <td>-62,27</td>\n",
              "      <td>Pinus</td>\n",
              "      <td>0.0</td>\n",
              "    </tr>\n",
              "  </tbody>\n",
              "</table>\n",
              "</div>"
            ],
            "text/plain": [
              "   Ano (data)    País Região    Estado Estado sigla Município (Municípios)  \\\n",
              "0  31/12/2014  Brasil  Norte  Rondônia           RO  Alta Floresta D'Oeste   \n",
              "1  31/12/2015  Brasil  Norte  Rondônia           RO  Alta Floresta D'Oeste   \n",
              "2  31/12/2016  Brasil  Norte  Rondônia           RO  Alta Floresta D'Oeste   \n",
              "3  31/12/2014  Brasil  Norte  Rondônia           RO  Alta Floresta D'Oeste   \n",
              "4  31/12/2015  Brasil  Norte  Rondônia           RO  Alta Floresta D'Oeste   \n",
              "\n",
              "             Município Estado Latitude Longitude Espécie florestal  Área (ha)  \n",
              "0  Alta Floresta D'Oeste (RO)   -12,47    -62,27         Eucalipto        0.0  \n",
              "1  Alta Floresta D'Oeste (RO)   -12,47    -62,27         Eucalipto        0.0  \n",
              "2  Alta Floresta D'Oeste (RO)   -12,47    -62,27         Eucalipto        0.0  \n",
              "3  Alta Floresta D'Oeste (RO)   -12,47    -62,27             Pinus        0.0  \n",
              "4  Alta Floresta D'Oeste (RO)   -12,47    -62,27             Pinus        0.0  "
            ]
          },
          "execution_count": 6,
          "metadata": {},
          "output_type": "execute_result"
        }
      ],
      "source": [
        "df.head()"
      ]
    },
    {
      "cell_type": "markdown",
      "metadata": {
        "id": "kNw2cRoi67mp"
      },
      "source": [
        "### Gráfico de Barras"
      ]
    },
    {
      "cell_type": "markdown",
      "metadata": {
        "id": "GqMwV9Kg-nxW"
      },
      "source": [
        "processo de plotagem:\n",
        "  1. entender "
      ]
    },
    {
      "cell_type": "markdown",
      "metadata": {
        "id": "3XrjDkguY7Pb"
      },
      "source": [
        "Qual a quantidade de registro de reflorastamento por estado?"
      ]
    },
    {
      "cell_type": "code",
      "execution_count": 7,
      "metadata": {
        "id": "6gWVM2GEQQBx"
      },
      "outputs": [],
      "source": [
        "# visualizando o dataframe\n"
      ]
    },
    {
      "cell_type": "code",
      "execution_count": 8,
      "metadata": {
        "colab": {
          "base_uri": "https://localhost:8080/"
        },
        "id": "AC2w-nQrZE_u",
        "outputId": "cc471ee2-a137-4a43-a82e-b042f771200b"
      },
      "outputs": [
        {
          "data": {
            "text/plain": [
              "Minas Gerais           7191\n",
              "São Paulo              4617\n",
              "Rio Grande do Sul      4419\n",
              "Paraná                 3510\n",
              "Santa Catarina         2637\n",
              "Goiás                  1404\n",
              "Mato Grosso            1008\n",
              "Bahia                   945\n",
              "Tocantins               756\n",
              "Espírito Santo          702\n",
              "Rio de Janeiro          693\n",
              "Mato Grosso do Sul      684\n",
              "Maranhão                495\n",
              "Alagoas                 369\n",
              "Rio Grande do Norte     261\n",
              "Pará                    261\n",
              "Rondônia                261\n",
              "Piauí                   225\n",
              "Sergipe                 189\n",
              "Ceará                   135\n",
              "Roraima                  90\n",
              "Paraíba                  63\n",
              "Pernambuco               45\n",
              "Amapá                    45\n",
              "Distrito Federal          9\n",
              "Name: Estado, dtype: int64"
            ]
          },
          "execution_count": 8,
          "metadata": {},
          "output_type": "execute_result"
        }
      ],
      "source": [
        "# valores por estado\n",
        "df['Estado'].value_counts()"
      ]
    },
    {
      "cell_type": "code",
      "execution_count": 9,
      "metadata": {
        "colab": {
          "base_uri": "https://localhost:8080/",
          "height": 265
        },
        "id": "5454QkboNa8-",
        "outputId": "3cf3a260-d2e1-4b89-febe-e29d9bb21e19"
      },
      "outputs": [
        {
          "data": {
            "image/png": "[encoded data removed]",
            "text/plain": [
              "<Figure size 640x480 with 1 Axes>"
            ]
          },
          "metadata": {},
          "output_type": "display_data"
        }
      ],
      "source": [
        "# definindo as variaveis do gráfico\n",
        "# Como seria com o plot do pandas\n",
        "df['Estado sigla'].value_counts().plot(kind='bar', rot=0);"
      ]
    },
    {
      "cell_type": "code",
      "execution_count": 10,
      "metadata": {
        "colab": {
          "base_uri": "https://localhost:8080/"
        },
        "id": "2MLWubu-RBQ3",
        "outputId": "3da54dcd-bdc5-4328-b125-9c87b3b6e50f"
      },
      "outputs": [
        {
          "data": {
            "text/plain": [
              "Index(['MG', 'SP', 'RS', 'PR', 'SC', 'GO', 'MT', 'BA', 'TO', 'ES', 'RJ', 'MS',\n",
              "       'MA', 'AL', 'RN', 'PA', 'RO', 'PI', 'SE', 'CE', 'RR', 'PB', 'PE', 'AP',\n",
              "       'DF'],\n",
              "      dtype='object')"
            ]
          },
          "execution_count": 10,
          "metadata": {},
          "output_type": "execute_result"
        }
      ],
      "source": [
        "# exibindo a variavel x\n",
        "x_bar = df['Estado sigla'].value_counts().index\n",
        "x_bar"
      ]
    },
    {
      "cell_type": "code",
      "execution_count": 11,
      "metadata": {
        "colab": {
          "base_uri": "https://localhost:8080/"
        },
        "id": "K-wkfYvfRDF7",
        "outputId": "47e32649-b8bc-4729-a881-40784fae5da2"
      },
      "outputs": [
        {
          "data": {
            "text/plain": [
              "array([7191, 4617, 4419, 3510, 2637, 1404, 1008,  945,  756,  702,  693,\n",
              "        684,  495,  369,  261,  261,  261,  225,  189,  135,   90,   63,\n",
              "         45,   45,    9], dtype=int64)"
            ]
          },
          "execution_count": 11,
          "metadata": {},
          "output_type": "execute_result"
        }
      ],
      "source": [
        "# exibindo a variavel y\n",
        "y_bar = df['Estado sigla'].value_counts().values\n",
        "y_bar"
      ]
    },
    {
      "cell_type": "code",
      "execution_count": 12,
      "metadata": {
        "colab": {
          "base_uri": "https://localhost:8080/",
          "height": 282
        },
        "id": "z1BVPwOFRFqi",
        "outputId": "357684e4-09ec-4bd4-efdd-100efde8f261"
      },
      "outputs": [
        {
          "data": {
            "text/plain": [
              "<BarContainer object of 25 artists>"
            ]
          },
          "execution_count": 12,
          "metadata": {},
          "output_type": "execute_result"
        },
        {
          "data": {
            "image/png": "[encoded data removed]",
            "text/plain": [
              "<Figure size 640x480 with 1 Axes>"
            ]
          },
          "metadata": {},
          "output_type": "display_data"
        }
      ],
      "source": [
        "# plotando o grafico sem plt.show\n",
        "plt.bar(x_bar, y_bar)"
      ]
    },
    {
      "cell_type": "code",
      "execution_count": 13,
      "metadata": {
        "colab": {
          "base_uri": "https://localhost:8080/",
          "height": 265
        },
        "id": "BOVaHqa1t_3t",
        "outputId": "d942f150-d0ef-41c5-d932-57ab914670af"
      },
      "outputs": [
        {
          "data": {
            "image/png": "[encoded data removed]",
            "text/plain": [
              "<Figure size 640x480 with 1 Axes>"
            ]
          },
          "metadata": {},
          "output_type": "display_data"
        }
      ],
      "source": [
        "# plotando o grafico com plt.show\n",
        "plt.bar(x_bar, y_bar)\n",
        "plt.show()"
      ]
    },
    {
      "cell_type": "code",
      "execution_count": 14,
      "metadata": {
        "colab": {
          "base_uri": "https://localhost:8080/",
          "height": 413
        },
        "id": "QZ2cHA1ek3dW",
        "outputId": "ab5e6b3d-a0ff-4c86-a35e-c744967c8ed2"
      },
      "outputs": [
        {
          "data": {
            "image/png": "[encoded data removed]",
            "text/plain": [
              "<Figure size 1600x600 with 1 Axes>"
            ]
          },
          "metadata": {},
          "output_type": "display_data"
        }
      ],
      "source": [
        "# adicionando título, rótulos dos eixos e aplicando outras configurações\n",
        "plt.figure(figsize=(16, 6))\n",
        "plt.bar(x_bar, y_bar, color='darkblue')\n",
        "plt.title(\"QTD Registros Florestais por Estados\", fontsize='16')\n",
        "plt.xlabel(\"Estados\", fontsize=12)\n",
        "plt.ylabel(\"Quantidade\", fontsize=12)\n",
        "plt.xticks(fontsize=14)\n",
        "plt.yticks(fontsize=14)\n",
        "plt.show()"
      ]
    },
    {
      "cell_type": "markdown",
      "metadata": {
        "id": "s3rAvG59yLwZ"
      },
      "source": [
        "Qual o TOP10 estados com mais quantidade de registro de reflorastamento?"
      ]
    },
    {
      "cell_type": "code",
      "execution_count": 15,
      "metadata": {
        "colab": {
          "base_uri": "https://localhost:8080/",
          "height": 363
        },
        "id": "y6pFjCuXEJZd",
        "outputId": "617573ef-26d7-42cf-8b14-fadb798dbd65"
      },
      "outputs": [
        {
          "data": {
            "text/html": [
              "<div>\n",
              "<style scoped>\n",
              "    .dataframe tbody tr th:only-of-type {\n",
              "        vertical-align: middle;\n",
              "    }\n",
              "\n",
              "    .dataframe tbody tr th {\n",
              "        vertical-align: top;\n",
              "    }\n",
              "\n",
              "    .dataframe thead th {\n",
              "        text-align: right;\n",
              "    }\n",
              "</style>\n",
              "<table border=\"1\" class=\"dataframe\">\n",
              "  <thead>\n",
              "    <tr style=\"text-align: right;\">\n",
              "      <th></th>\n",
              "      <th>index</th>\n",
              "      <th>Estado sigla</th>\n",
              "    </tr>\n",
              "  </thead>\n",
              "  <tbody>\n",
              "    <tr>\n",
              "      <th>0</th>\n",
              "      <td>MG</td>\n",
              "      <td>7191</td>\n",
              "    </tr>\n",
              "    <tr>\n",
              "      <th>1</th>\n",
              "      <td>SP</td>\n",
              "      <td>4617</td>\n",
              "    </tr>\n",
              "    <tr>\n",
              "      <th>2</th>\n",
              "      <td>RS</td>\n",
              "      <td>4419</td>\n",
              "    </tr>\n",
              "    <tr>\n",
              "      <th>3</th>\n",
              "      <td>PR</td>\n",
              "      <td>3510</td>\n",
              "    </tr>\n",
              "    <tr>\n",
              "      <th>4</th>\n",
              "      <td>SC</td>\n",
              "      <td>2637</td>\n",
              "    </tr>\n",
              "    <tr>\n",
              "      <th>5</th>\n",
              "      <td>GO</td>\n",
              "      <td>1404</td>\n",
              "    </tr>\n",
              "    <tr>\n",
              "      <th>6</th>\n",
              "      <td>MT</td>\n",
              "      <td>1008</td>\n",
              "    </tr>\n",
              "    <tr>\n",
              "      <th>7</th>\n",
              "      <td>BA</td>\n",
              "      <td>945</td>\n",
              "    </tr>\n",
              "    <tr>\n",
              "      <th>8</th>\n",
              "      <td>TO</td>\n",
              "      <td>756</td>\n",
              "    </tr>\n",
              "    <tr>\n",
              "      <th>9</th>\n",
              "      <td>ES</td>\n",
              "      <td>702</td>\n",
              "    </tr>\n",
              "  </tbody>\n",
              "</table>\n",
              "</div>"
            ],
            "text/plain": [
              "  index  Estado sigla\n",
              "0    MG          7191\n",
              "1    SP          4617\n",
              "2    RS          4419\n",
              "3    PR          3510\n",
              "4    SC          2637\n",
              "5    GO          1404\n",
              "6    MT          1008\n",
              "7    BA           945\n",
              "8    TO           756\n",
              "9    ES           702"
            ]
          },
          "execution_count": 15,
          "metadata": {},
          "output_type": "execute_result"
        }
      ],
      "source": [
        "df_bar = df['Estado sigla'].value_counts().head(10).reset_index()\n",
        "df_bar"
      ]
    },
    {
      "cell_type": "code",
      "execution_count": null,
      "metadata": {
        "id": "YrkPSqIhEkUG"
      },
      "outputs": [],
      "source": [
        "\n"
      ]
    },
    {
      "cell_type": "code",
      "execution_count": 16,
      "metadata": {
        "colab": {
          "base_uri": "https://localhost:8080/",
          "height": 413
        },
        "id": "PO2fP_d-zcQl",
        "outputId": "f5c8b350-c21f-4d4d-ac7e-ce1ef3d9ba81"
      },
      "outputs": [
        {
          "data": {
            "image/png": "[encoded data removed]",
            "text/plain": [
              "<Figure size 1600x600 with 1 Axes>"
            ]
          },
          "metadata": {},
          "output_type": "display_data"
        }
      ],
      "source": [
        "# top 10 estados\n",
        "plt.figure(figsize=(16, 6))\n",
        "plt.bar('index', 'Estado sigla', data=df_bar, color='darkblue', width=0.5)\n",
        "plt.title(\"Top 10 Estados com Registros Florestais\", fontsize='16')\n",
        "plt.xlabel(\"Estados\", fontsize=12)\n",
        "plt.ylabel(\"Quantidade\", fontsize=12)\n",
        "plt.xticks(fontsize=14)\n",
        "plt.yticks(fontsize=14)\n",
        "plt.show()"
      ]
    },
    {
      "cell_type": "markdown",
      "metadata": {
        "id": "M5PVrk2uzoY0"
      },
      "source": [
        "#### Utilizando subplots para incluir rótulos nos dados"
      ]
    },
    {
      "cell_type": "code",
      "execution_count": 17,
      "metadata": {
        "colab": {
          "base_uri": "https://localhost:8080/",
          "height": 677
        },
        "id": "7s3zGPwa0Mzq",
        "outputId": "e820a371-9d81-4c05-bf72-bb7da1bc02fc"
      },
      "outputs": [
        {
          "name": "stdout",
          "output_type": "stream",
          "text": [
            "1 Figure(640x480)\n",
            "\n",
            "\n",
            "2 Figure(640x480) AxesSubplot(0.125,0.11;0.775x0.77)\n",
            "\n",
            "\n",
            "3 Figure(640x480) [[<AxesSubplot:> <AxesSubplot:>]\n",
            " [<AxesSubplot:> <AxesSubplot:>]]\n"
          ]
        },
        {
          "data": {
            "text/plain": [
              "<Figure size 640x480 with 0 Axes>"
            ]
          },
          "metadata": {},
          "output_type": "display_data"
        },
        {
          "data": {
            "image/png": "[encoded data removed]",
            "text/plain": [
              "<Figure size 640x480 with 1 Axes>"
            ]
          },
          "metadata": {},
          "output_type": "display_data"
        },
        {
          "data": {
            "image/png": "[encoded data removed]",
            "text/plain": [
              "<Figure size 640x480 with 4 Axes>"
            ]
          },
          "metadata": {},
          "output_type": "display_data"
        }
      ],
      "source": [
        "fig1 = plt.figure()\n",
        "print(1, fig1)\n",
        "print('\\n')\n",
        "\n",
        "fig2, ax2 = plt.subplots()\n",
        "print(2, fig2, ax2)\n",
        "print('\\n')\n",
        "\n",
        "fig3, ax3 = plt.subplots(2,2)\n",
        "print(3, fig3, ax3)"
      ]
    },
    {
      "cell_type": "code",
      "execution_count": 18,
      "metadata": {
        "colab": {
          "base_uri": "https://localhost:8080/",
          "height": 413
        },
        "id": "tp2tlT4Q6njK",
        "outputId": "73a459a2-7a58-43ac-9988-2ac923de565c"
      },
      "outputs": [
        {
          "data": {
            "image/png": "[encoded data removed]",
            "text/plain": [
              "<Figure size 1600x600 with 1 Axes>"
            ]
          },
          "metadata": {},
          "output_type": "display_data"
        }
      ],
      "source": [
        "# Incluindo rótulo nas barras\n",
        "# top 10 estados\n",
        "fig, ax = plt.subplots(figsize=(16, 6))\n",
        "bars = ax.bar('index', 'Estado sigla', data=df_bar, color='darkblue')\n",
        "\n",
        "plt.title(\"Top 10 Estados com Registros Florestais\", fontsize='16')\n",
        "plt.xlabel(\"Estados\", fontsize=12)\n",
        "plt.ylabel(\"Quantidade\", fontsize=12)\n",
        "plt.xticks(fontsize=14)\n",
        "plt.yticks(fontsize=14)\n",
        "ax.bar_label(bars, padding=2)\n",
        "plt.show()\n"
      ]
    },
    {
      "cell_type": "markdown",
      "metadata": {
        "id": "VqzMVQW2XnMO"
      },
      "source": [
        "### Configurações Gráficos"
      ]
    },
    {
      "cell_type": "markdown",
      "metadata": {
        "id": "KxR7CZ8RXtxb"
      },
      "source": [
        "[Documentação rcParams](https://matplotlib.org/stable/api/matplotlib_configuration_api.html#matplotlib.rcParams)"
      ]
    },
    {
      "cell_type": "code",
      "execution_count": 19,
      "metadata": {
        "id": "YnA-km5iXqWo"
      },
      "outputs": [],
      "source": [
        "# tamanho do gráfico\n",
        "\n",
        "# tamanho do rótulos dos ticks do eixo x\n",
        "\n",
        "# tamanho do rótulos dos ticks do eixo y\n",
        "\n",
        "# tamanho da fonte do gráfico\n",
        "\n",
        "# tamanho do título\n",
        "\n",
        "# tamanho dos rótulos de eixo\n"
      ]
    },
    {
      "cell_type": "code",
      "execution_count": 20,
      "metadata": {
        "id": "iS9F8_RW_Ys1"
      },
      "outputs": [],
      "source": [
        "# plotando gráfico com os parametros globais aplicados\n",
        "\n"
      ]
    },
    {
      "cell_type": "markdown",
      "metadata": {
        "id": "afWQAnyCNh2V"
      },
      "source": [
        "### Gráfico de Linhas"
      ]
    },
    {
      "cell_type": "code",
      "execution_count": 21,
      "metadata": {
        "id": "E1nV3nvYWSvB"
      },
      "outputs": [],
      "source": [
        "# visualizando o dataframe\n"
      ]
    },
    {
      "cell_type": "markdown",
      "metadata": {
        "id": "J2WTgulUSxKs"
      },
      "source": [
        "Qual a soma total das áreas reflorestadas ao longo dos anos?"
      ]
    },
    {
      "cell_type": "code",
      "execution_count": 22,
      "metadata": {
        "id": "5jF9UlqZN5ob"
      },
      "outputs": [],
      "source": [
        "# agrupando o total reflorestado por ano\n"
      ]
    },
    {
      "cell_type": "code",
      "execution_count": 23,
      "metadata": {
        "id": "FUQ0VvUeuYD_"
      },
      "outputs": [],
      "source": [
        "# visualizando o resultado em um gráfico de linha\n"
      ]
    },
    {
      "cell_type": "markdown",
      "metadata": {
        "id": "pPWDfTjiTRru"
      },
      "source": [
        "Qual a soma total das áreas reflorestadas ao longo dos anos observando as espécies?\n"
      ]
    },
    {
      "cell_type": "code",
      "execution_count": 24,
      "metadata": {
        "id": "7VMPtHVGrP3q"
      },
      "outputs": [],
      "source": [
        "# agrupando os a soma por data e especie\n"
      ]
    },
    {
      "cell_type": "code",
      "execution_count": 25,
      "metadata": {
        "id": "vMgaYh-yr5tz"
      },
      "outputs": [],
      "source": [
        "# transformando a consulta em um dataframe\n"
      ]
    },
    {
      "cell_type": "code",
      "execution_count": 26,
      "metadata": {
        "id": "9mD8l1lpr9aY"
      },
      "outputs": [],
      "source": [
        "# visualizando o resultado em um gráfico de linha das especies\n"
      ]
    },
    {
      "cell_type": "code",
      "execution_count": 27,
      "metadata": {
        "id": "4s4rhDWyT9pU"
      },
      "outputs": [],
      "source": [
        "# visualizando o resultado em um gráfico de linha das espécies + total\n"
      ]
    },
    {
      "cell_type": "markdown",
      "metadata": {
        "id": "f8eh0-jyNjtk"
      },
      "source": [
        "### Gráfico de Dispersão"
      ]
    },
    {
      "cell_type": "markdown",
      "metadata": {
        "id": "ob_gI6Y5UVuM"
      },
      "source": [
        "Qual a correlação da quantidade de área reflorestada com o total observando por estado?"
      ]
    },
    {
      "cell_type": "code",
      "execution_count": 28,
      "metadata": {
        "id": "cww9iSBYvBU5"
      },
      "outputs": [],
      "source": [
        "# quantidade de registros de reflorestamento por estado\n"
      ]
    },
    {
      "cell_type": "code",
      "execution_count": 29,
      "metadata": {
        "id": "ghFqFq--vFKn"
      },
      "outputs": [],
      "source": [
        "# soma da área de reflorestamento por estado\n"
      ]
    },
    {
      "cell_type": "code",
      "execution_count": 30,
      "metadata": {
        "id": "FxTvopgKveyU"
      },
      "outputs": [],
      "source": [
        "# quantidade por estado ordenada por estado\n"
      ]
    },
    {
      "cell_type": "code",
      "execution_count": 31,
      "metadata": {
        "id": "K05Qj8hIutfc"
      },
      "outputs": [],
      "source": [
        "# visualizando o resultado em um gráfico de dispersão\n"
      ]
    },
    {
      "cell_type": "code",
      "execution_count": 32,
      "metadata": {
        "id": "4V-JWKS8Kx1R"
      },
      "outputs": [],
      "source": [
        "# forma alternativa de gerar o dataframe\n"
      ]
    },
    {
      "cell_type": "code",
      "execution_count": 33,
      "metadata": {
        "id": "jUMR5E7RwXTz"
      },
      "outputs": [],
      "source": [
        "# visualizando o resultado em um gráfico de dispersão\n"
      ]
    },
    {
      "cell_type": "markdown",
      "metadata": {
        "id": "931FHs9QzVhb"
      },
      "source": [
        "### Plotando Vários Gráficos"
      ]
    },
    {
      "cell_type": "code",
      "execution_count": 34,
      "metadata": {
        "id": "F0HoTKM-zbRO"
      },
      "outputs": [],
      "source": [
        "# plotando vários gráficos com múltiplos axes (unidimensional)\n",
        "\n"
      ]
    },
    {
      "cell_type": "code",
      "execution_count": 35,
      "metadata": {
        "id": "ii6bTkFoivYx"
      },
      "outputs": [],
      "source": [
        "# plotando vários gráficos com múltiplos axes (bidimensional / matriz)\n",
        "\n"
      ]
    },
    {
      "cell_type": "markdown",
      "metadata": {
        "id": "Mm0jn3h2wyiq"
      },
      "source": [
        "### Atividade"
      ]
    },
    {
      "cell_type": "markdown",
      "metadata": {
        "id": "t5dFD1NQxhyc"
      },
      "source": [
        "Instruções\n",
        "- Resolver as questões abaixo. Subir o notebook em um repositório público no GitHub e enviar no [Formulário](https://docs.google.com/forms/d/e/1FAIpQLSf8IUCLt4kowhHhB3SRQofE2I8NuXuDadBYjRHqUxgb3yWOaQ/viewform)\n",
        "- Para resolver as questões abaixo utilizar o dataset do seaborn: 'mpg'\n",
        "- Para os gráficos finais de cada questão, eles devem possuir título, rótulo dos eixos definidos e legenda (quando necessário)."
      ]
    },
    {
      "cell_type": "code",
      "execution_count": 36,
      "metadata": {
        "id": "2eatAzKQswGX"
      },
      "outputs": [],
      "source": [
        "import pandas as pd\n",
        "import seaborn as sns\n",
        "import matplotlib.pyplot as plt"
      ]
    },
    {
      "cell_type": "code",
      "execution_count": 37,
      "metadata": {
        "id": "WLwDpewOtHR3"
      },
      "outputs": [],
      "source": [
        "# importa dataset\n",
        "\n"
      ]
    },
    {
      "cell_type": "code",
      "execution_count": null,
      "metadata": {
        "id": "ZVZcFhp9YpUS"
      },
      "outputs": [],
      "source": []
    },
    {
      "cell_type": "markdown",
      "metadata": {
        "id": "xHZnoZLJyw68"
      },
      "source": [
        "#### Questão 1"
      ]
    },
    {
      "cell_type": "markdown",
      "metadata": {
        "id": "QA6tvZbXtYvw"
      },
      "source": [
        "Verificar se a base de dados possui valores nulos. Para as linhas com valores nulos, deletar as mesmas. Ao final da questão verificar se a base de dados ficou com 392 registros e 9 colunas."
      ]
    },
    {
      "cell_type": "code",
      "execution_count": null,
      "metadata": {
        "id": "ZA701s58tJjO"
      },
      "outputs": [],
      "source": []
    },
    {
      "cell_type": "code",
      "execution_count": null,
      "metadata": {
        "id": "rhew6x5xxSni"
      },
      "outputs": [],
      "source": []
    },
    {
      "cell_type": "code",
      "execution_count": null,
      "metadata": {
        "id": "x9bOvWm2tVSq"
      },
      "outputs": [],
      "source": []
    },
    {
      "cell_type": "code",
      "execution_count": null,
      "metadata": {
        "id": "bo9pOWvmcN1c"
      },
      "outputs": [],
      "source": []
    },
    {
      "cell_type": "markdown",
      "metadata": {
        "id": "qHF6jaTSy1qg"
      },
      "source": [
        "#### Questão 2"
      ]
    },
    {
      "cell_type": "markdown",
      "metadata": {
        "id": "BM2iKIK-uAx-"
      },
      "source": [
        "Qual a quantidade de carros por origem (*origin*)? Responda utilizando um gráfico de barras e inclua os rótulos dos dados."
      ]
    },
    {
      "cell_type": "code",
      "execution_count": null,
      "metadata": {
        "id": "ATO8JBqPLUV0"
      },
      "outputs": [],
      "source": []
    },
    {
      "cell_type": "code",
      "execution_count": null,
      "metadata": {
        "id": "mQzAgwxDupqd"
      },
      "outputs": [],
      "source": []
    },
    {
      "cell_type": "code",
      "execution_count": null,
      "metadata": {
        "id": "dlDCLDhLcy0X"
      },
      "outputs": [],
      "source": []
    },
    {
      "cell_type": "markdown",
      "metadata": {
        "id": "_CsMciDSy6Aa"
      },
      "source": [
        "#### Questão 3"
      ]
    },
    {
      "cell_type": "markdown",
      "metadata": {
        "id": "W6YZiNejuSwE"
      },
      "source": [
        "Qual a média da potência (*horsepower*) dos carros por origem?"
      ]
    },
    {
      "cell_type": "code",
      "execution_count": null,
      "metadata": {
        "id": "zWzQ7c7Qy6-0"
      },
      "outputs": [],
      "source": []
    },
    {
      "cell_type": "code",
      "execution_count": null,
      "metadata": {
        "id": "Z7it2yIovjc8"
      },
      "outputs": [],
      "source": []
    },
    {
      "cell_type": "markdown",
      "metadata": {
        "id": "6VrR1rqTy7WN"
      },
      "source": [
        "#### Questão 4"
      ]
    },
    {
      "cell_type": "markdown",
      "metadata": {
        "id": "KzsEshzevysX"
      },
      "source": [
        "Qual a correlacão da potência (*horsepower*) com a aceleração (*acceleration*) cos carros?"
      ]
    },
    {
      "cell_type": "code",
      "execution_count": null,
      "metadata": {
        "id": "EpDgVD2swQpL"
      },
      "outputs": [],
      "source": []
    },
    {
      "cell_type": "markdown",
      "metadata": {
        "id": "iIepmt9TOVfQ"
      },
      "source": [
        "#### Questão 5"
      ]
    },
    {
      "cell_type": "markdown",
      "metadata": {
        "id": "oHx89HAlx3kw"
      },
      "source": [
        "Qual a correlacão da potência (*horsepower*) com a aceleração (*acceleration*) dos carros, segmentando de acordo com a origem (*origin*) com cores diferentes e plotando no mesmo eixo (*axes*)?"
      ]
    },
    {
      "cell_type": "code",
      "execution_count": null,
      "metadata": {
        "id": "uf6M_1U7OeQZ"
      },
      "outputs": [],
      "source": []
    },
    {
      "cell_type": "code",
      "execution_count": null,
      "metadata": {
        "id": "2X9SgjL7gHc0"
      },
      "outputs": [],
      "source": []
    }
  ],
  "metadata": {
    "colab": {
      "collapsed_sections": [
        "VqzMVQW2XnMO",
        "afWQAnyCNh2V",
        "f8eh0-jyNjtk",
        "931FHs9QzVhb",
        "Mm0jn3h2wyiq",
        "xHZnoZLJyw68",
        "qHF6jaTSy1qg",
        "_CsMciDSy6Aa",
        "6VrR1rqTy7WN",
        "iIepmt9TOVfQ"
      ],
      "provenance": []
    },
    "kernelspec": {
      "display_name": "Python 3.9.7 ('base')",
      "language": "python",
      "name": "python3"
    },
    "language_info": {
      "codemirror_mode": {
        "name": "ipython",
        "version": 3
      },
      "file_extension": ".py",
      "mimetype": "text/x-python",
      "name": "python",
      "nbconvert_exporter": "python",
      "pygments_lexer": "ipython3",
      "version": "3.9.7"
    },
    "vscode": {
      "interpreter": {
        "hash": "ad2bdc8ecc057115af97d19610ffacc2b4e99fae6737bb82f5d7fb13d2f2c186"
      }
    }
  },
  "nbformat": 4,
  "nbformat_minor": 0
}
