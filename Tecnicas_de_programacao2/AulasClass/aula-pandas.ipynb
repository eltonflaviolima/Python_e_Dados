{
 "cells": [
  {
   "cell_type": "code",
   "execution_count": null,
   "metadata": {},
   "outputs": [
    {
     "ename": "",
     "evalue": "",
     "output_type": "error",
     "traceback": [
      "\u001b[1;31mA execução de células com \"Python 3.9.7 ('base')\" requer o pacote ipykernel.\n",
      "\u001b[1;31mExecute o seguinte comando para instalar \"ipykernel\" no ambiente do Python. \n",
      "\u001b[1;31mComando: \"conda install -n base ipykernel --update-deps --force-reinstall\""
     ]
    }
   ],
   "source": [
    "import pandas as pd\n",
    "\n",
    "sexo = ['M', 'F', 'M', 'M', 'F']\n",
    "idade = [23, 12, 15, 32, 48]\n",
    "altura = [1.75, 1.15, 1.62, 1.65, 1.61]\n",
    "\n",
    "df = pd.DataFrame(list(zip(sexo, idade, altura)), columns=['Sexo', 'Idade', 'Altura'])"
   ]
  }
 ],
 "metadata": {
  "kernelspec": {
   "display_name": "Python 3.8.13 ('envTreino')",
   "language": "python",
   "name": "python3"
  },
  "language_info": {
   "name": "python",
   "version": "3.8.13"
  },
  "orig_nbformat": 4,
  "vscode": {
   "interpreter": {
    "hash": "384054d417bde73c2538ff7f6cf657128067a5a51991f08146bbf124c2fe5731"
   }
  }
 },
 "nbformat": 4,
 "nbformat_minor": 2
}
