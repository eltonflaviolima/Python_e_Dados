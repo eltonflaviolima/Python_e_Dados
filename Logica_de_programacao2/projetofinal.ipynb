{
 "cells": [
  {
   "cell_type": "code",
   "execution_count": 4,
   "metadata": {},
   "outputs": [],
   "source": [
    "unidade_dict = {'um':1, 'dois':2, 'tres':3, 'quatro':4, 'cinco':5, 'seis':6, 'sete':7, 'oito':8, 'nove':9, 'zero':0}\n",
    "dezena_dict = {'dez':10,'vinte':20, 'trinta': 30, 'quarenta':40, 'cinquenta':50, 'sescenta':60, 'setenta':70, 'oitenta':80, 'noventa':90}\n",
    "centena_dict = {'cem':100,'duzentos':200, 'trezentos': 300, 'quatrocentos':400, 'quinhentos':500, 'seiscentos':600, 'setecentos':700, 'oitocentos':800, 'novecentos':900}\n",
    "\n",
    "fator = {'unidade':1,'dezena':10,'centena':100,'milhar':1000,'dezena_milhar':10000,'centena_milhar':100000,'milhão':1000000,'dezena_milhao':10000000,'centena_milhao':100000000}\n",
    "\n",
    "milhar = ['mil', 'k']\n",
    "milhoes = ['milhao', 'milhoes', 'm']\n",
    "bilhoes = ['bilhao', 'bilhoes', 'b']"
   ]
  },
  {
   "cell_type": "code",
   "execution_count": 2,
   "metadata": {},
   "outputs": [
    {
     "name": "stdout",
     "output_type": "stream",
     "text": [
      "['novecentos', 'trinta', 'tres', 'milhoes', 'duzentos', 'quarenta', 'cinco', 'mil', 'oitocentos', 'noventa', 'nove']\n"
     ]
    }
   ],
   "source": [
    "texto = input('Digite o número completo por extenso: ').lower().replace('ê', 'e').replace('ã','a').replace('õ', 'o').replace(',','')\n",
    "texto = texto.split(' ')\n",
    "for palavra in texto:\n",
    "    if palavra == 'e':\n",
    "        indice = texto.index(palavra)\n",
    "        del texto[indice]\n",
    "print(texto)"
   ]
  },
  {
   "cell_type": "code",
   "execution_count": 5,
   "metadata": {},
   "outputs": [
    {
     "name": "stdout",
     "output_type": "stream",
     "text": [
      "Unidade!\n",
      "0\n",
      "Unidade!\n",
      "1\n",
      "Unidade!\n",
      "2\n",
      "Milhões!\n",
      "3\n",
      "Unidade!\n",
      "4\n",
      "Unidade!\n",
      "5\n",
      "Unidade!\n",
      "6\n",
      "Tem milhar!\n",
      "7\n",
      "Unidade!\n",
      "8\n",
      "Unidade!\n",
      "9\n",
      "Unidade!\n",
      "10\n"
     ]
    }
   ],
   "source": [
    "indice_unidade = 0\n",
    "indice_milhar = 0\n",
    "indice_milhoes = 0\n",
    "indice_bilhoes = 0\n",
    "grupo_unidade = []\n",
    "grupo_milhar = []\n",
    "grupo_milhoes = []\n",
    "grupo_bilhoes = []\n",
    "\n",
    "for i in range(len(texto)):\n",
    "    indice_bilhoes = 0\n",
    "\n",
    "    if texto[i] in bilhoes:\n",
    "        # print('Bilhões!')\n",
    "        # indice_bilhoes = texto.index(texto[i])\n",
    "        # print(indice_bilhoes)\n",
    "        grupo_bilhoes.append(texto[:indice_bilhoes])\n",
    "\n",
    "    elif texto[i] in milhoes:\n",
    "        print('Milhões!')\n",
    "        indice_milhoes = texto.index(texto[i])\n",
    "        print(indice_milhoes)\n",
    "        grupo_milhoes.append(texto[indice_bilhoes:indice_milhoes])\n",
    "\n",
    "    elif texto[i] in milhar:\n",
    "        print('Tem milhar!')\n",
    "        indice_milhar = texto.index(texto[i])\n",
    "        print(indice_milhar)\n",
    "        grupo_milhar.append(texto[indice_milhoes:indice_milhar])\n",
    "\n",
    "    else:\n",
    "        print('Unidade!')\n",
    "        indice_unidade = texto.index(texto[i])\n",
    "        print(indice_unidade)\n",
    "        grupo_unidade.append(texto[indice_milhar:indice_unidade])"
   ]
  }
 ],
 "metadata": {
  "kernelspec": {
   "display_name": "Python 3.9.10 64-bit",
   "language": "python",
   "name": "python3"
  },
  "language_info": {
   "codemirror_mode": {
    "name": "ipython",
    "version": 3
   },
   "file_extension": ".py",
   "mimetype": "text/x-python",
   "name": "python",
   "nbconvert_exporter": "python",
   "pygments_lexer": "ipython3",
   "version": "3.9.10"
  },
  "orig_nbformat": 4,
  "vscode": {
   "interpreter": {
    "hash": "4f12edece1b6ed8dc2a09be6f356fe005f2a039c320a3a2809fb3b7d30b40e33"
   }
  }
 },
 "nbformat": 4,
 "nbformat_minor": 2
}
