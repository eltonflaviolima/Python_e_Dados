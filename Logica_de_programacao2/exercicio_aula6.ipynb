{
 "cells": [
  {
   "cell_type": "code",
   "execution_count": 105,
   "metadata": {},
   "outputs": [],
   "source": [
    "unidade_dict = {'um':1, 'dois':2, 'tres':3, 'quatro':4, 'cinco':5, 'seis':6, 'sete':7, 'oito':8, 'nove':9, 'zero':0}\n",
    "dezena_dict = {'dez':10,'vinte':20, 'trinta': 30, 'quarenta':40, 'cinquenta':50, 'sescenta':60, 'setenta':70, 'oitenta':80, 'noventa':90}\n",
    "centena_dict = {'cem':100,'duzentos':200, 'trezentos': 300, 'quatrocentos':400, 'quinhentos':500, 'seiscentos':600, 'setecentos':700, 'oitocentos':800, 'novecentos':900}\n",
    "\n",
    "fator = {'unidade':1,'dezena':10,'centena':100,'milhar':1000,'dezena_milhar':10000,'centena_milhar':100000,'milhão':1000000,'dezena_milhao':10000000,'centena_milhao':100000000}\n",
    "\n",
    "milhar = ['mil', 'k']\n",
    "milhoes = ['milhao', 'milhoes', 'm']\n",
    "bilhoes = ['bilhao', 'bilhoes', 'g']"
   ]
  },
  {
   "cell_type": "code",
   "execution_count": 56,
   "metadata": {},
   "outputs": [],
   "source": [
    "def tratamento(entrada):\n",
    "    texto = entrada.lower().replace('ê', 'e').replace('ã','a').replace('õ', 'o').replace(',','').replace('\\n','').split(' ')\n",
    "    # texto = texto.split(' ')\n",
    "    for palavra in texto:\n",
    "        if palavra == 'e':\n",
    "            indice = texto.index(palavra)\n",
    "            del texto[indice]\n",
    "    return texto"
   ]
  },
  {
   "cell_type": "code",
   "execution_count": 132,
   "metadata": {},
   "outputs": [],
   "source": [
    "def agrupa_fator(texto):\n",
    "    gp_bilhoes = []\n",
    "    gp_milhoes = []\n",
    "    gp_milhar = []\n",
    "    gp_unidade = []\n",
    "    for el in texto:\n",
    "        if el in bilhoes:\n",
    "            indice_bilhoes = texto.index(el)\n",
    "            gp_bilhoes = texto[:indice_bilhoes+1]\n",
    "\n",
    "            # [lista.remove(i) for i in lista1 and lista2]\n",
    "            texto = list(filter(lambda x: x not in gp_bilhoes, texto))\n",
    "        \n",
    "\n",
    "        elif el in milhoes:\n",
    "            indice_milhoes = texto.index(el)\n",
    "            gp_milhoes = texto[:indice_milhoes+1]\n",
    "\n",
    "            texto = list(filter(lambda x: x not in gp_milhoes, texto))\n",
    "        \n",
    "\n",
    "        elif el in milhar:\n",
    "            indice_milhar = texto.index(el)\n",
    "            gp_milhar = texto[:indice_milhar+1]\n",
    "\n",
    "            texto = list(filter(lambda x: x not in gp_milhar, texto))\n",
    "\n",
    "        else:\n",
    "            gp_unidade = texto\n",
    "\n",
    "    print(f'Gp Bi{gp_bilhoes}')\n",
    "\n",
    "    print(f'Gp Mi{gp_milhoes}')\n",
    "\n",
    "    print(f'Gp mil{gp_milhar}')\n",
    "\n",
    "    print(f'Gp unidade{gp_unidade}')"
   ]
  },
  {
   "cell_type": "code",
   "execution_count": 133,
   "metadata": {},
   "outputs": [
    {
     "name": "stdout",
     "output_type": "stream",
     "text": [
      "Gp Bi['um', 'bilhao']\n",
      "Gp Mi['quientos', 'oitenta', 'milhoes']\n",
      "Gp mil['oitocentos', 'trinta', 'mil']\n",
      "Gp unidade['quarenta', 'quatro']\n"
     ]
    }
   ],
   "source": [
    "agrupa_fator(['um', 'bilhao', 'quientos', 'oitenta', 'milhoes', 'oitocentos', 'trinta', 'mil', 'quarenta', 'quatro'])"
   ]
  },
  {
   "cell_type": "code",
   "execution_count": null,
   "metadata": {},
   "outputs": [],
   "source": [
    "centena = 0\n",
    "dezena = 0\n",
    "unidade = 0\n",
    "\n",
    "for i in range(len(texto)):\n",
    "    if texto[i] in centena_dict:\n",
    "        centena = centena_dict[texto[i]]\n",
    "        print(f'Centena: {centena}')\n",
    "\n",
    "    if texto[i] in dezena_dict:\n",
    "        dezena = dezena_dict[texto[i]]\n",
    "        print(f'Dezena: {dezena}')\n",
    "\n",
    "    if texto[i] in unidade_dict:\n",
    "        unidade = unidade_dict[texto[i]]\n",
    "        print(f'Unidade: {unidade}')\n",
    "\n",
    "    total = centena + dezena + unidade\n",
    "\n",
    "print(f'Total: {total}')"
   ]
  },
  {
   "cell_type": "code",
   "execution_count": 57,
   "metadata": {},
   "outputs": [
    {
     "name": "stdout",
     "output_type": "stream",
     "text": [
      "['mil', 'quinhetos', 'oitenta']\n",
      "['vinte', 'um', 'mil']\n",
      "['2k']\n",
      "['3m']\n",
      "['4g']\n",
      "['oitocentos', 'oitenta']\n",
      "['noventa', 'tres']\n",
      "['mil', 'oitenta', 'cinco']\n",
      "['um', 'bilhao', 'quientos', 'oitenta', 'milhoẽs', 'oitocentos', 'trinta', 'mil', 'quarenta', 'quatro']\n",
      "['dezenove', 'mil']\n",
      "['1.2m']\n",
      "['14g']\n",
      "['vinte', 'um']\n",
      "['cinco']\n",
      "['trinta', 'tres']\n",
      "['onze']\n",
      "['mil', 'novecentos', 'oitenta']\n",
      "['quarenta', 'nove', 'milhoes']\n",
      "['duzentos', 'treze']\n",
      "['treze', 'mil', 'treze']\n",
      "['treze', 'milhoes', 'trezentos', 'treze', 'mil', 'treze']\n",
      "['trezentos', 'treze']\n",
      "['cento', 'treze']\n",
      "['quinhetos', 'treze']\n",
      "['novecentos', 'de', 'treze']\n",
      "['treze']\n",
      "[]\n"
     ]
    }
   ],
   "source": [
    "arquivo = open('arquivo_texto.txt', 'r', encoding='utf-8')\n",
    "conteudo = []\n",
    "for linha in arquivo:\n",
    "    linha_tratada = tratamento(linha)\n",
    "    print(linha_tratada)\n",
    "arquivo.close()\n",
    "print(conteudo)"
   ]
  },
  {
   "cell_type": "code",
   "execution_count": 38,
   "metadata": {},
   "outputs": [],
   "source": [
    "novo_arquivo = open('arquivo_tratado.txt', 'w', encoding='utf-8')\n",
    "for el in conteudo:\n",
    "    novo_arquivo.writelines(str(el)+'\\n')\n",
    "novo_arquivo.close()"
   ]
  }
 ],
 "metadata": {
  "kernelspec": {
   "display_name": "Python 3.9.10 64-bit",
   "language": "python",
   "name": "python3"
  },
  "language_info": {
   "codemirror_mode": {
    "name": "ipython",
    "version": 3
   },
   "file_extension": ".py",
   "mimetype": "text/x-python",
   "name": "python",
   "nbconvert_exporter": "python",
   "pygments_lexer": "ipython3",
   "version": "3.9.10"
  },
  "orig_nbformat": 4,
  "vscode": {
   "interpreter": {
    "hash": "4f12edece1b6ed8dc2a09be6f356fe005f2a039c320a3a2809fb3b7d30b40e33"
   }
  }
 },
 "nbformat": 4,
 "nbformat_minor": 2
}
