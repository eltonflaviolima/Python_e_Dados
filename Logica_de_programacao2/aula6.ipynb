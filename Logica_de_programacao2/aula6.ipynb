{
 "cells": [
  {
   "cell_type": "markdown",
   "metadata": {},
   "source": [
    "## Manipulando Arquivos em Python"
   ]
  },
  {
   "cell_type": "code",
   "execution_count": 15,
   "metadata": {},
   "outputs": [
    {
     "name": "stdout",
     "output_type": "stream",
     "text": [
      "mil quientos e oitenta\n",
      "\n",
      "vinte e um mil\n",
      "\n",
      "2k\n",
      "\n",
      "3m\n",
      "\n",
      "4g\n",
      "\n",
      "oitocentos e oitenta\n",
      "\n",
      "noventa e três\n",
      "\n",
      "mil e oitenta e cinco\n",
      "\n",
      "um bilhão quientos e oitenta milhoẽs oitocentos e trinta mil e quarenta e quatro\n",
      "\n",
      "dezenove mil\n",
      "\n",
      "1.2m\n",
      "\n",
      "1,4g\n",
      "\n",
      "vinte e um\n",
      "\n",
      "cinco\n",
      "\n",
      "trinta e três\n",
      "\n",
      "onze\n",
      "\n",
      "mil novecentos e oitenta\n",
      "\n",
      "quarenta e nove milhões\n",
      "\n",
      "duzentos e treze\n",
      "\n",
      "treze mil e treze\n",
      "\n",
      "treze milhões trezentos e treze mil e treze\n",
      "\n",
      "trezentos e treze\n",
      "\n",
      "cento e treze\n",
      "\n",
      "quinhetos e treze\n",
      "\n",
      "novecentos de treze\n",
      "\n",
      "treze\n"
     ]
    }
   ],
   "source": [
    "##Iterar sobre um arquivo\n",
    "arquivo = open('arquivo.txt', 'r')\n",
    "for linha in arquivo:\n",
    "    print(linha)\n",
    "arquivo.close()"
   ]
  },
  {
   "cell_type": "code",
   "execution_count": 38,
   "metadata": {},
   "outputs": [
    {
     "data": {
      "text/plain": [
       "'mil quientos e oitenta\\nvinte e um mil\\n2k\\n3m\\n4g\\noitocentos e oitenta\\nnoventa e três\\nmil e oitenta e cinco\\num bilhão quientos e oitenta milhoẽs oitocentos e trinta mil e quarenta e quatro\\ndezenove mil\\n1.2m\\n1,4g\\nvinte e um\\ncinco\\ntrinta e três\\nonze\\nmil novecentos e oitenta\\nquarenta e nove milhões\\nduzentos e treze\\ntreze mil e treze\\ntreze milhões trezentos e treze mil e treze\\ntrezentos e treze\\ncento e treze\\nquinhetos e treze\\nnovecentos de treze\\ntreze'"
      ]
     },
     "execution_count": 38,
     "metadata": {},
     "output_type": "execute_result"
    }
   ],
   "source": [
    "#Ler todas as linhas em um única string\n",
    "arquivo = open('arquivo.txt', 'r')\n",
    "unica_string = arquivo.read()\n",
    "unica_string"
   ]
  },
  {
   "cell_type": "code",
   "execution_count": 39,
   "metadata": {},
   "outputs": [
    {
     "data": {
      "text/plain": [
       "['mil quientos e oitenta\\n',\n",
       " 'vinte e um mil\\n',\n",
       " '2k\\n',\n",
       " '3m\\n',\n",
       " '4g\\n',\n",
       " 'oitocentos e oitenta\\n',\n",
       " 'noventa e três\\n',\n",
       " 'mil e oitenta e cinco\\n',\n",
       " 'um bilhão quientos e oitenta milhoẽs oitocentos e trinta mil e quarenta e quatro\\n',\n",
       " 'dezenove mil\\n',\n",
       " '1.2m\\n',\n",
       " '1,4g\\n',\n",
       " 'vinte e um\\n',\n",
       " 'cinco\\n',\n",
       " 'trinta e três\\n',\n",
       " 'onze\\n',\n",
       " 'mil novecentos e oitenta\\n',\n",
       " 'quarenta e nove milhões\\n',\n",
       " 'duzentos e treze\\n',\n",
       " 'treze mil e treze\\n',\n",
       " 'treze milhões trezentos e treze mil e treze\\n',\n",
       " 'trezentos e treze\\n',\n",
       " 'cento e treze\\n',\n",
       " 'quinhetos e treze\\n',\n",
       " 'novecentos de treze\\n',\n",
       " 'treze']"
      ]
     },
     "execution_count": 39,
     "metadata": {},
     "output_type": "execute_result"
    }
   ],
   "source": [
    "#Ler todas as linhas em uma lista\n",
    "\n",
    "arquivo = open('arquivo.txt', 'r')\n",
    "lista = arquivo.readlines() # readlinesssssss\n",
    "lista"
   ]
  },
  {
   "cell_type": "code",
   "execution_count": 41,
   "metadata": {},
   "outputs": [
    {
     "data": {
      "text/plain": [
       "'vinte e um mil\\n'"
      ]
     },
     "execution_count": 41,
     "metadata": {},
     "output_type": "execute_result"
    }
   ],
   "source": [
    "##Ler linha a linha do arquivo\n",
    "arquivo = open('arquivo.txt', 'r')\n",
    "primeira_linha = arquivo.readline()\n",
    "segunda_linha  = arquivo.readline()\n",
    "terceira_linha = arquivo.readline()\n",
    "segunda_linha"
   ]
  },
  {
   "cell_type": "code",
   "execution_count": 16,
   "metadata": {},
   "outputs": [],
   "source": [
    "#Criar um arquivo vazio\n",
    "arquivo = open('novo-arquivo.txt', 'w')\n",
    "arquivo.close()"
   ]
  },
  {
   "cell_type": "code",
   "execution_count": 17,
   "metadata": {},
   "outputs": [],
   "source": [
    "#Apagar o conteúdo de um arquivo\n",
    "arquivo = open('novo-arquivo.txt', 'w')\n",
    "arquivo.close()"
   ]
  },
  {
   "cell_type": "code",
   "execution_count": 9,
   "metadata": {},
   "outputs": [],
   "source": [
    "##Escrever em um arquivo\n",
    "arquivo = open('novo-arquivo.txt', 'w')\n",
    "arquivo.write('nova linha')\n",
    "arquivo.close()"
   ]
  },
  {
   "cell_type": "code",
   "execution_count": 37,
   "metadata": {},
   "outputs": [],
   "source": [
    "##Inserir conteúdo ao já existente (adicionar)\n",
    "arquivo = open('nome.txt', 'r') # Abra o arquivo (leitura)\n",
    "conteudo = arquivo.readlines()\n",
    "conteudo.append('\\nNova linha')   # insira seu conteúdo\n",
    "\n",
    "arquivo = open('nome.txt', 'w') # Abre novamente o arquivo (escrita)\n",
    "arquivo.writelines(conteudo)    # escreva o conteúdo criado anteriormente nele.\n",
    "\n",
    "arquivo.close()"
   ]
  }
 ],
 "metadata": {
  "kernelspec": {
   "display_name": "Python 3.9.10 64-bit",
   "language": "python",
   "name": "python3"
  },
  "language_info": {
   "codemirror_mode": {
    "name": "ipython",
    "version": 3
   },
   "file_extension": ".py",
   "mimetype": "text/x-python",
   "name": "python",
   "nbconvert_exporter": "python",
   "pygments_lexer": "ipython3",
   "version": "3.9.10"
  },
  "orig_nbformat": 4,
  "vscode": {
   "interpreter": {
    "hash": "4f12edece1b6ed8dc2a09be6f356fe005f2a039c320a3a2809fb3b7d30b40e33"
   }
  }
 },
 "nbformat": 4,
 "nbformat_minor": 2
}
