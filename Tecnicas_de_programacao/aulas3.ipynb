{
 "cells": [
  {
   "cell_type": "code",
   "execution_count": 1,
   "metadata": {},
   "outputs": [],
   "source": [
    "import numpy as np"
   ]
  },
  {
   "cell_type": "code",
   "execution_count": 2,
   "metadata": {},
   "outputs": [
    {
     "name": "stdout",
     "output_type": "stream",
     "text": [
      "Mat\n",
      "[[72 21 28]\n",
      " [27  3 62]\n",
      " [45 38 38]]\n",
      "--------------------------------\n"
     ]
    }
   ],
   "source": [
    "mat  = np.random.randint(0, 100, (3,3))\n",
    "print('Mat')\n",
    "print(mat)\n",
    "print('-'*32)\n"
   ]
  },
  {
   "cell_type": "code",
   "execution_count": 4,
   "metadata": {},
   "outputs": [
    {
     "name": "stdout",
     "output_type": "stream",
     "text": [
      "CPU times: total: 15.6 ms\n",
      "Wall time: 6.98 ms\n"
     ]
    }
   ],
   "source": [
    "%%time\n",
    "arr = np.arange(0, 10_000)\n",
    "_ = [x**2 if x%2 == 0 else -100 for x in arr]"
   ]
  },
  {
   "cell_type": "code",
   "execution_count": 5,
   "metadata": {},
   "outputs": [
    {
     "name": "stdout",
     "output_type": "stream",
     "text": [
      "CPU times: total: 0 ns\n",
      "Wall time: 3.99 ms\n"
     ]
    }
   ],
   "source": [
    "%%time\n",
    "arr = np.arange(0, 10_000)\n",
    "_ = np.where(arr%2==0, arr**2, -100)"
   ]
  },
  {
   "cell_type": "code",
   "execution_count": 6,
   "metadata": {},
   "outputs": [
    {
     "name": "stdout",
     "output_type": "stream",
     "text": [
      "100\n",
      "1\n"
     ]
    }
   ],
   "source": [
    "pos = lambda x: x**2 if x%2==0 else -100\n",
    "var = 1\n",
    "var2 = 100 if var == 1 else -100\n",
    "print(var2)\n",
    "print(var)"
   ]
  },
  {
   "cell_type": "code",
   "execution_count": 7,
   "metadata": {},
   "outputs": [
    {
     "data": {
      "text/plain": [
       "array([-1000,   -10, -1000, -1000,    59, -1000,   -10, -1000,    71,\n",
       "          43,    43,     9,    41, -1000,    63,    19,   -10,    85,\n",
       "          55,    31,   -10,   -10, -1000,    17,    49,   -10,    35,\n",
       "          37,   -10,   -10,    73,   -10, -1000, -1000,    75, -1000,\n",
       "         -10,    91,    49,    81, -1000,    79,    39, -1000,   -10,\n",
       "          81,    53,     1,     3,   -10,   -10,   -10,    59,     9,\n",
       "         -10,    59,    73,    19,    17,    55,   -10,   -10,   -10,\n",
       "       -1000, -1000, -1000,    85,    13,   -10,    41,   -10,    63,\n",
       "         -10,    47,   -10,    23,   -10,   -10,    69, -1000,    39,\n",
       "       -1000,   -10,   -10,    89,    51,    21, -1000,    99,    61,\n",
       "          73,    93,   -10,    81,   -10,    79,    15,   -10,    75,\n",
       "          81, -1000, -1000,    25, -1000,     1,     1,     7,    67,\n",
       "         -10, -1000,   -10, -1000, -1000, -1000, -1000, -1000,   -10,\n",
       "          63, -1000,    13,   -10,    87,   -10, -1000,   -10,    41,\n",
       "           1, -1000,    89, -1000,   -10,    37,   -10,    87,    49,\n",
       "          49,   -10,    97,    15,     5,    79,    67,    49, -1000,\n",
       "          75,    41,   -10,    93,    19, -1000,    51, -1000, -1000,\n",
       "           9,    11,   -10,    93,   -10,    47,   -10,   -10,    47,\n",
       "         -10,   -10, -1000,    83,    35,    43, -1000, -1000, -1000,\n",
       "          41,   -10, -1000,    17, -1000,    63,   -10,    45, -1000,\n",
       "       -1000,    57,   -10,   -10,   -10,    77,   -10,    83,    29,\n",
       "         -10, -1000,    45, -1000,   -10,   -10, -1000,     5,    51,\n",
       "         -10,     9, -1000,   -10, -1000, -1000,   -10,    11, -1000,\n",
       "          91,   -10,    87,     3,   -10,    57,   -10,    67,    27,\n",
       "          73,    51,    79,   -10, -1000,    49,    25,   -10,    73,\n",
       "          63,   -10, -1000,   -10,    37,    65,    23, -1000,   -10,\n",
       "          59,   -10,   -10,     5,   -10,    13, -1000,    47,    31,\n",
       "          31,    25,   -10,   -10,    37, -1000,    49, -1000,   -10,\n",
       "          43,   -10,    71,    25,    61,    75, -1000,    41,     9,\n",
       "       -1000,     5, -1000,    39,    21, -1000,    57, -1000,    27,\n",
       "          55, -1000,    79, -1000,   -10,    61,    15,    91,   -10,\n",
       "         -10,    45,    95, -1000,     3,    15,   -10,   -10,    45,\n",
       "          15,   -10,    23, -1000,    21,     7,    29,    67,    99,\n",
       "          15,    21, -1000, -1000,    31,    21,     5, -1000,    21,\n",
       "          43,   -10,    61,   -10,    93,    69,    23,    49,    13,\n",
       "          93,    67,    17,    79,    61,    15,     3,    79, -1000,\n",
       "         -10,   -10,    37,    43, -1000,    39, -1000,   -10, -1000,\n",
       "          59,   -10, -1000,   -10,     7,    59,    15,    15,    37,\n",
       "          83, -1000,    43, -1000,   -10,    17,    31,    49,    21,\n",
       "         -10, -1000,   -10,    57, -1000,   -10,   -10,   -10,   -10,\n",
       "       -1000,   -10, -1000,    85,   -10,   -10,    21,    57,   -10,\n",
       "         -10,    69,   -10,    67,    15,    11,    13, -1000,    23,\n",
       "          47,   -10,   -10,    67,    93,    89,    19,    87,     7,\n",
       "       -1000,    79,   -10, -1000,   -10,    45,    91,    69,   -10,\n",
       "       -1000,   -10,    21,    59,    65,    97,    55,    17,    69,\n",
       "           5,     3,    95,    41, -1000,   -10,    39,   -10,    59,\n",
       "          97,     1,    33,   -10,    75,   -10,    69,    55,   -10,\n",
       "         -10,   -10, -1000,   -10, -1000, -1000, -1000, -1000,    33,\n",
       "       -1000,   -10, -1000,    87,    15, -1000,   -10, -1000,    15,\n",
       "       -1000,    49,   -10,   -10,   -10,    11,   -10, -1000, -1000,\n",
       "          95,    81,    69,   -10,    73,    97,    75,   -10,    85,\n",
       "         -10,    45,     7,    15,    15, -1000,   -10,   -10,    33,\n",
       "          19,    35,     7,     3,    97,    65, -1000,    51, -1000,\n",
       "          71,   -10,   -10,    89,    43,   -10,   -10,   -10,    37,\n",
       "          35, -1000,    83, -1000,    59,    49, -1000,    13,    99,\n",
       "         -10,   -10,    17,   -10,   -10,   -10,   -10, -1000,   -10,\n",
       "           5,   -10,    93, -1000,     9,     1, -1000,    93,    47,\n",
       "          15,    83,    37,   -10,    77,    19,   -10, -1000, -1000,\n",
       "       -1000,   -10,   -10,   -10, -1000,    35, -1000,    69,     7,\n",
       "          51,   -10,    57,    19, -1000,    41, -1000,    17,   -10,\n",
       "          49,    21,    67,   -10,    33,   -10,    13,    95,    47,\n",
       "          21,     1,    79,    13, -1000,    31,    81,     7, -1000,\n",
       "         -10, -1000, -1000,   -10,   -10,    91, -1000, -1000,   -10,\n",
       "       -1000, -1000, -1000,    71,    83, -1000, -1000,    95,    79,\n",
       "       -1000, -1000,   -10,    35,    37,    75, -1000,    61,   -10,\n",
       "         -10,   -10, -1000,   -10,   -10,   -10,    17,    83,     9,\n",
       "          85,   -10,    85, -1000,    45,    35, -1000,    73, -1000,\n",
       "          33,    65,   -10,   -10,    91, -1000,   -10,    43,    47,\n",
       "           9,   -10,   -10, -1000,    89,   -10,    21,    25,   -10,\n",
       "          93,   -10,    21,    95,   -10,    37,     1,   -10,    23,\n",
       "          11,    91,    57,     1, -1000,    65, -1000,    71,   -10,\n",
       "          57,   -10,   -10,    85,   -10, -1000,   -10,    61,    27,\n",
       "          85,    63, -1000,    65,   -10,   -10,    37,    65,     1,\n",
       "         -10, -1000, -1000, -1000,   -10,   -10, -1000,    43,   -10,\n",
       "           7,    65, -1000,    21,    33,   -10,   -10,   -10,    89,\n",
       "          11, -1000,    47,   -10,   -10, -1000,   -10,   -10,     7,\n",
       "         -10,    99,    95,    23,   -10,     7,     9,    71, -1000,\n",
       "         -10,   -10, -1000,    65, -1000, -1000,    67, -1000,    65,\n",
       "          91,    79,     7, -1000,   -10,    53,    81, -1000,    19,\n",
       "          99,    97,   -10,   -10,    85, -1000,    43,   -10,    75,\n",
       "          39, -1000, -1000,    95,    15,     1,   -10, -1000, -1000,\n",
       "         -10, -1000,   -10, -1000, -1000,    53,    41, -1000, -1000,\n",
       "          27,   -10,     1,    49,    39,    91,   -10,   -10,   -10,\n",
       "         -10,    19,    29,    59,    19,    87,   -10,    83, -1000,\n",
       "          43,    51, -1000,    31, -1000,    73,    59,    61,   -10,\n",
       "          15,    77,   -10, -1000,    95,    97,    29,   -10,    13,\n",
       "       -1000,   -10, -1000,    57,     7, -1000,   -10,    37,   -10,\n",
       "          95,   -10,    37,    41,    17, -1000,    57, -1000,    47,\n",
       "         -10,    49,    27,   -10,    25,    83,     3,    55,    19,\n",
       "          39,   -10, -1000,   -10, -1000, -1000, -1000,   -10,   -10,\n",
       "           7,    91,    31,    75,    25,    35,    61,    79,   -10,\n",
       "          65,   -10,    23,   -10, -1000,    53, -1000,     1, -1000,\n",
       "       -1000, -1000,    57,     9,    59,   -10,    69,    13,     9,\n",
       "         -10,    65,    49,    21,    65,     5,    97,    91,    63,\n",
       "         -10,   -10, -1000, -1000,    85,    39,   -10,    81,     9,\n",
       "         -10,    33,    49,    71,   -10,    27,   -10,    39,    45,\n",
       "         -10,    95,   -10, -1000,   -10, -1000, -1000, -1000,    49,\n",
       "          91,    65,   -10,   -10, -1000,   -10,     3, -1000,    33,\n",
       "         -10,    17, -1000,   -10,     5,    27,    13,   -10,   -10,\n",
       "          11,    43,   -10,   -10, -1000, -1000, -1000,    77,    45,\n",
       "       -1000, -1000,   -10, -1000,   -10,    93,    59,    45, -1000,\n",
       "          53,   -10,   -10,    39,    91,    13, -1000, -1000, -1000,\n",
       "         -10,   -10, -1000,    69,   -10, -1000,    17,   -10,    73,\n",
       "          87,   -10,    29, -1000,   -10,   -10,   -10,    53,   -10,\n",
       "       -1000,   -10,    53, -1000,    45, -1000,    45,    93,    55,\n",
       "          75,    41,   -10, -1000,    45, -1000,   -10, -1000,    11,\n",
       "          77,    83,    37,    93,   -10, -1000, -1000,   -10,   -10,\n",
       "         -10,   -10,   -10,   -10,    17,   -10,    81,   -10, -1000,\n",
       "          53, -1000,    83,    71, -1000,   -10,   -10,    63, -1000,\n",
       "       -1000,   -10,    25,    93,    21,   -10,    55,    31, -1000,\n",
       "         -10, -1000, -1000,   -10,    63,    91,    47,    35,    55,\n",
       "          69])"
      ]
     },
     "execution_count": 7,
     "metadata": {},
     "output_type": "execute_result"
    }
   ],
   "source": [
    "arr = np.random.randint(0, 100, 1_000)\n",
    "\n",
    "np.where((arr % 2 == 0),\n",
    "         np.where(arr > 50,\n",
    "                  -1000,\n",
    "                  -10\n",
    "                  ),\n",
    "         arr\n",
    "         )\n"
   ]
  },
  {
   "cell_type": "code",
   "execution_count": 8,
   "metadata": {},
   "outputs": [],
   "source": [
    "arr = np.array([4, 6, 2, 8])\n",
    "arr2 = np.array([2, 3, 1, 4])"
   ]
  },
  {
   "cell_type": "code",
   "execution_count": 9,
   "metadata": {},
   "outputs": [
    {
     "name": "stdout",
     "output_type": "stream",
     "text": [
      "[ 6  9  3 12]\n"
     ]
    },
    {
     "data": {
      "text/plain": [
       "[6, 9, 3, 12]"
      ]
     },
     "execution_count": 9,
     "metadata": {},
     "output_type": "execute_result"
    }
   ],
   "source": [
    "print(arr + arr2)\n",
    "\n",
    "# Em pyton ppuro seria\n",
    "[ele1 + ele2 for ele1, ele2 in zip(arr, arr2)]"
   ]
  },
  {
   "cell_type": "code",
   "execution_count": 10,
   "metadata": {},
   "outputs": [
    {
     "name": "stdout",
     "output_type": "stream",
     "text": [
      "[2 3 1 4]\n"
     ]
    },
    {
     "data": {
      "text/plain": [
       "[2, 3, 1, 4]"
      ]
     },
     "execution_count": 10,
     "metadata": {},
     "output_type": "execute_result"
    }
   ],
   "source": [
    "print(arr - arr2)\n",
    "\n",
    "# Em pyton ppuro seria\n",
    "[ele1 - ele2 for ele1, ele2 in zip(arr, arr2)]"
   ]
  },
  {
   "cell_type": "code",
   "execution_count": 11,
   "metadata": {},
   "outputs": [
    {
     "name": "stdout",
     "output_type": "stream",
     "text": [
      "[ 8 18  2 32]\n"
     ]
    },
    {
     "data": {
      "text/plain": [
       "[8, 18, 2, 32]"
      ]
     },
     "execution_count": 11,
     "metadata": {},
     "output_type": "execute_result"
    }
   ],
   "source": [
    "print(arr * arr2)\n",
    "\n",
    "# Em pyton ppuro seria\n",
    "[ele1 * ele2 for ele1, ele2 in zip(arr, arr2)]"
   ]
  },
  {
   "cell_type": "code",
   "execution_count": 12,
   "metadata": {},
   "outputs": [
    {
     "name": "stdout",
     "output_type": "stream",
     "text": [
      "[2. 2. 2. 2.]\n"
     ]
    },
    {
     "data": {
      "text/plain": [
       "[2.0, 2.0, 2.0, 2.0]"
      ]
     },
     "execution_count": 12,
     "metadata": {},
     "output_type": "execute_result"
    }
   ],
   "source": [
    "print(arr / arr2)\n",
    "\n",
    "# Em pyton ppuro seria\n",
    "[ele1 / ele2 for ele1, ele2 in zip(arr, arr2)]"
   ]
  },
  {
   "cell_type": "code",
   "execution_count": 17,
   "metadata": {},
   "outputs": [
    {
     "data": {
      "text/plain": [
       "array([[1., 0., 0.],\n",
       "       [0., 1., 0.],\n",
       "       [0., 0., 1.]])"
      ]
     },
     "execution_count": 17,
     "metadata": {},
     "output_type": "execute_result"
    }
   ],
   "source": [
    "mat_identidade = np.identity(3)\n",
    "mat_identidade\n",
    "# ou\n",
    "mat_identidade = np.eye(3)\n",
    "mat_identidade"
   ]
  },
  {
   "cell_type": "code",
   "execution_count": 18,
   "metadata": {},
   "outputs": [
    {
     "data": {
      "text/plain": [
       "array([[ 0.00094595,  0.02702703],\n",
       "       [ 0.00027027, -0.13513514]])"
      ]
     },
     "execution_count": 18,
     "metadata": {},
     "output_type": "execute_result"
    }
   ],
   "source": [
    "mat_quadrada = np.array([[1000, 200], [2, -7]])\n",
    "inv_mat_quadrada = np.linalg.inv(mat_quadrada)\n",
    "inv_mat_quadrada"
   ]
  },
  {
   "cell_type": "code",
   "execution_count": 19,
   "metadata": {},
   "outputs": [],
   "source": [
    "mat_quadrada = mat"
   ]
  },
  {
   "cell_type": "code",
   "execution_count": 20,
   "metadata": {},
   "outputs": [
    {
     "data": {
      "text/plain": [
       "-99432.00000000012"
      ]
     },
     "execution_count": 20,
     "metadata": {},
     "output_type": "execute_result"
    }
   ],
   "source": [
    "np.linalg.det(mat_quadrada)"
   ]
  },
  {
   "cell_type": "code",
   "execution_count": 25,
   "metadata": {},
   "outputs": [
    {
     "name": "stdout",
     "output_type": "stream",
     "text": [
      "* [1 4 9]\n",
      "Dot 14\n",
      "Matmul 14\n",
      "@ 14\n"
     ]
    }
   ],
   "source": [
    "arr1 = np.array([1, 2, 3])\n",
    "arr2 = np.array([1, 2, 3])\n",
    "\n",
    "print('*', arr1*arr2)\n",
    "\n",
    "# 3 Formas de se obter o produto escalar\n",
    "print('Dot', arr1.dot(arr2))\n",
    "\n",
    "print('Matmul', np.matmul(arr1, arr2))\n",
    "\n",
    "print('@', arr1 @ arr2)"
   ]
  },
  {
   "cell_type": "code",
   "execution_count": 30,
   "metadata": {},
   "outputs": [
    {
     "name": "stdout",
     "output_type": "stream",
     "text": [
      "[[1000  200]\n",
      " [   2   -7]]\n",
      "[[0 1]\n",
      " [1 0]]\n",
      "--------------------------------\n",
      "Dot\n",
      "[[ 200 1000]\n",
      " [  -7    2]]\n",
      "--------------------------------\n",
      "Matmult\n",
      "[[ 200 1000]\n",
      " [  -7    2]]\n",
      "--------------------------------\n",
      "@\n",
      "[[ 200 1000]\n",
      " [  -7    2]]\n",
      "--------------------------------\n"
     ]
    }
   ],
   "source": [
    "mat1 = np.array([[1000, 200], [2, -7]])\n",
    "mat2 = np.array([[0, 1], [1, 0]])\n",
    "\n",
    "print(mat1)\n",
    "print(mat2)\n",
    "print('-'*32)\n",
    "\n",
    "dot = mat1.dot(mat2)\n",
    "print('Dot')\n",
    "print(dot)\n",
    "print('-'*32)\n",
    "\n",
    "matmult = np.matmul(mat1, mat2)\n",
    "print('Matmult')\n",
    "print(matmult)\n",
    "print('-'*32)\n",
    "\n",
    "at = mat1 @ mat2\n",
    "print('@')\n",
    "print(at)\n",
    "print('-'*32)\n"
   ]
  },
  {
   "cell_type": "code",
   "execution_count": 35,
   "metadata": {},
   "outputs": [
    {
     "name": "stdout",
     "output_type": "stream",
     "text": [
      "[[2 0]\n",
      " [0 2]\n",
      " [2 0]]\n",
      "[[2 1 2]\n",
      " [1 1 2]]\n",
      "Dot\n",
      "[[4 2 4]\n",
      " [2 2 4]\n",
      " [4 2 4]]\n",
      "--------------------------------\n",
      "Matmult\n",
      "[[4 2 4]\n",
      " [2 2 4]\n",
      " [4 2 4]]\n",
      "--------------------------------\n",
      "@\n",
      "[[4 2 4]\n",
      " [2 2 4]\n",
      " [4 2 4]]\n",
      "--------------------------------\n",
      "\n",
      "mat1: (3, 2)\n",
      "mat2: (2, 3)\n",
      "dot: (3, 3)\n",
      "matmult: (3, 3)\n",
      "@: (3, 3)\n",
      "\n"
     ]
    }
   ],
   "source": [
    "mat1 = np.random.randint(0, 3, (3, 2))\n",
    "mat2 = np.random.randint(0, 3, (2, 3))\n",
    "\n",
    "print(mat1)\n",
    "print(mat2)\n",
    "\n",
    "#Erro \n",
    "#Erro no broadcast\n",
    "# mat1 * mat2\n",
    "\n",
    "dot = mat1.dot(mat2)\n",
    "print('Dot')\n",
    "print(dot)\n",
    "print('-'*32)\n",
    "\n",
    "matmult = np.matmul(mat1, mat2)\n",
    "print('Matmult')\n",
    "print(matmult)\n",
    "print('-'*32)\n",
    "\n",
    "at = mat1 @ mat2\n",
    "print('@')\n",
    "print(at)\n",
    "print('-'*32)\n",
    "\n",
    "print(f'''\n",
    "mat1: {mat1.shape}\n",
    "mat2: {mat2.shape}\n",
    "dot: {dot.shape}\n",
    "matmult: {matmult.shape}\n",
    "@: {at.shape}\n",
    "''')"
   ]
  },
  {
   "cell_type": "code",
   "execution_count": null,
   "metadata": {},
   "outputs": [],
   "source": [
    "array(\n",
    "    mat1[0] @ mat2[0]\n",
    "    mat1[1] @ mat2[1]\n",
    "    mat1[2] @ mat2[2]\n",
    ")"
   ]
  },
  {
   "cell_type": "code",
   "execution_count": 37,
   "metadata": {},
   "outputs": [
    {
     "ename": "ValueError",
     "evalue": "matmul: Input operand 1 has a mismatch in its core dimension 0, with gufunc signature (n?,k),(k,m?)->(n?,m?) (size 2 is different from 1)",
     "output_type": "error",
     "traceback": [
      "\u001b[1;31m---------------------------------------------------------------------------\u001b[0m",
      "\u001b[1;31mValueError\u001b[0m                                Traceback (most recent call last)",
      "Cell \u001b[1;32mIn [37], line 4\u001b[0m\n\u001b[0;32m      1\u001b[0m mat1 \u001b[39m=\u001b[39m np\u001b[39m.\u001b[39mrandom\u001b[39m.\u001b[39mrandom((\u001b[39m2\u001b[39m, \u001b[39m1\u001b[39m))\n\u001b[0;32m      2\u001b[0m mat2 \u001b[39m=\u001b[39m np\u001b[39m.\u001b[39mrandom\u001b[39m.\u001b[39mrandom((\u001b[39m2\u001b[39m, \u001b[39m1\u001b[39m))\n\u001b[1;32m----> 4\u001b[0m mat1 \u001b[39m@\u001b[39;49m mat2\n",
      "\u001b[1;31mValueError\u001b[0m: matmul: Input operand 1 has a mismatch in its core dimension 0, with gufunc signature (n?,k),(k,m?)->(n?,m?) (size 2 is different from 1)"
     ]
    }
   ],
   "source": [
    "mat1 = np.random.random((2, 1))\n",
    "mat2 = np.random.random((2, 1))\n",
    "\n",
    "mat1 @ mat2"
   ]
  },
  {
   "cell_type": "code",
   "execution_count": 43,
   "metadata": {},
   "outputs": [
    {
     "name": "stdout",
     "output_type": "stream",
     "text": [
      "[ 0.          0.20408163  0.40816327  0.6122449   0.81632653  1.02040816\n",
      "  1.2244898   1.42857143  1.63265306  1.83673469  2.04081633  2.24489796\n",
      "  2.44897959  2.65306122  2.85714286  3.06122449  3.26530612  3.46938776\n",
      "  3.67346939  3.87755102  4.08163265  4.28571429  4.48979592  4.69387755\n",
      "  4.89795918  5.10204082  5.30612245  5.51020408  5.71428571  5.91836735\n",
      "  6.12244898  6.32653061  6.53061224  6.73469388  6.93877551  7.14285714\n",
      "  7.34693878  7.55102041  7.75510204  7.95918367  8.16326531  8.36734694\n",
      "  8.57142857  8.7755102   8.97959184  9.18367347  9.3877551   9.59183673\n",
      "  9.79591837 10.        ]\n"
     ]
    }
   ],
   "source": [
    "x = np.linspace(0, 10)\n",
    "print(x)"
   ]
  },
  {
   "cell_type": "code",
   "execution_count": null,
   "metadata": {},
   "outputs": [],
   "source": [
    "funcoes = [\n",
    "    np.sin(x),\n",
    "    np.cos(x),\n",
    "    np.exp(x),\n",
    "    np.log(x),\n",
    "]"
   ]
  }
 ],
 "metadata": {
  "kernelspec": {
   "display_name": "Python 3.9.10 64-bit",
   "language": "python",
   "name": "python3"
  },
  "language_info": {
   "codemirror_mode": {
    "name": "ipython",
    "version": 3
   },
   "file_extension": ".py",
   "mimetype": "text/x-python",
   "name": "python",
   "nbconvert_exporter": "python",
   "pygments_lexer": "ipython3",
   "version": "3.9.10"
  },
  "orig_nbformat": 4,
  "vscode": {
   "interpreter": {
    "hash": "4f12edece1b6ed8dc2a09be6f356fe005f2a039c320a3a2809fb3b7d30b40e33"
   }
  }
 },
 "nbformat": 4,
 "nbformat_minor": 2
}
